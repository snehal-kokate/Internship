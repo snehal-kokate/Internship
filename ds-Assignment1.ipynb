{
 "cells": [
  {
   "cell_type": "markdown",
   "id": "1bf77845",
   "metadata": {},
   "source": [
    "# Q1.Write a python program to display all the header tags from wikipedia.org and make data frame."
   ]
  },
  {
   "cell_type": "code",
   "execution_count": 1,
   "id": "fbbe1df8",
   "metadata": {},
   "outputs": [],
   "source": [
    "from bs4 import BeautifulSoup\n",
    "import requests\n",
    "import pandas as pd\n",
    "import re"
   ]
  },
  {
   "cell_type": "code",
   "execution_count": 2,
   "id": "c05b2497",
   "metadata": {},
   "outputs": [
    {
     "data": {
      "text/plain": [
       "<Response [200]>"
      ]
     },
     "execution_count": 2,
     "metadata": {},
     "output_type": "execute_result"
    }
   ],
   "source": [
    "page = requests.get('https://en.wikipedia.org/wiki/Main_Page')\n",
    "page"
   ]
  },
  {
   "cell_type": "code",
   "execution_count": 3,
   "id": "345f93c6",
   "metadata": {},
   "outputs": [],
   "source": [
    "soup = BeautifulSoup(page.content)\n"
   ]
  },
  {
   "cell_type": "code",
   "execution_count": 4,
   "id": "64737a69",
   "metadata": {},
   "outputs": [],
   "source": [
    "# Find all header tags (h1, h2, h3, h4, h5, h6) on the page\n",
    "headers = soup.find_all(['h1', 'h2', 'h3', 'h4', 'h5', 'h6'])"
   ]
  },
  {
   "cell_type": "code",
   "execution_count": 5,
   "id": "903ca321",
   "metadata": {},
   "outputs": [],
   "source": [
    "# Extract the text from each header tag and store it in a list\n",
    "header_texts = [header.get_text() for header in headers]\n",
    "\n"
   ]
  },
  {
   "cell_type": "code",
   "execution_count": 6,
   "id": "221088d5",
   "metadata": {},
   "outputs": [
    {
     "name": "stdout",
     "output_type": "stream",
     "text": [
      "                           Header\n",
      "0                       Main Page\n",
      "1            Welcome to Wikipedia\n",
      "2   From today's featured article\n",
      "3                Did you know ...\n",
      "4                     In the news\n",
      "5                     On this day\n",
      "6      From today's featured list\n",
      "7        Today's featured picture\n",
      "8        Other areas of Wikipedia\n",
      "9     Wikipedia's sister projects\n",
      "10            Wikipedia languages\n"
     ]
    }
   ],
   "source": [
    "# Create a DataFrame from the list of header texts\n",
    "df = pd.DataFrame(header_texts, columns=['Header'])\n",
    "\n",
    "# Print the DataFrame\n",
    "print(df)"
   ]
  },
  {
   "cell_type": "markdown",
   "id": "1858ddb9",
   "metadata": {},
   "source": [
    "----------------------------------------------------------------------------------------------------------------------"
   ]
  },
  {
   "cell_type": "markdown",
   "id": "c660f675",
   "metadata": {},
   "source": [
    "Name=[]\n",
    "name = soup.find_all('h3')\n",
    "for i in name :\n",
    "    mat = re.search(r'^(.*?)\\(',i.text)\n",
    "    if mat:\n",
    "        Name.append(mat.group(1))\n",
    "\n",
    "    "
   ]
  },
  {
   "cell_type": "markdown",
   "id": "1a56eb77",
   "metadata": {},
   "source": [
    "-------------------------------------------------------------------------------------------------------------------"
   ]
  },
  {
   "cell_type": "markdown",
   "id": "24d3d499",
   "metadata": {},
   "source": [
    "# Write a python program to scrape cricket rankings from icc-cricket.com. You have to scrape and make data frame\u0002\n",
    "a) Top 10 ODI teams in men’s cricket along with the records for matches, points and rating.\n",
    "b) Top 10 ODI Batsmen along with the records of their team and rating.\n",
    "c) Top 10 ODI bowlers along with the records of their team and rating"
   ]
  },
  {
   "cell_type": "code",
   "execution_count": 9,
   "id": "620bc33a",
   "metadata": {},
   "outputs": [],
   "source": [
    "import requests\n",
    "from bs4 import BeautifulSoup\n",
    "import pandas as pd\n",
    "import selenium\n",
    "from urllib.parse import urlparse, parse_qs\n",
    "from selenium import webdriver\n",
    "import warnings\n",
    "warnings.filterwarnings('ignore')\n",
    "from selenium.webdriver.common.by import By\n",
    "import time\n",
    "from selenium.webdriver.support import expected_conditions as EC\n",
    "from selenium.common.exceptions import StaleElementReferenceException, NoSuchElementException\n",
    "import re"
   ]
  },
  {
   "cell_type": "code",
   "execution_count": 10,
   "id": "836226bf",
   "metadata": {},
   "outputs": [],
   "source": [
    "driver = webdriver.Chrome(r\"chromedriver.exe\")\n",
    "driver.get('https://www.icc-cricket.com/rankings/mens/team-rankings/odi')"
   ]
  },
  {
   "cell_type": "markdown",
   "id": "a8499b35",
   "metadata": {},
   "source": [
    " Top 10 ODI teams in men’s cricket along with the records for matches, points and rating."
   ]
  },
  {
   "cell_type": "code",
   "execution_count": 11,
   "id": "934d5000",
   "metadata": {},
   "outputs": [],
   "source": [
    "Team = []\n",
    "Matches = []\n",
    "Points = []\n",
    "Rating = []"
   ]
  },
  {
   "cell_type": "code",
   "execution_count": 12,
   "id": "2ca1f8cb",
   "metadata": {},
   "outputs": [],
   "source": [
    "team = driver.find_elements(By.XPATH,'//span[@class=\"u-hide-phablet\"]')\n",
    "for i in team:\n",
    "    Team.append(i.text)"
   ]
  },
  {
   "cell_type": "code",
   "execution_count": 13,
   "id": "2f72d8e4",
   "metadata": {},
   "outputs": [],
   "source": [
    "match = driver.find_elements(By.XPATH,'//tr[@class=\"table-body\"]//td[3]')\n",
    "for i in match:\n",
    "    Matches.append(i.text)"
   ]
  },
  {
   "cell_type": "code",
   "execution_count": 14,
   "id": "943dbe4c",
   "metadata": {},
   "outputs": [],
   "source": [
    "point = driver.find_elements(By.XPATH,'//tr[@class=\"table-body\"]//td[4]')\n",
    "for i in point:\n",
    "    Points.append(i.text)"
   ]
  },
  {
   "cell_type": "code",
   "execution_count": 15,
   "id": "53f555be",
   "metadata": {},
   "outputs": [],
   "source": [
    "rat = driver.find_elements(By.XPATH,'//tr[@class=\"table-body\"]//td[5]')\n",
    "for i in rat:\n",
    "    Rating.append(i.text)"
   ]
  },
  {
   "cell_type": "code",
   "execution_count": 16,
   "id": "f80ea987",
   "metadata": {},
   "outputs": [],
   "source": [
    "df1 = pd.DataFrame([])\n",
    "df1['Team'] = Team[:10]\n",
    "df1['Match'] =Matches[:10]\n",
    "df1['Ponits'] = Points[:10]\n",
    "df1['Ratings'] = Rating[:10]"
   ]
  },
  {
   "cell_type": "code",
   "execution_count": 17,
   "id": "f23dd986",
   "metadata": {},
   "outputs": [
    {
     "data": {
      "text/html": [
       "<div>\n",
       "<style scoped>\n",
       "    .dataframe tbody tr th:only-of-type {\n",
       "        vertical-align: middle;\n",
       "    }\n",
       "\n",
       "    .dataframe tbody tr th {\n",
       "        vertical-align: top;\n",
       "    }\n",
       "\n",
       "    .dataframe thead th {\n",
       "        text-align: right;\n",
       "    }\n",
       "</style>\n",
       "<table border=\"1\" class=\"dataframe\">\n",
       "  <thead>\n",
       "    <tr style=\"text-align: right;\">\n",
       "      <th></th>\n",
       "      <th>Team</th>\n",
       "      <th>Match</th>\n",
       "      <th>Ponits</th>\n",
       "      <th>Ratings</th>\n",
       "    </tr>\n",
       "  </thead>\n",
       "  <tbody>\n",
       "    <tr>\n",
       "      <th>0</th>\n",
       "      <td>Australia</td>\n",
       "      <td>20</td>\n",
       "      <td>2,316</td>\n",
       "      <td>116</td>\n",
       "    </tr>\n",
       "    <tr>\n",
       "      <th>1</th>\n",
       "      <td>Pakistan</td>\n",
       "      <td>33</td>\n",
       "      <td>3,807</td>\n",
       "      <td>115</td>\n",
       "    </tr>\n",
       "    <tr>\n",
       "      <th>2</th>\n",
       "      <td>India</td>\n",
       "      <td>27</td>\n",
       "      <td>2,806</td>\n",
       "      <td>104</td>\n",
       "    </tr>\n",
       "    <tr>\n",
       "      <th>3</th>\n",
       "      <td>New Zealand</td>\n",
       "      <td>24</td>\n",
       "      <td>2,426</td>\n",
       "      <td>101</td>\n",
       "    </tr>\n",
       "    <tr>\n",
       "      <th>4</th>\n",
       "      <td>England</td>\n",
       "      <td>19</td>\n",
       "      <td>1,910</td>\n",
       "      <td>101</td>\n",
       "    </tr>\n",
       "    <tr>\n",
       "      <th>5</th>\n",
       "      <td>South Africa</td>\n",
       "      <td>25</td>\n",
       "      <td>2,451</td>\n",
       "      <td>98</td>\n",
       "    </tr>\n",
       "    <tr>\n",
       "      <th>6</th>\n",
       "      <td>Bangladesh</td>\n",
       "      <td>28</td>\n",
       "      <td>2,378</td>\n",
       "      <td>85</td>\n",
       "    </tr>\n",
       "    <tr>\n",
       "      <th>7</th>\n",
       "      <td>Sri Lanka</td>\n",
       "      <td>13</td>\n",
       "      <td>1,067</td>\n",
       "      <td>82</td>\n",
       "    </tr>\n",
       "    <tr>\n",
       "      <th>8</th>\n",
       "      <td>Afghanistan</td>\n",
       "      <td>32</td>\n",
       "      <td>2,201</td>\n",
       "      <td>69</td>\n",
       "    </tr>\n",
       "    <tr>\n",
       "      <th>9</th>\n",
       "      <td>West Indies</td>\n",
       "      <td>27</td>\n",
       "      <td>1,530</td>\n",
       "      <td>57</td>\n",
       "    </tr>\n",
       "  </tbody>\n",
       "</table>\n",
       "</div>"
      ],
      "text/plain": [
       "           Team Match Ponits Ratings\n",
       "0     Australia    20  2,316     116\n",
       "1      Pakistan    33  3,807     115\n",
       "2         India    27  2,806     104\n",
       "3   New Zealand    24  2,426     101\n",
       "4       England    19  1,910     101\n",
       "5  South Africa    25  2,451      98\n",
       "6    Bangladesh    28  2,378      85\n",
       "7     Sri Lanka    13  1,067      82\n",
       "8   Afghanistan    32  2,201      69\n",
       "9   West Indies    27  1,530      57"
      ]
     },
     "execution_count": 17,
     "metadata": {},
     "output_type": "execute_result"
    }
   ],
   "source": [
    "df1"
   ]
  },
  {
   "cell_type": "code",
   "execution_count": 18,
   "id": "fd725369",
   "metadata": {},
   "outputs": [],
   "source": [
    "driver.close()"
   ]
  },
  {
   "cell_type": "markdown",
   "id": "5e2f221f",
   "metadata": {},
   "source": [
    "Top 10 ODI Batsmen along with the records of their team and rating."
   ]
  },
  {
   "cell_type": "code",
   "execution_count": 19,
   "id": "2bb31c0f",
   "metadata": {},
   "outputs": [],
   "source": [
    "driver1 = webdriver.Chrome(r\"chromedriver.exe\")\n",
    "driver1.get('https://www.icc-cricket.com/rankings/mens/player-rankings/odi/batting')"
   ]
  },
  {
   "cell_type": "code",
   "execution_count": 20,
   "id": "4e37b6f3",
   "metadata": {},
   "outputs": [],
   "source": [
    "Batsman = []\n",
    "Team = []\n",
    "Rating = []"
   ]
  },
  {
   "cell_type": "code",
   "execution_count": 21,
   "id": "d8f1d4ec",
   "metadata": {},
   "outputs": [],
   "source": [
    "bat = driver1.find_elements(By.XPATH,'//td[@class=\"table-body__cell rankings-table__name name\"]//a')\n",
    "for i in bat:\n",
    "    Batsman.append(i.text)"
   ]
  },
  {
   "cell_type": "code",
   "execution_count": 22,
   "id": "0817a75c",
   "metadata": {},
   "outputs": [],
   "source": [
    "team = driver1.find_elements(By.XPATH,'//span[@class=\"table-body__logo-text\"]')\n",
    "for i in team:\n",
    "    Team.append(i.text)"
   ]
  },
  {
   "cell_type": "code",
   "execution_count": 23,
   "id": "9850f84b",
   "metadata": {},
   "outputs": [],
   "source": [
    "rat= driver1.find_elements(By.XPATH,'//td[@class=\"table-body__cell rating\"]')\n",
    "for i in rat:\n",
    "    Rating.append(i.text)"
   ]
  },
  {
   "cell_type": "code",
   "execution_count": 24,
   "id": "f322622a",
   "metadata": {},
   "outputs": [],
   "source": [
    "df2 = pd.DataFrame([])\n",
    "df2['Batsman'] = Batsman[:10]\n",
    "df2['Team'] = Team[:10]\n",
    "df2['Rating'] = Rating[:10]"
   ]
  },
  {
   "cell_type": "code",
   "execution_count": 25,
   "id": "22fb951b",
   "metadata": {},
   "outputs": [
    {
     "data": {
      "text/html": [
       "<div>\n",
       "<style scoped>\n",
       "    .dataframe tbody tr th:only-of-type {\n",
       "        vertical-align: middle;\n",
       "    }\n",
       "\n",
       "    .dataframe tbody tr th {\n",
       "        vertical-align: top;\n",
       "    }\n",
       "\n",
       "    .dataframe thead th {\n",
       "        text-align: right;\n",
       "    }\n",
       "</style>\n",
       "<table border=\"1\" class=\"dataframe\">\n",
       "  <thead>\n",
       "    <tr style=\"text-align: right;\">\n",
       "      <th></th>\n",
       "      <th>Batsman</th>\n",
       "      <th>Team</th>\n",
       "      <th>Rating</th>\n",
       "    </tr>\n",
       "  </thead>\n",
       "  <tbody>\n",
       "    <tr>\n",
       "      <th>0</th>\n",
       "      <td>Rassie van der Dussen</td>\n",
       "      <td>SA</td>\n",
       "      <td>777</td>\n",
       "    </tr>\n",
       "    <tr>\n",
       "      <th>1</th>\n",
       "      <td>Fakhar Zaman</td>\n",
       "      <td>PAK</td>\n",
       "      <td>755</td>\n",
       "    </tr>\n",
       "    <tr>\n",
       "      <th>2</th>\n",
       "      <td>Imam-ul-Haq</td>\n",
       "      <td>PAK</td>\n",
       "      <td>745</td>\n",
       "    </tr>\n",
       "    <tr>\n",
       "      <th>3</th>\n",
       "      <td>Shubman Gill</td>\n",
       "      <td>IND</td>\n",
       "      <td>738</td>\n",
       "    </tr>\n",
       "    <tr>\n",
       "      <th>4</th>\n",
       "      <td>Harry Tector</td>\n",
       "      <td>IRE</td>\n",
       "      <td>726</td>\n",
       "    </tr>\n",
       "    <tr>\n",
       "      <th>5</th>\n",
       "      <td>David Warner</td>\n",
       "      <td>AUS</td>\n",
       "      <td>726</td>\n",
       "    </tr>\n",
       "    <tr>\n",
       "      <th>6</th>\n",
       "      <td>Virat Kohli</td>\n",
       "      <td>IND</td>\n",
       "      <td>719</td>\n",
       "    </tr>\n",
       "    <tr>\n",
       "      <th>7</th>\n",
       "      <td>Quinton de Kock</td>\n",
       "      <td>SA</td>\n",
       "      <td>718</td>\n",
       "    </tr>\n",
       "    <tr>\n",
       "      <th>8</th>\n",
       "      <td>Rohit Sharma</td>\n",
       "      <td>IND</td>\n",
       "      <td>707</td>\n",
       "    </tr>\n",
       "    <tr>\n",
       "      <th>9</th>\n",
       "      <td>Steve Smith</td>\n",
       "      <td>AUS</td>\n",
       "      <td>702</td>\n",
       "    </tr>\n",
       "  </tbody>\n",
       "</table>\n",
       "</div>"
      ],
      "text/plain": [
       "                 Batsman Team Rating\n",
       "0  Rassie van der Dussen   SA    777\n",
       "1           Fakhar Zaman  PAK    755\n",
       "2            Imam-ul-Haq  PAK    745\n",
       "3           Shubman Gill  IND    738\n",
       "4           Harry Tector  IRE    726\n",
       "5           David Warner  AUS    726\n",
       "6            Virat Kohli  IND    719\n",
       "7        Quinton de Kock   SA    718\n",
       "8           Rohit Sharma  IND    707\n",
       "9            Steve Smith  AUS    702"
      ]
     },
     "execution_count": 25,
     "metadata": {},
     "output_type": "execute_result"
    }
   ],
   "source": [
    "df2"
   ]
  },
  {
   "cell_type": "code",
   "execution_count": 26,
   "id": "bf65459b",
   "metadata": {},
   "outputs": [],
   "source": [
    "driver1.close()"
   ]
  },
  {
   "cell_type": "code",
   "execution_count": 27,
   "id": "1e273757",
   "metadata": {},
   "outputs": [],
   "source": [
    "driver2 = webdriver.Chrome(r\"chromedriver.exe\")\n",
    "driver2.get('https://www.icc-cricket.com/rankings/mens/player-rankings/odi/bowling')"
   ]
  },
  {
   "cell_type": "code",
   "execution_count": 28,
   "id": "a17e1033",
   "metadata": {},
   "outputs": [],
   "source": [
    "Bowlers = []\n",
    "Team = []\n",
    "Rating = []"
   ]
  },
  {
   "cell_type": "code",
   "execution_count": 29,
   "id": "22a3d03a",
   "metadata": {},
   "outputs": [],
   "source": [
    "boll = driver2.find_elements(By.XPATH,'//td[@class=\"table-body__cell rankings-table__name name\"]')\n",
    "for i in boll:\n",
    "    Bowlers.append(i.text)"
   ]
  },
  {
   "cell_type": "code",
   "execution_count": 30,
   "id": "b0cf4f58",
   "metadata": {},
   "outputs": [],
   "source": [
    "team = driver2.find_elements(By.XPATH,'//span[@class=\"table-body__logo-text\"]')\n",
    "for i in team:\n",
    "    Team.append(i.text)"
   ]
  },
  {
   "cell_type": "code",
   "execution_count": 31,
   "id": "b7749a02",
   "metadata": {},
   "outputs": [],
   "source": [
    "rat = driver2.find_elements(By.XPATH,'//td[@class=\"table-body__cell rating\"]')\n",
    "for i in rat:\n",
    "    Rating.append(i.text)"
   ]
  },
  {
   "cell_type": "code",
   "execution_count": 32,
   "id": "06bb8a65",
   "metadata": {},
   "outputs": [],
   "source": [
    "df3 = pd.DataFrame([])\n",
    "df3['Bowlers'] = Bowlers[:10]\n",
    "df3['Team'] = Team[:10]\n",
    "df3['Rating'] = Rating[:10]"
   ]
  },
  {
   "cell_type": "code",
   "execution_count": 33,
   "id": "ae9180c9",
   "metadata": {},
   "outputs": [
    {
     "data": {
      "text/html": [
       "<div>\n",
       "<style scoped>\n",
       "    .dataframe tbody tr th:only-of-type {\n",
       "        vertical-align: middle;\n",
       "    }\n",
       "\n",
       "    .dataframe tbody tr th {\n",
       "        vertical-align: top;\n",
       "    }\n",
       "\n",
       "    .dataframe thead th {\n",
       "        text-align: right;\n",
       "    }\n",
       "</style>\n",
       "<table border=\"1\" class=\"dataframe\">\n",
       "  <thead>\n",
       "    <tr style=\"text-align: right;\">\n",
       "      <th></th>\n",
       "      <th>Bowlers</th>\n",
       "      <th>Team</th>\n",
       "      <th>Rating</th>\n",
       "    </tr>\n",
       "  </thead>\n",
       "  <tbody>\n",
       "    <tr>\n",
       "      <th>0</th>\n",
       "      <td>Mohammed Siraj</td>\n",
       "      <td>IND</td>\n",
       "      <td>691</td>\n",
       "    </tr>\n",
       "    <tr>\n",
       "      <th>1</th>\n",
       "      <td>Mitchell Starc</td>\n",
       "      <td>AUS</td>\n",
       "      <td>686</td>\n",
       "    </tr>\n",
       "    <tr>\n",
       "      <th>2</th>\n",
       "      <td>Matt Henry</td>\n",
       "      <td>NZ</td>\n",
       "      <td>667</td>\n",
       "    </tr>\n",
       "    <tr>\n",
       "      <th>3</th>\n",
       "      <td>Trent Boult</td>\n",
       "      <td>NZ</td>\n",
       "      <td>660</td>\n",
       "    </tr>\n",
       "    <tr>\n",
       "      <th>4</th>\n",
       "      <td>Adam Zampa</td>\n",
       "      <td>AUS</td>\n",
       "      <td>652</td>\n",
       "    </tr>\n",
       "    <tr>\n",
       "      <th>5</th>\n",
       "      <td>Rashid Khan</td>\n",
       "      <td>AFG</td>\n",
       "      <td>640</td>\n",
       "    </tr>\n",
       "    <tr>\n",
       "      <th>6</th>\n",
       "      <td>Shaheen Afridi</td>\n",
       "      <td>PAK</td>\n",
       "      <td>630</td>\n",
       "    </tr>\n",
       "    <tr>\n",
       "      <th>7</th>\n",
       "      <td>Mujeeb Ur Rahman</td>\n",
       "      <td>AFG</td>\n",
       "      <td>630</td>\n",
       "    </tr>\n",
       "    <tr>\n",
       "      <th>8</th>\n",
       "      <td>Mohammad Nabi</td>\n",
       "      <td>AFG</td>\n",
       "      <td>626</td>\n",
       "    </tr>\n",
       "    <tr>\n",
       "      <th>9</th>\n",
       "      <td>Mark Watt</td>\n",
       "      <td>SCO</td>\n",
       "      <td>621</td>\n",
       "    </tr>\n",
       "  </tbody>\n",
       "</table>\n",
       "</div>"
      ],
      "text/plain": [
       "            Bowlers Team Rating\n",
       "0    Mohammed Siraj  IND    691\n",
       "1    Mitchell Starc  AUS    686\n",
       "2        Matt Henry   NZ    667\n",
       "3       Trent Boult   NZ    660\n",
       "4        Adam Zampa  AUS    652\n",
       "5       Rashid Khan  AFG    640\n",
       "6    Shaheen Afridi  PAK    630\n",
       "7  Mujeeb Ur Rahman  AFG    630\n",
       "8     Mohammad Nabi  AFG    626\n",
       "9         Mark Watt  SCO    621"
      ]
     },
     "execution_count": 33,
     "metadata": {},
     "output_type": "execute_result"
    }
   ],
   "source": [
    "df3"
   ]
  },
  {
   "cell_type": "code",
   "execution_count": 34,
   "id": "6ebd8d11",
   "metadata": {},
   "outputs": [],
   "source": [
    "driver2.close()"
   ]
  },
  {
   "cell_type": "markdown",
   "id": "75fb35e4",
   "metadata": {},
   "source": [
    "# Write a python program to scrape cricket rankings from icc-cricket.com. You have to scrape and make data frame\u0002\n",
    "a) Top 10 ODI teams in women’s cricket along with the records for matches, points and rating.\n",
    "b) Top 10 women’s ODI Batting players along with the records of their team and rating.\n",
    "c) Top 10 women’s ODI all-rounder along with the records of their team and rating."
   ]
  },
  {
   "cell_type": "code",
   "execution_count": 35,
   "id": "553c7076",
   "metadata": {},
   "outputs": [],
   "source": [
    "driver = webdriver.Chrome(r\"chromedriver.exe\")\n",
    "driver.get('https://www.icc-cricket.com/rankings/womens/team-rankings/odi')"
   ]
  },
  {
   "cell_type": "markdown",
   "id": "da7c6cf8",
   "metadata": {},
   "source": [
    "a]Top 10 ODI teams in women’s cricket along with the records for matches, points and rating."
   ]
  },
  {
   "cell_type": "code",
   "execution_count": 36,
   "id": "f79665cb",
   "metadata": {},
   "outputs": [],
   "source": [
    "Team = []\n",
    "Match = []\n",
    "Points = []\n",
    "Rate = []"
   ]
  },
  {
   "cell_type": "code",
   "execution_count": 37,
   "id": "73c3b53f",
   "metadata": {},
   "outputs": [],
   "source": [
    "team = driver.find_elements(By.XPATH,'//span[@class=\"u-hide-phablet\"]')\n",
    "for i in team:\n",
    "    Team.append(i.text)"
   ]
  },
  {
   "cell_type": "code",
   "execution_count": 38,
   "id": "1b8cb776",
   "metadata": {},
   "outputs": [],
   "source": [
    "mat = driver.find_elements(By.XPATH,'//tr[@class=\"table-body\"]//td[3]')\n",
    "for i in mat:\n",
    "    Match.append(i.text)"
   ]
  },
  {
   "cell_type": "code",
   "execution_count": 39,
   "id": "91586dae",
   "metadata": {},
   "outputs": [],
   "source": [
    "point = driver.find_elements(By.XPATH,'//tr[@class=\"table-body\"]//td[4]')\n",
    "for i in point:\n",
    "    Points.append(i.text)"
   ]
  },
  {
   "cell_type": "code",
   "execution_count": 40,
   "id": "8c583474",
   "metadata": {},
   "outputs": [],
   "source": [
    "rat = driver.find_elements(By.XPATH,'//tr[@class=\"table-body\"]//td[5]')\n",
    "for i in rat:\n",
    "    Rate.append(i.text)"
   ]
  },
  {
   "cell_type": "code",
   "execution_count": 41,
   "id": "68265540",
   "metadata": {},
   "outputs": [],
   "source": [
    "df = pd.DataFrame([])\n",
    "df['Team'] = Team[:10]\n",
    "df['Match'] = Match[:10]\n",
    "df['Points'] = Points[:10]\n",
    "df['Ratings'] = Rate[:10]"
   ]
  },
  {
   "cell_type": "code",
   "execution_count": 42,
   "id": "5d81d25d",
   "metadata": {},
   "outputs": [
    {
     "data": {
      "text/html": [
       "<div>\n",
       "<style scoped>\n",
       "    .dataframe tbody tr th:only-of-type {\n",
       "        vertical-align: middle;\n",
       "    }\n",
       "\n",
       "    .dataframe tbody tr th {\n",
       "        vertical-align: top;\n",
       "    }\n",
       "\n",
       "    .dataframe thead th {\n",
       "        text-align: right;\n",
       "    }\n",
       "</style>\n",
       "<table border=\"1\" class=\"dataframe\">\n",
       "  <thead>\n",
       "    <tr style=\"text-align: right;\">\n",
       "      <th></th>\n",
       "      <th>Team</th>\n",
       "      <th>Match</th>\n",
       "      <th>Points</th>\n",
       "      <th>Ratings</th>\n",
       "    </tr>\n",
       "  </thead>\n",
       "  <tbody>\n",
       "    <tr>\n",
       "      <th>0</th>\n",
       "      <td>Australia</td>\n",
       "      <td>28</td>\n",
       "      <td>3,342</td>\n",
       "      <td>119</td>\n",
       "    </tr>\n",
       "    <tr>\n",
       "      <th>1</th>\n",
       "      <td>England</td>\n",
       "      <td>26</td>\n",
       "      <td>3,098</td>\n",
       "      <td>119</td>\n",
       "    </tr>\n",
       "    <tr>\n",
       "      <th>2</th>\n",
       "      <td>South Africa</td>\n",
       "      <td>27</td>\n",
       "      <td>2,820</td>\n",
       "      <td>104</td>\n",
       "    </tr>\n",
       "    <tr>\n",
       "      <th>3</th>\n",
       "      <td>India</td>\n",
       "      <td>28</td>\n",
       "      <td>2,688</td>\n",
       "      <td>96</td>\n",
       "    </tr>\n",
       "    <tr>\n",
       "      <th>4</th>\n",
       "      <td>New Zealand</td>\n",
       "      <td>29</td>\n",
       "      <td>2,743</td>\n",
       "      <td>95</td>\n",
       "    </tr>\n",
       "    <tr>\n",
       "      <th>5</th>\n",
       "      <td>West Indies</td>\n",
       "      <td>14</td>\n",
       "      <td>977</td>\n",
       "      <td>70</td>\n",
       "    </tr>\n",
       "    <tr>\n",
       "      <th>6</th>\n",
       "      <td>Bangladesh</td>\n",
       "      <td>12</td>\n",
       "      <td>820</td>\n",
       "      <td>68</td>\n",
       "    </tr>\n",
       "    <tr>\n",
       "      <th>7</th>\n",
       "      <td>Sri Lanka</td>\n",
       "      <td>12</td>\n",
       "      <td>806</td>\n",
       "      <td>67</td>\n",
       "    </tr>\n",
       "    <tr>\n",
       "      <th>8</th>\n",
       "      <td>Thailand</td>\n",
       "      <td>27</td>\n",
       "      <td>1,678</td>\n",
       "      <td>62</td>\n",
       "    </tr>\n",
       "    <tr>\n",
       "      <th>9</th>\n",
       "      <td>Pakistan</td>\n",
       "      <td>16</td>\n",
       "      <td>605</td>\n",
       "      <td>38</td>\n",
       "    </tr>\n",
       "  </tbody>\n",
       "</table>\n",
       "</div>"
      ],
      "text/plain": [
       "           Team Match Points Ratings\n",
       "0     Australia    28  3,342     119\n",
       "1       England    26  3,098     119\n",
       "2  South Africa    27  2,820     104\n",
       "3         India    28  2,688      96\n",
       "4   New Zealand    29  2,743      95\n",
       "5   West Indies    14    977      70\n",
       "6    Bangladesh    12    820      68\n",
       "7     Sri Lanka    12    806      67\n",
       "8      Thailand    27  1,678      62\n",
       "9      Pakistan    16    605      38"
      ]
     },
     "execution_count": 42,
     "metadata": {},
     "output_type": "execute_result"
    }
   ],
   "source": [
    "df"
   ]
  },
  {
   "cell_type": "code",
   "execution_count": 43,
   "id": "98cb981e",
   "metadata": {},
   "outputs": [],
   "source": [
    "driver.close()"
   ]
  },
  {
   "cell_type": "code",
   "execution_count": 44,
   "id": "c190bcea",
   "metadata": {},
   "outputs": [],
   "source": [
    "driver = webdriver.Chrome(r\"chromedriver.exe\")\n",
    "driver.get('https://www.icc-cricket.com/rankings/womens/player-rankings/odi/batting')"
   ]
  },
  {
   "cell_type": "code",
   "execution_count": 45,
   "id": "49c408bf",
   "metadata": {},
   "outputs": [],
   "source": [
    "Play = []\n",
    "Team = []\n",
    "Rate = []"
   ]
  },
  {
   "cell_type": "code",
   "execution_count": 46,
   "id": "dc6cf1a1",
   "metadata": {},
   "outputs": [],
   "source": [
    "player = driver.find_elements(By.XPATH,'//td[@class=\"table-body__cell rankings-table__name name\"]//a')\n",
    "for i in player:\n",
    "    Play.append(i.text)"
   ]
  },
  {
   "cell_type": "code",
   "execution_count": 47,
   "id": "7eeb89b6",
   "metadata": {},
   "outputs": [],
   "source": [
    "team = driver.find_elements(By.XPATH,'//span[@class=\"table-body__logo-text\"]')\n",
    "for i in team:\n",
    "    Team.append(i.text)"
   ]
  },
  {
   "cell_type": "code",
   "execution_count": 48,
   "id": "f3516c37",
   "metadata": {},
   "outputs": [],
   "source": [
    "rate = driver.find_elements(By.XPATH,'//td[@class=\"table-body__cell rating\"]')\n",
    "for i in rate:\n",
    "    Rate.append(i.text)"
   ]
  },
  {
   "cell_type": "code",
   "execution_count": 49,
   "id": "bb78779c",
   "metadata": {},
   "outputs": [],
   "source": [
    "df = pd.DataFrame([])\n",
    "df['Player'] = Play[:10]\n",
    "df['Team'] = Team[:10]\n",
    "df['Ratings'] = Rate[:10]\n"
   ]
  },
  {
   "cell_type": "code",
   "execution_count": 50,
   "id": "6ac9fa86",
   "metadata": {},
   "outputs": [
    {
     "data": {
      "text/html": [
       "<div>\n",
       "<style scoped>\n",
       "    .dataframe tbody tr th:only-of-type {\n",
       "        vertical-align: middle;\n",
       "    }\n",
       "\n",
       "    .dataframe tbody tr th {\n",
       "        vertical-align: top;\n",
       "    }\n",
       "\n",
       "    .dataframe thead th {\n",
       "        text-align: right;\n",
       "    }\n",
       "</style>\n",
       "<table border=\"1\" class=\"dataframe\">\n",
       "  <thead>\n",
       "    <tr style=\"text-align: right;\">\n",
       "      <th></th>\n",
       "      <th>Player</th>\n",
       "      <th>Team</th>\n",
       "      <th>Ratings</th>\n",
       "    </tr>\n",
       "  </thead>\n",
       "  <tbody>\n",
       "    <tr>\n",
       "      <th>0</th>\n",
       "      <td>Beth Mooney</td>\n",
       "      <td>AUS</td>\n",
       "      <td>754</td>\n",
       "    </tr>\n",
       "    <tr>\n",
       "      <th>1</th>\n",
       "      <td>Laura Wolvaardt</td>\n",
       "      <td>SA</td>\n",
       "      <td>732</td>\n",
       "    </tr>\n",
       "    <tr>\n",
       "      <th>2</th>\n",
       "      <td>Natalie Sciver</td>\n",
       "      <td>ENG</td>\n",
       "      <td>731</td>\n",
       "    </tr>\n",
       "    <tr>\n",
       "      <th>3</th>\n",
       "      <td>Meg Lanning</td>\n",
       "      <td>AUS</td>\n",
       "      <td>717</td>\n",
       "    </tr>\n",
       "    <tr>\n",
       "      <th>4</th>\n",
       "      <td>Harmanpreet Kaur</td>\n",
       "      <td>IND</td>\n",
       "      <td>716</td>\n",
       "    </tr>\n",
       "    <tr>\n",
       "      <th>5</th>\n",
       "      <td>Smriti Mandhana</td>\n",
       "      <td>IND</td>\n",
       "      <td>714</td>\n",
       "    </tr>\n",
       "    <tr>\n",
       "      <th>6</th>\n",
       "      <td>Ellyse Perry</td>\n",
       "      <td>AUS</td>\n",
       "      <td>626</td>\n",
       "    </tr>\n",
       "    <tr>\n",
       "      <th>7</th>\n",
       "      <td>Stafanie Taylor</td>\n",
       "      <td>WI</td>\n",
       "      <td>618</td>\n",
       "    </tr>\n",
       "    <tr>\n",
       "      <th>8</th>\n",
       "      <td>Tammy Beaumont</td>\n",
       "      <td>ENG</td>\n",
       "      <td>595</td>\n",
       "    </tr>\n",
       "    <tr>\n",
       "      <th>9</th>\n",
       "      <td>Amelia Kerr</td>\n",
       "      <td>NZ</td>\n",
       "      <td>591</td>\n",
       "    </tr>\n",
       "  </tbody>\n",
       "</table>\n",
       "</div>"
      ],
      "text/plain": [
       "             Player Team Ratings\n",
       "0       Beth Mooney  AUS     754\n",
       "1   Laura Wolvaardt   SA     732\n",
       "2    Natalie Sciver  ENG     731\n",
       "3       Meg Lanning  AUS     717\n",
       "4  Harmanpreet Kaur  IND     716\n",
       "5   Smriti Mandhana  IND     714\n",
       "6      Ellyse Perry  AUS     626\n",
       "7   Stafanie Taylor   WI     618\n",
       "8    Tammy Beaumont  ENG     595\n",
       "9       Amelia Kerr   NZ     591"
      ]
     },
     "execution_count": 50,
     "metadata": {},
     "output_type": "execute_result"
    }
   ],
   "source": [
    "df"
   ]
  },
  {
   "cell_type": "code",
   "execution_count": 51,
   "id": "9260affd",
   "metadata": {},
   "outputs": [],
   "source": [
    "driver.close()"
   ]
  },
  {
   "cell_type": "markdown",
   "id": "21bb2e9e",
   "metadata": {},
   "source": [
    "# Write a python program to scrape mentioned news details from https://www.cnbc.com/world/?region=world and make data frame\n"
   ]
  },
  {
   "cell_type": "code",
   "execution_count": 52,
   "id": "c6a75b51",
   "metadata": {},
   "outputs": [],
   "source": [
    "driver = webdriver.Chrome(r\"chromedriver.exe\")\n",
    "driver.get('https://www.cnbc.com/world/?region=world')"
   ]
  },
  {
   "cell_type": "code",
   "execution_count": 53,
   "id": "75074eeb",
   "metadata": {},
   "outputs": [],
   "source": [
    "Head = []\n",
    "Time = []\n",
    "Link = []"
   ]
  },
  {
   "cell_type": "code",
   "execution_count": 54,
   "id": "1dc8d114",
   "metadata": {},
   "outputs": [],
   "source": [
    "#Scrap news Headlins\n",
    "head = driver.find_elements(By.XPATH,'//a[@class=\"LatestNews-headline\"]')\n",
    "for i in head:\n",
    "    Head.append(i.text)"
   ]
  },
  {
   "cell_type": "code",
   "execution_count": 55,
   "id": "ec702354",
   "metadata": {},
   "outputs": [],
   "source": [
    "time = driver.find_elements(By.XPATH,'//span[@class=\"LatestNews-wrapper\"]')\n",
    "for i in time:\n",
    "    Time.append(i.text)"
   ]
  },
  {
   "cell_type": "code",
   "execution_count": 56,
   "id": "c9df1c57",
   "metadata": {},
   "outputs": [],
   "source": [
    "#Scrap Links of News\n",
    "links = driver.find_elements(By.CLASS_NAME, \"LatestNews-headline\")\n",
    "for i in links:\n",
    "    href = i.get_attribute('href')\n",
    "    Link.append(href)"
   ]
  },
  {
   "cell_type": "code",
   "execution_count": 57,
   "id": "35104367",
   "metadata": {},
   "outputs": [
    {
     "data": {
      "text/plain": [
       "['https://www.cnbc.com/2023/07/07/we-would-not-stand-idly-by-lagarde-pledges-ecb-action-if-both-profits-and-wages-rise.html',\n",
       " 'https://www.cnbc.com/2023/07/07/us-treasury-yields-investors-await-junes-jobs-report.html',\n",
       " 'https://www.cnbc.com/2023/07/07/us-treasury-secretary-janet-yellen-meets-chinese-premier-li-qiang.html',\n",
       " 'https://www.cnbc.com/2023/07/07/ukraine-war-live-updates-latest-news-on-russia-and-the-war-in-ukraine.html',\n",
       " 'https://www.cnbc.com/2023/07/07/stock-markets-jobs-are-still-growing-uncontrollably.html',\n",
       " 'https://www.cnbc.com/2023/07/07/yellen-says-shes-concerned-about-chinas-new-export-controls.html',\n",
       " 'https://www.cnbc.com/2023/07/07/european-markets-set-to-open-higher-after-thursdays-sharp-losses.html',\n",
       " 'https://www.cnbc.com/2023/07/07/yellens-visit-to-china-is-crucial-to-us-china-engagement-professor-says.html',\n",
       " 'https://www.cnbc.com/2023/07/07/germanys-economy-is-stagnating-and-these-5-charts-show-how.html',\n",
       " 'https://www.cnbc.com/2023/07/07/samsung-estimates-profits-plunged-96percent-in-the-second-quarter.html',\n",
       " 'https://www.cnbc.com/2023/07/07/sri-lankas-central-bank-says-more-rate-cuts-needed-to-boost-economy.html',\n",
       " 'https://www.cnbc.com/2023/07/07/zoom-optimistic-about-growth-in-asia-pacific-despite-weaker-outlook.html',\n",
       " 'https://www.cnbc.com/2023/07/07/taiwan-conflict-will-hit-japan-philippines-south-korea-hardest-eiu.html',\n",
       " 'https://www.cnbc.com/2023/07/07/nice-workplace-culture-may-be-toxic-says-nyu-professor-.html',\n",
       " 'https://www.cnbc.com/2023/07/06/cramers-lightning-round-ferrari-is-a-true-juggernaut.html',\n",
       " 'https://www.cnbc.com/2023/07/07/morgan-stanley-reveals-6-of-its-top-china-stocks-including-a-chipmaker-it-expects-to-soar-80percent.html',\n",
       " 'https://www.cnbc.com/2023/07/07/jpmorgan-these-cheap-global-sectors-will-outperform.html',\n",
       " 'https://www.cnbc.com/2023/07/07/ai-stocks-goldman-shares-stocks-with-exposure-to-generative-artificial-intelligence.html',\n",
       " 'https://www.cnbc.com/2023/07/07/asia-markets.html',\n",
       " 'https://www.cnbc.com/2023/07/06/levis-ceo-is-optimistic-about-business-in-china.html',\n",
       " 'https://www.cnbc.com/2023/07/07/stock-markets-jobs-jobs-and-more-jobs.html',\n",
       " 'https://www.cnbc.com/2023/07/06/cramer-dont-get-distracted-by-nonsense-watch-the-june-jobs-report.html',\n",
       " 'https://www.cnbc.com/2023/07/07/why-japan-is-lagging-behind-in-generative-ai-and-creation-of-llms.html',\n",
       " 'https://www.cnbc.com/2023/07/07/southeast-asias-ipo-market-an-investor-favorite-amid-global-headwinds-deloitte.html',\n",
       " 'https://www.cnbc.com/2023/07/06/amazon-ceo-explains-how-the-company-will-compete-in-ai-race-.html',\n",
       " 'https://www.cnbc.com/2023/07/06/microsoft-cfo-amy-hood-warned-employees-not-to-build-a-gold-toilet.html',\n",
       " 'https://www.cnbc.com/2023/07/06/stock-market-today-live-updates.html',\n",
       " 'https://www.cnbc.com/2023/07/06/meta-touches-17-month-high-after-threads-launch-what-the-pros-are-saying.html',\n",
       " 'https://www.cnbc.com/2023/07/06/containerships-diverted-from-vancouver-amid-port-strikes-headed-for-seattle.html',\n",
       " 'https://www.cnbc.com/2023/07/06/fda-approves-alzheimers-drug-leqembi-from-eisai-biogen.html']"
      ]
     },
     "execution_count": 57,
     "metadata": {},
     "output_type": "execute_result"
    }
   ],
   "source": [
    "Link"
   ]
  },
  {
   "cell_type": "code",
   "execution_count": 58,
   "id": "fe9ad46b",
   "metadata": {},
   "outputs": [],
   "source": [
    "df = pd.DataFrame([])\n",
    "df['Headlines'] = Head[:10]\n",
    "df['Time'] = Time[:10]\n",
    "df['News Links'] = Link[:10]"
   ]
  },
  {
   "cell_type": "code",
   "execution_count": 59,
   "id": "730cfb3a",
   "metadata": {},
   "outputs": [
    {
     "data": {
      "text/html": [
       "<div>\n",
       "<style scoped>\n",
       "    .dataframe tbody tr th:only-of-type {\n",
       "        vertical-align: middle;\n",
       "    }\n",
       "\n",
       "    .dataframe tbody tr th {\n",
       "        vertical-align: top;\n",
       "    }\n",
       "\n",
       "    .dataframe thead th {\n",
       "        text-align: right;\n",
       "    }\n",
       "</style>\n",
       "<table border=\"1\" class=\"dataframe\">\n",
       "  <thead>\n",
       "    <tr style=\"text-align: right;\">\n",
       "      <th></th>\n",
       "      <th>Headlines</th>\n",
       "      <th>Time</th>\n",
       "      <th>News Links</th>\n",
       "    </tr>\n",
       "  </thead>\n",
       "  <tbody>\n",
       "    <tr>\n",
       "      <th>0</th>\n",
       "      <td>‘We would not stand idly by’: Lagarde pledges ...</td>\n",
       "      <td>19 MIN AGO</td>\n",
       "      <td>https://www.cnbc.com/2023/07/07/we-would-not-s...</td>\n",
       "    </tr>\n",
       "    <tr>\n",
       "      <th>1</th>\n",
       "      <td>2-year Treasury yield dips as investors await ...</td>\n",
       "      <td>51 MIN AGO</td>\n",
       "      <td>https://www.cnbc.com/2023/07/07/us-treasury-yi...</td>\n",
       "    </tr>\n",
       "    <tr>\n",
       "      <th>2</th>\n",
       "      <td>U.S. Treasury Secretary Janet Yellen meets Chi...</td>\n",
       "      <td>58 MIN AGO</td>\n",
       "      <td>https://www.cnbc.com/2023/07/07/us-treasury-se...</td>\n",
       "    </tr>\n",
       "    <tr>\n",
       "      <th>3</th>\n",
       "      <td>U.S. considers sending cluster bombs to Ukrain...</td>\n",
       "      <td>3 HOURS AGO</td>\n",
       "      <td>https://www.cnbc.com/2023/07/07/ukraine-war-li...</td>\n",
       "    </tr>\n",
       "    <tr>\n",
       "      <th>4</th>\n",
       "      <td>CNBC Daily Open: Jobs are still growing uncont...</td>\n",
       "      <td>3 HOURS AGO</td>\n",
       "      <td>https://www.cnbc.com/2023/07/07/stock-markets-...</td>\n",
       "    </tr>\n",
       "    <tr>\n",
       "      <th>5</th>\n",
       "      <td>Yellen says she’s ‘concerned’ about China’s ne...</td>\n",
       "      <td>4 HOURS AGO</td>\n",
       "      <td>https://www.cnbc.com/2023/07/07/yellen-says-sh...</td>\n",
       "    </tr>\n",
       "    <tr>\n",
       "      <th>6</th>\n",
       "      <td>European markets soften after Thursday’s sharp...</td>\n",
       "      <td>4 HOURS AGO</td>\n",
       "      <td>https://www.cnbc.com/2023/07/07/european-marke...</td>\n",
       "    </tr>\n",
       "    <tr>\n",
       "      <th>7</th>\n",
       "      <td>Yellen’s visit to China is ‘crucial’ to U.S.-C...</td>\n",
       "      <td>4 HOURS AGO</td>\n",
       "      <td>https://www.cnbc.com/2023/07/07/yellens-visit-...</td>\n",
       "    </tr>\n",
       "    <tr>\n",
       "      <th>8</th>\n",
       "      <td>Germany’s economy is stagnating. And these 5 c...</td>\n",
       "      <td>5 HOURS AGO</td>\n",
       "      <td>https://www.cnbc.com/2023/07/07/germanys-econo...</td>\n",
       "    </tr>\n",
       "    <tr>\n",
       "      <th>9</th>\n",
       "      <td>Samsung estimates profits plunged 96% in the s...</td>\n",
       "      <td>6 HOURS AGO</td>\n",
       "      <td>https://www.cnbc.com/2023/07/07/samsung-estima...</td>\n",
       "    </tr>\n",
       "  </tbody>\n",
       "</table>\n",
       "</div>"
      ],
      "text/plain": [
       "                                           Headlines         Time  \\\n",
       "0  ‘We would not stand idly by’: Lagarde pledges ...   19 MIN AGO   \n",
       "1  2-year Treasury yield dips as investors await ...   51 MIN AGO   \n",
       "2  U.S. Treasury Secretary Janet Yellen meets Chi...   58 MIN AGO   \n",
       "3  U.S. considers sending cluster bombs to Ukrain...  3 HOURS AGO   \n",
       "4  CNBC Daily Open: Jobs are still growing uncont...  3 HOURS AGO   \n",
       "5  Yellen says she’s ‘concerned’ about China’s ne...  4 HOURS AGO   \n",
       "6  European markets soften after Thursday’s sharp...  4 HOURS AGO   \n",
       "7  Yellen’s visit to China is ‘crucial’ to U.S.-C...  4 HOURS AGO   \n",
       "8  Germany’s economy is stagnating. And these 5 c...  5 HOURS AGO   \n",
       "9  Samsung estimates profits plunged 96% in the s...  6 HOURS AGO   \n",
       "\n",
       "                                          News Links  \n",
       "0  https://www.cnbc.com/2023/07/07/we-would-not-s...  \n",
       "1  https://www.cnbc.com/2023/07/07/us-treasury-yi...  \n",
       "2  https://www.cnbc.com/2023/07/07/us-treasury-se...  \n",
       "3  https://www.cnbc.com/2023/07/07/ukraine-war-li...  \n",
       "4  https://www.cnbc.com/2023/07/07/stock-markets-...  \n",
       "5  https://www.cnbc.com/2023/07/07/yellen-says-sh...  \n",
       "6  https://www.cnbc.com/2023/07/07/european-marke...  \n",
       "7  https://www.cnbc.com/2023/07/07/yellens-visit-...  \n",
       "8  https://www.cnbc.com/2023/07/07/germanys-econo...  \n",
       "9  https://www.cnbc.com/2023/07/07/samsung-estima...  "
      ]
     },
     "execution_count": 59,
     "metadata": {},
     "output_type": "execute_result"
    }
   ],
   "source": [
    "df"
   ]
  },
  {
   "cell_type": "code",
   "execution_count": 60,
   "id": "515ddd79",
   "metadata": {},
   "outputs": [],
   "source": [
    "driver.close()"
   ]
  },
  {
   "cell_type": "markdown",
   "id": "e1876876",
   "metadata": {},
   "source": [
    "# Write a python program to scrape the details of most downloaded articles from AI in last 90 days.https://www.journals.elsevier.com/artificial-intelligence/most-downloaded-articles\n"
   ]
  },
  {
   "cell_type": "code",
   "execution_count": 74,
   "id": "9099b39c",
   "metadata": {},
   "outputs": [
    {
     "data": {
      "text/plain": [
       "<Response [200]>"
      ]
     },
     "execution_count": 74,
     "metadata": {},
     "output_type": "execute_result"
    }
   ],
   "source": [
    "page = requests.get('https://www.journals.elsevier.com/artificial-intelligence/most-downloaded-articles')\n",
    "page"
   ]
  },
  {
   "cell_type": "code",
   "execution_count": 75,
   "id": "f3e62aea",
   "metadata": {},
   "outputs": [],
   "source": [
    "soup = BeautifulSoup(page.content)"
   ]
  },
  {
   "cell_type": "code",
   "execution_count": 76,
   "id": "ebc56f9a",
   "metadata": {},
   "outputs": [],
   "source": [
    "Title = []\n",
    "for i in soup.find_all('h2', class_ = 'sc-1qrq3sd-1 gRGSUS sc-1nmom32-0 sc-1nmom32-1 btcbYu goSKRg'):\n",
    "    Title.append(i.text)\n"
   ]
  },
  {
   "cell_type": "code",
   "execution_count": 77,
   "id": "868314ce",
   "metadata": {},
   "outputs": [],
   "source": [
    "Author = []\n",
    "for i in soup.find_all('span', class_ = 'sc-1w3fpd7-0 dnCnAO'):\n",
    "    Author.append(i.text)\n"
   ]
  },
  {
   "cell_type": "code",
   "execution_count": 79,
   "id": "6374f6fd",
   "metadata": {},
   "outputs": [],
   "source": [
    "Publish = []\n",
    "for i in soup.find_all('span', class_ = 'sc-1thf9ly-2 dvggWt'):\n",
    "    Publish.append(i.text)"
   ]
  },
  {
   "cell_type": "code",
   "execution_count": 80,
   "id": "fc50d7d2",
   "metadata": {},
   "outputs": [],
   "source": [
    "Link = []\n",
    "for i in soup.find_all('a',class_ = 'sc-5smygv-0 fIXTHm'):\n",
    "    Link.append(i.get('href'))\n"
   ]
  },
  {
   "cell_type": "code",
   "execution_count": 81,
   "id": "2e550eba",
   "metadata": {},
   "outputs": [],
   "source": [
    "df = pd.DataFrame([])\n",
    "df['Title'] = Title\n",
    "df['Authors'] = Author\n",
    "df['Published'] = Publish\n",
    "df['Links'] = Link"
   ]
  },
  {
   "cell_type": "code",
   "execution_count": 82,
   "id": "aa1a74e4",
   "metadata": {},
   "outputs": [
    {
     "data": {
      "text/html": [
       "<div>\n",
       "<style scoped>\n",
       "    .dataframe tbody tr th:only-of-type {\n",
       "        vertical-align: middle;\n",
       "    }\n",
       "\n",
       "    .dataframe tbody tr th {\n",
       "        vertical-align: top;\n",
       "    }\n",
       "\n",
       "    .dataframe thead th {\n",
       "        text-align: right;\n",
       "    }\n",
       "</style>\n",
       "<table border=\"1\" class=\"dataframe\">\n",
       "  <thead>\n",
       "    <tr style=\"text-align: right;\">\n",
       "      <th></th>\n",
       "      <th>Title</th>\n",
       "      <th>Authors</th>\n",
       "      <th>Published</th>\n",
       "      <th>Links</th>\n",
       "    </tr>\n",
       "  </thead>\n",
       "  <tbody>\n",
       "    <tr>\n",
       "      <th>0</th>\n",
       "      <td>Reward is enough</td>\n",
       "      <td>David Silver, Satinder Singh, Doina Precup, Ri...</td>\n",
       "      <td>October 2021</td>\n",
       "      <td>https://www.sciencedirect.com/science/article/...</td>\n",
       "    </tr>\n",
       "    <tr>\n",
       "      <th>1</th>\n",
       "      <td>Explanation in artificial intelligence: Insigh...</td>\n",
       "      <td>Tim Miller</td>\n",
       "      <td>February 2019</td>\n",
       "      <td>https://www.sciencedirect.com/science/article/...</td>\n",
       "    </tr>\n",
       "    <tr>\n",
       "      <th>2</th>\n",
       "      <td>Creativity and artificial intelligence</td>\n",
       "      <td>Margaret A. Boden</td>\n",
       "      <td>August 1998</td>\n",
       "      <td>https://www.sciencedirect.com/science/article/...</td>\n",
       "    </tr>\n",
       "    <tr>\n",
       "      <th>3</th>\n",
       "      <td>Conflict-based search for optimal multi-agent ...</td>\n",
       "      <td>Guni Sharon, Roni Stern, Ariel Felner, Nathan ...</td>\n",
       "      <td>February 2015</td>\n",
       "      <td>https://www.sciencedirect.com/science/article/...</td>\n",
       "    </tr>\n",
       "    <tr>\n",
       "      <th>4</th>\n",
       "      <td>Knowledge graphs as tools for explainable mach...</td>\n",
       "      <td>Ilaria Tiddi, Stefan Schlobach</td>\n",
       "      <td>January 2022</td>\n",
       "      <td>https://www.sciencedirect.com/science/article/...</td>\n",
       "    </tr>\n",
       "    <tr>\n",
       "      <th>5</th>\n",
       "      <td>Law and logic: A review from an argumentation ...</td>\n",
       "      <td>Henry Prakken, Giovanni Sartor</td>\n",
       "      <td>October 2015</td>\n",
       "      <td>https://www.sciencedirect.com/science/article/...</td>\n",
       "    </tr>\n",
       "    <tr>\n",
       "      <th>6</th>\n",
       "      <td>Between MDPs and semi-MDPs: A framework for te...</td>\n",
       "      <td>Richard S. Sutton, Doina Precup, Satinder Singh</td>\n",
       "      <td>August 1999</td>\n",
       "      <td>https://www.sciencedirect.com/science/article/...</td>\n",
       "    </tr>\n",
       "    <tr>\n",
       "      <th>7</th>\n",
       "      <td>Explaining individual predictions when feature...</td>\n",
       "      <td>Kjersti Aas, Martin Jullum, Anders Løland</td>\n",
       "      <td>September 2021</td>\n",
       "      <td>https://www.sciencedirect.com/science/article/...</td>\n",
       "    </tr>\n",
       "    <tr>\n",
       "      <th>8</th>\n",
       "      <td>Multiple object tracking: A literature review</td>\n",
       "      <td>Wenhan Luo, Junliang Xing and 4 more</td>\n",
       "      <td>April 2021</td>\n",
       "      <td>https://www.sciencedirect.com/science/article/...</td>\n",
       "    </tr>\n",
       "    <tr>\n",
       "      <th>9</th>\n",
       "      <td>A survey of inverse reinforcement learning: Ch...</td>\n",
       "      <td>Saurabh Arora, Prashant Doshi</td>\n",
       "      <td>August 2021</td>\n",
       "      <td>https://www.sciencedirect.com/science/article/...</td>\n",
       "    </tr>\n",
       "    <tr>\n",
       "      <th>10</th>\n",
       "      <td>Evaluating XAI: A comparison of rule-based and...</td>\n",
       "      <td>Jasper van der Waa, Elisabeth Nieuwburg, Anita...</td>\n",
       "      <td>February 2021</td>\n",
       "      <td>https://www.sciencedirect.com/science/article/...</td>\n",
       "    </tr>\n",
       "    <tr>\n",
       "      <th>11</th>\n",
       "      <td>Explainable AI tools for legal reasoning about...</td>\n",
       "      <td>Joe Collenette, Katie Atkinson, Trevor Bench-C...</td>\n",
       "      <td>April 2023</td>\n",
       "      <td>https://www.sciencedirect.com/science/article/...</td>\n",
       "    </tr>\n",
       "    <tr>\n",
       "      <th>12</th>\n",
       "      <td>Hard choices in artificial intelligence</td>\n",
       "      <td>Roel Dobbe, Thomas Krendl Gilbert, Yonatan Mintz</td>\n",
       "      <td>November 2021</td>\n",
       "      <td>https://www.sciencedirect.com/science/article/...</td>\n",
       "    </tr>\n",
       "    <tr>\n",
       "      <th>13</th>\n",
       "      <td>Assessing the communication gap between AI mod...</td>\n",
       "      <td>Oskar Wysocki, Jessica Katharine Davies and 5 ...</td>\n",
       "      <td>March 2023</td>\n",
       "      <td>https://www.sciencedirect.com/science/article/...</td>\n",
       "    </tr>\n",
       "    <tr>\n",
       "      <th>14</th>\n",
       "      <td>Explaining black-box classifiers using post-ho...</td>\n",
       "      <td>Eoin M. Kenny, Courtney Ford, Molly Quinn, Mar...</td>\n",
       "      <td>May 2021</td>\n",
       "      <td>https://www.sciencedirect.com/science/article/...</td>\n",
       "    </tr>\n",
       "    <tr>\n",
       "      <th>15</th>\n",
       "      <td>The Hanabi challenge: A new frontier for AI re...</td>\n",
       "      <td>Nolan Bard, Jakob N. Foerster and 13 more</td>\n",
       "      <td>March 2020</td>\n",
       "      <td>https://www.sciencedirect.com/science/article/...</td>\n",
       "    </tr>\n",
       "    <tr>\n",
       "      <th>16</th>\n",
       "      <td>Wrappers for feature subset selection</td>\n",
       "      <td>Ron Kohavi, George H. John</td>\n",
       "      <td>December 1997</td>\n",
       "      <td>https://www.sciencedirect.com/science/article/...</td>\n",
       "    </tr>\n",
       "    <tr>\n",
       "      <th>17</th>\n",
       "      <td>Artificial cognition for social human–robot in...</td>\n",
       "      <td>Séverin Lemaignan, Mathieu Warnier and 3 more</td>\n",
       "      <td>June 2017</td>\n",
       "      <td>https://www.sciencedirect.com/science/article/...</td>\n",
       "    </tr>\n",
       "    <tr>\n",
       "      <th>18</th>\n",
       "      <td>A review of possible effects of cognitive bias...</td>\n",
       "      <td>Tomáš Kliegr, Štěpán Bahník, Johannes Fürnkranz</td>\n",
       "      <td>June 2021</td>\n",
       "      <td>https://www.sciencedirect.com/science/article/...</td>\n",
       "    </tr>\n",
       "    <tr>\n",
       "      <th>19</th>\n",
       "      <td>The multifaceted impact of Ada Lovelace in the...</td>\n",
       "      <td>Luigia Carlucci Aiello</td>\n",
       "      <td>June 2016</td>\n",
       "      <td>https://www.sciencedirect.com/science/article/...</td>\n",
       "    </tr>\n",
       "    <tr>\n",
       "      <th>20</th>\n",
       "      <td>Robot ethics: Mapping the issues for a mechani...</td>\n",
       "      <td>Patrick Lin, Keith Abney, George Bekey</td>\n",
       "      <td>April 2011</td>\n",
       "      <td>https://www.sciencedirect.com/science/article/...</td>\n",
       "    </tr>\n",
       "    <tr>\n",
       "      <th>21</th>\n",
       "      <td>Reward (Mis)design for autonomous driving</td>\n",
       "      <td>W. Bradley Knox, Alessandro Allievi and 3 more</td>\n",
       "      <td>March 2023</td>\n",
       "      <td>https://www.sciencedirect.com/science/article/...</td>\n",
       "    </tr>\n",
       "    <tr>\n",
       "      <th>22</th>\n",
       "      <td>Planning and acting in partially observable st...</td>\n",
       "      <td>Leslie Pack Kaelbling, Michael L. Littman, Ant...</td>\n",
       "      <td>May 1998</td>\n",
       "      <td>https://www.sciencedirect.com/science/article/...</td>\n",
       "    </tr>\n",
       "    <tr>\n",
       "      <th>23</th>\n",
       "      <td>What do we want from Explainable Artificial In...</td>\n",
       "      <td>Markus Langer, Daniel Oster and 6 more</td>\n",
       "      <td>July 2021</td>\n",
       "      <td>https://www.sciencedirect.com/science/article/...</td>\n",
       "    </tr>\n",
       "  </tbody>\n",
       "</table>\n",
       "</div>"
      ],
      "text/plain": [
       "                                                Title  \\\n",
       "0                                    Reward is enough   \n",
       "1   Explanation in artificial intelligence: Insigh...   \n",
       "2              Creativity and artificial intelligence   \n",
       "3   Conflict-based search for optimal multi-agent ...   \n",
       "4   Knowledge graphs as tools for explainable mach...   \n",
       "5   Law and logic: A review from an argumentation ...   \n",
       "6   Between MDPs and semi-MDPs: A framework for te...   \n",
       "7   Explaining individual predictions when feature...   \n",
       "8       Multiple object tracking: A literature review   \n",
       "9   A survey of inverse reinforcement learning: Ch...   \n",
       "10  Evaluating XAI: A comparison of rule-based and...   \n",
       "11  Explainable AI tools for legal reasoning about...   \n",
       "12            Hard choices in artificial intelligence   \n",
       "13  Assessing the communication gap between AI mod...   \n",
       "14  Explaining black-box classifiers using post-ho...   \n",
       "15  The Hanabi challenge: A new frontier for AI re...   \n",
       "16              Wrappers for feature subset selection   \n",
       "17  Artificial cognition for social human–robot in...   \n",
       "18  A review of possible effects of cognitive bias...   \n",
       "19  The multifaceted impact of Ada Lovelace in the...   \n",
       "20  Robot ethics: Mapping the issues for a mechani...   \n",
       "21          Reward (Mis)design for autonomous driving   \n",
       "22  Planning and acting in partially observable st...   \n",
       "23  What do we want from Explainable Artificial In...   \n",
       "\n",
       "                                              Authors       Published  \\\n",
       "0   David Silver, Satinder Singh, Doina Precup, Ri...    October 2021   \n",
       "1                                         Tim Miller    February 2019   \n",
       "2                                  Margaret A. Boden      August 1998   \n",
       "3   Guni Sharon, Roni Stern, Ariel Felner, Nathan ...   February 2015   \n",
       "4                     Ilaria Tiddi, Stefan Schlobach     January 2022   \n",
       "5                     Henry Prakken, Giovanni Sartor     October 2015   \n",
       "6    Richard S. Sutton, Doina Precup, Satinder Singh      August 1999   \n",
       "7          Kjersti Aas, Martin Jullum, Anders Løland   September 2021   \n",
       "8                Wenhan Luo, Junliang Xing and 4 more      April 2021   \n",
       "9                      Saurabh Arora, Prashant Doshi      August 2021   \n",
       "10  Jasper van der Waa, Elisabeth Nieuwburg, Anita...   February 2021   \n",
       "11  Joe Collenette, Katie Atkinson, Trevor Bench-C...      April 2023   \n",
       "12  Roel Dobbe, Thomas Krendl Gilbert, Yonatan Mintz    November 2021   \n",
       "13  Oskar Wysocki, Jessica Katharine Davies and 5 ...      March 2023   \n",
       "14  Eoin M. Kenny, Courtney Ford, Molly Quinn, Mar...        May 2021   \n",
       "15          Nolan Bard, Jakob N. Foerster and 13 more      March 2020   \n",
       "16                        Ron Kohavi, George H. John    December 1997   \n",
       "17      Séverin Lemaignan, Mathieu Warnier and 3 more       June 2017   \n",
       "18   Tomáš Kliegr, Štěpán Bahník, Johannes Fürnkranz        June 2021   \n",
       "19                            Luigia Carlucci Aiello        June 2016   \n",
       "20            Patrick Lin, Keith Abney, George Bekey       April 2011   \n",
       "21     W. Bradley Knox, Alessandro Allievi and 3 more      March 2023   \n",
       "22  Leslie Pack Kaelbling, Michael L. Littman, Ant...        May 1998   \n",
       "23             Markus Langer, Daniel Oster and 6 more       July 2021   \n",
       "\n",
       "                                                Links  \n",
       "0   https://www.sciencedirect.com/science/article/...  \n",
       "1   https://www.sciencedirect.com/science/article/...  \n",
       "2   https://www.sciencedirect.com/science/article/...  \n",
       "3   https://www.sciencedirect.com/science/article/...  \n",
       "4   https://www.sciencedirect.com/science/article/...  \n",
       "5   https://www.sciencedirect.com/science/article/...  \n",
       "6   https://www.sciencedirect.com/science/article/...  \n",
       "7   https://www.sciencedirect.com/science/article/...  \n",
       "8   https://www.sciencedirect.com/science/article/...  \n",
       "9   https://www.sciencedirect.com/science/article/...  \n",
       "10  https://www.sciencedirect.com/science/article/...  \n",
       "11  https://www.sciencedirect.com/science/article/...  \n",
       "12  https://www.sciencedirect.com/science/article/...  \n",
       "13  https://www.sciencedirect.com/science/article/...  \n",
       "14  https://www.sciencedirect.com/science/article/...  \n",
       "15  https://www.sciencedirect.com/science/article/...  \n",
       "16  https://www.sciencedirect.com/science/article/...  \n",
       "17  https://www.sciencedirect.com/science/article/...  \n",
       "18  https://www.sciencedirect.com/science/article/...  \n",
       "19  https://www.sciencedirect.com/science/article/...  \n",
       "20  https://www.sciencedirect.com/science/article/...  \n",
       "21  https://www.sciencedirect.com/science/article/...  \n",
       "22  https://www.sciencedirect.com/science/article/...  \n",
       "23  https://www.sciencedirect.com/science/article/...  "
      ]
     },
     "execution_count": 82,
     "metadata": {},
     "output_type": "execute_result"
    }
   ],
   "source": [
    "df"
   ]
  },
  {
   "cell_type": "markdown",
   "id": "9e8a1750",
   "metadata": {},
   "source": [
    "# Write a python program to scrape mentioned details from dineout.co.inand make data frame\n"
   ]
  },
  {
   "cell_type": "code",
   "execution_count": 84,
   "id": "47f99665",
   "metadata": {},
   "outputs": [
    {
     "data": {
      "text/plain": [
       "<Response [200]>"
      ]
     },
     "execution_count": 84,
     "metadata": {},
     "output_type": "execute_result"
    }
   ],
   "source": [
    "page = requests.get('https://www.dineout.co.in/delhi-restaurants/buffet-special')\n",
    "page"
   ]
  },
  {
   "cell_type": "code",
   "execution_count": 85,
   "id": "bea5c233",
   "metadata": {},
   "outputs": [],
   "source": [
    "soup = BeautifulSoup(page.content)"
   ]
  },
  {
   "cell_type": "code",
   "execution_count": 86,
   "id": "a93b6512",
   "metadata": {},
   "outputs": [],
   "source": [
    "Resto = []\n",
    "for i in soup.find_all('a',class_= 'restnt-name ellipsis'):\n",
    "    Resto.append(i.text)\n"
   ]
  },
  {
   "cell_type": "code",
   "execution_count": 87,
   "id": "8f686750",
   "metadata": {},
   "outputs": [],
   "source": [
    "Cuisine = []\n",
    "for i in soup.find_all('span', class_ = 'double-line-ellipsis'):\n",
    "    Cuisine.append(i.text.split('|')[1])\n"
   ]
  },
  {
   "cell_type": "code",
   "execution_count": 88,
   "id": "b348ffc0",
   "metadata": {},
   "outputs": [],
   "source": [
    "Location = []\n",
    "for i in soup.find_all('div',class_= 'restnt-loc ellipsis'):\n",
    "    Location.append(i.text)"
   ]
  },
  {
   "cell_type": "code",
   "execution_count": 95,
   "id": "99ce02e3",
   "metadata": {},
   "outputs": [],
   "source": [
    "Rate = []\n",
    "for i in soup.find_all('span',class_= 'double-line-ellipsis'):\n",
    "    Rate.append(i.text.split('|')[0])"
   ]
  },
  {
   "cell_type": "code",
   "execution_count": 90,
   "id": "b0d3dbe8",
   "metadata": {},
   "outputs": [],
   "source": [
    "Link = []\n",
    "for i in soup.find_all('img',class_= 'no-img'):\n",
    "    Link.append(i.get('data-src'))"
   ]
  },
  {
   "cell_type": "code",
   "execution_count": 97,
   "id": "1532df7c",
   "metadata": {},
   "outputs": [],
   "source": [
    "df = pd.DataFrame([])\n",
    "df['Restaurent'] = Resto\n",
    "df['Cuisine'] = Cuisine\n",
    "df['Location'] = Location\n",
    "df['Rate']=Rate\n",
    "df['Image Link']=Link"
   ]
  },
  {
   "cell_type": "code",
   "execution_count": 98,
   "id": "5ae492e4",
   "metadata": {},
   "outputs": [
    {
     "data": {
      "text/html": [
       "<div>\n",
       "<style scoped>\n",
       "    .dataframe tbody tr th:only-of-type {\n",
       "        vertical-align: middle;\n",
       "    }\n",
       "\n",
       "    .dataframe tbody tr th {\n",
       "        vertical-align: top;\n",
       "    }\n",
       "\n",
       "    .dataframe thead th {\n",
       "        text-align: right;\n",
       "    }\n",
       "</style>\n",
       "<table border=\"1\" class=\"dataframe\">\n",
       "  <thead>\n",
       "    <tr style=\"text-align: right;\">\n",
       "      <th></th>\n",
       "      <th>Restaurent</th>\n",
       "      <th>Cuisine</th>\n",
       "      <th>Location</th>\n",
       "      <th>Rate</th>\n",
       "      <th>Image Link</th>\n",
       "    </tr>\n",
       "  </thead>\n",
       "  <tbody>\n",
       "    <tr>\n",
       "      <th>0</th>\n",
       "      <td>Castle Barbeque</td>\n",
       "      <td>Chinese, North Indian</td>\n",
       "      <td>Connaught Place, Central Delhi</td>\n",
       "      <td>₹ 2,000 for 2 (approx)</td>\n",
       "      <td>https://im1.dineout.co.in/images/uploads/resta...</td>\n",
       "    </tr>\n",
       "    <tr>\n",
       "      <th>1</th>\n",
       "      <td>Jungle Jamboree</td>\n",
       "      <td>North Indian, Asian, Italian</td>\n",
       "      <td>3CS Mall,Lajpat Nagar - 3, South Delhi</td>\n",
       "      <td>₹ 1,680 for 2 (approx)</td>\n",
       "      <td>https://im1.dineout.co.in/images/uploads/resta...</td>\n",
       "    </tr>\n",
       "    <tr>\n",
       "      <th>2</th>\n",
       "      <td>Cafe Knosh</td>\n",
       "      <td>Italian, Continental</td>\n",
       "      <td>The Leela Ambience Convention Hotel,Shahdara, ...</td>\n",
       "      <td>₹ 3,000 for 2 (approx)</td>\n",
       "      <td>https://im1.dineout.co.in/images/uploads/resta...</td>\n",
       "    </tr>\n",
       "    <tr>\n",
       "      <th>3</th>\n",
       "      <td>Castle's Barbeque</td>\n",
       "      <td>Chinese, North Indian</td>\n",
       "      <td>Pacific Mall,Tagore Garden, West Delhi</td>\n",
       "      <td>₹ 2,000 for 2 (approx)</td>\n",
       "      <td>https://im1.dineout.co.in/images/uploads/resta...</td>\n",
       "    </tr>\n",
       "    <tr>\n",
       "      <th>4</th>\n",
       "      <td>The Barbeque Company</td>\n",
       "      <td>North Indian, Chinese</td>\n",
       "      <td>Gardens Galleria,Sector 38A, Noida</td>\n",
       "      <td>₹ 1,700 for 2 (approx)</td>\n",
       "      <td>https://im1.dineout.co.in/images/uploads/resta...</td>\n",
       "    </tr>\n",
       "    <tr>\n",
       "      <th>5</th>\n",
       "      <td>India Grill</td>\n",
       "      <td>North Indian, Italian</td>\n",
       "      <td>Hilton Garden Inn,Saket, South Delhi</td>\n",
       "      <td>₹ 2,400 for 2 (approx)</td>\n",
       "      <td>https://im1.dineout.co.in/images/uploads/resta...</td>\n",
       "    </tr>\n",
       "    <tr>\n",
       "      <th>6</th>\n",
       "      <td>Delhi Barbeque</td>\n",
       "      <td>North Indian</td>\n",
       "      <td>Taurus Sarovar Portico,Mahipalpur, South Delhi</td>\n",
       "      <td>₹ 1,800 for 2 (approx)</td>\n",
       "      <td>https://im1.dineout.co.in/images/uploads/resta...</td>\n",
       "    </tr>\n",
       "    <tr>\n",
       "      <th>7</th>\n",
       "      <td>The Monarch - Bar Be Que Village</td>\n",
       "      <td>North Indian</td>\n",
       "      <td>Indirapuram Habitat Centre,Indirapuram, Ghaziabad</td>\n",
       "      <td>₹ 1,900 for 2 (approx)</td>\n",
       "      <td>https://im1.dineout.co.in/images/uploads/resta...</td>\n",
       "    </tr>\n",
       "    <tr>\n",
       "      <th>8</th>\n",
       "      <td>Indian Grill Room</td>\n",
       "      <td>North Indian, Mughlai</td>\n",
       "      <td>Suncity Business Tower,Golf Course Road, Gurgaon</td>\n",
       "      <td>₹ 2,200 for 2 (approx)</td>\n",
       "      <td>https://im1.dineout.co.in/images/uploads/resta...</td>\n",
       "    </tr>\n",
       "  </tbody>\n",
       "</table>\n",
       "</div>"
      ],
      "text/plain": [
       "                         Restaurent                        Cuisine  \\\n",
       "0                   Castle Barbeque          Chinese, North Indian   \n",
       "1                   Jungle Jamboree   North Indian, Asian, Italian   \n",
       "2                        Cafe Knosh           Italian, Continental   \n",
       "3                 Castle's Barbeque          Chinese, North Indian   \n",
       "4              The Barbeque Company          North Indian, Chinese   \n",
       "5                       India Grill          North Indian, Italian   \n",
       "6                    Delhi Barbeque                   North Indian   \n",
       "7  The Monarch - Bar Be Que Village                   North Indian   \n",
       "8                 Indian Grill Room          North Indian, Mughlai   \n",
       "\n",
       "                                            Location                     Rate  \\\n",
       "0                     Connaught Place, Central Delhi  ₹ 2,000 for 2 (approx)    \n",
       "1             3CS Mall,Lajpat Nagar - 3, South Delhi  ₹ 1,680 for 2 (approx)    \n",
       "2  The Leela Ambience Convention Hotel,Shahdara, ...  ₹ 3,000 for 2 (approx)    \n",
       "3             Pacific Mall,Tagore Garden, West Delhi  ₹ 2,000 for 2 (approx)    \n",
       "4                 Gardens Galleria,Sector 38A, Noida  ₹ 1,700 for 2 (approx)    \n",
       "5               Hilton Garden Inn,Saket, South Delhi  ₹ 2,400 for 2 (approx)    \n",
       "6     Taurus Sarovar Portico,Mahipalpur, South Delhi  ₹ 1,800 for 2 (approx)    \n",
       "7  Indirapuram Habitat Centre,Indirapuram, Ghaziabad  ₹ 1,900 for 2 (approx)    \n",
       "8   Suncity Business Tower,Golf Course Road, Gurgaon  ₹ 2,200 for 2 (approx)    \n",
       "\n",
       "                                          Image Link  \n",
       "0  https://im1.dineout.co.in/images/uploads/resta...  \n",
       "1  https://im1.dineout.co.in/images/uploads/resta...  \n",
       "2  https://im1.dineout.co.in/images/uploads/resta...  \n",
       "3  https://im1.dineout.co.in/images/uploads/resta...  \n",
       "4  https://im1.dineout.co.in/images/uploads/resta...  \n",
       "5  https://im1.dineout.co.in/images/uploads/resta...  \n",
       "6  https://im1.dineout.co.in/images/uploads/resta...  \n",
       "7  https://im1.dineout.co.in/images/uploads/resta...  \n",
       "8  https://im1.dineout.co.in/images/uploads/resta...  "
      ]
     },
     "execution_count": 98,
     "metadata": {},
     "output_type": "execute_result"
    }
   ],
   "source": [
    "df"
   ]
  },
  {
   "cell_type": "code",
   "execution_count": null,
   "id": "57aa89c2",
   "metadata": {},
   "outputs": [],
   "source": [
    "---------------------------------------------------------------------------------------------------------------"
   ]
  }
 ],
 "metadata": {
  "kernelspec": {
   "display_name": "Python 3 (ipykernel)",
   "language": "python",
   "name": "python3"
  },
  "language_info": {
   "codemirror_mode": {
    "name": "ipython",
    "version": 3
   },
   "file_extension": ".py",
   "mimetype": "text/x-python",
   "name": "python",
   "nbconvert_exporter": "python",
   "pygments_lexer": "ipython3",
   "version": "3.9.13"
  }
 },
 "nbformat": 4,
 "nbformat_minor": 5
}
