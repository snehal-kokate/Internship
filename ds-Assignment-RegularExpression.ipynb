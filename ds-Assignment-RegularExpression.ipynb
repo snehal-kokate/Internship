{
 "cells": [
  {
   "cell_type": "markdown",
   "id": "54cb54ad",
   "metadata": {},
   "source": [
    "# Q 1- Write a Python program to check that a string contains only a certain set of characters (in this case a-z, A-Z and 0-9)."
   ]
  },
  {
   "cell_type": "code",
   "execution_count": 1,
   "id": "ed929aec",
   "metadata": {},
   "outputs": [],
   "source": [
    "import regex as re"
   ]
  },
  {
   "cell_type": "code",
   "execution_count": 2,
   "id": "6990e75d",
   "metadata": {},
   "outputs": [
    {
     "name": "stdout",
     "output_type": "stream",
     "text": [
      "['e', 'l', 'l', 'o', 'o', 'r', 'l', 'd']\n",
      "['H', 'W']\n",
      "['2', '0', '2', '3']\n"
     ]
    }
   ],
   "source": [
    "txt =  'Hello World 2023'\n",
    "low = re.findall('[a-z]',txt)\n",
    "print(low)\n",
    "up = re.findall('[A-Z]',txt)\n",
    "print(up)\n",
    "dg = re.findall('[0-9]',txt)\n",
    "print(dg)"
   ]
  },
  {
   "cell_type": "markdown",
   "id": "a2e818db",
   "metadata": {},
   "source": [
    "# Q2- Create a function in python that matches a string that has an a followed by zero or more b's"
   ]
  },
  {
   "cell_type": "code",
   "execution_count": 3,
   "id": "a49e5b1b",
   "metadata": {},
   "outputs": [
    {
     "name": "stdout",
     "output_type": "stream",
     "text": [
      "abba : matches pattern a followed by zero or more b\n",
      "a : matches pattern a followed by zero or more b\n",
      "b : does not matches pattern\n",
      "aab : matches pattern a followed by zero or more b\n",
      "abb : matches pattern a followed by zero or more b\n",
      "ba : does not matches pattern\n",
      "bbab : does not matches pattern\n"
     ]
    }
   ],
   "source": [
    "def match_str(txt):\n",
    "    pat = r'^ab*' #zero or more occurence\n",
    "    res = re.match(pat,txt)\n",
    "    return res\n",
    "string = ['abba','a','b','aab','abb','ba','bbab']\n",
    "for txt in string:\n",
    "    if match_str(txt):\n",
    "        print(f'{txt} : matches pattern a followed by zero or more b')\n",
    "    else:\n",
    "        print(f'{txt} : does not matches pattern')\n",
    "    "
   ]
  },
  {
   "cell_type": "markdown",
   "id": "1a450f95",
   "metadata": {},
   "source": [
    "# Q3-  Create a function in python that matches a string that has an a followed by one or more b's"
   ]
  },
  {
   "cell_type": "code",
   "execution_count": 4,
   "id": "0869bfd5",
   "metadata": {},
   "outputs": [
    {
     "name": "stdout",
     "output_type": "stream",
     "text": [
      "abbc : does not matches pattern\n",
      "ab : matches pattern a followed by one or more b\n",
      "bb : does not matches pattern\n",
      "aab : does not matches pattern\n",
      "abb : matches pattern a followed by one or more b\n",
      "b : does not matches pattern\n",
      "ba : does not matches pattern\n"
     ]
    }
   ],
   "source": [
    "def match_str1(txt):\n",
    "    pat = r'^ab+$' #one or more occurence\n",
    "    res = re.match(pat,txt)\n",
    "    return res\n",
    "string = ['abbc','ab','bb','aab','abb','b','ba']\n",
    "for txt in string:\n",
    "    if match_str1(txt):\n",
    "        print(f'{txt} : matches pattern a followed by one or more b')\n",
    "    else:\n",
    "        print(f'{txt} : does not matches pattern')"
   ]
  },
  {
   "cell_type": "markdown",
   "id": "a751c853",
   "metadata": {},
   "source": [
    "# Q4- Create a function in Python and use RegEx that matches a string that has an a followed by zero or one 'b'."
   ]
  },
  {
   "cell_type": "code",
   "execution_count": 5,
   "id": "f91cc636",
   "metadata": {},
   "outputs": [
    {
     "name": "stdout",
     "output_type": "stream",
     "text": [
      "ab : matches pattern a followed by Zero or one b\n",
      "a : matches pattern a followed by Zero or one b\n",
      "abb : does not matches pattern\n",
      "abc : does not matches pattern\n",
      "b : does not matches pattern\n"
     ]
    }
   ],
   "source": [
    "def match_str2(txt):\n",
    "    pat = r'^ab?$' #zero or one occurence\n",
    "    res = re.match(pat,txt)\n",
    "    return res\n",
    "string = [\"ab\", \"a\", \"abb\", \"abc\", \"b\"]\n",
    "for txt in string:\n",
    "    if match_str2(txt):\n",
    "        print(f'{txt} : matches pattern a followed by Zero or one b')\n",
    "    else:\n",
    "        print(f'{txt} : does not matches pattern')"
   ]
  },
  {
   "cell_type": "markdown",
   "id": "5d660608",
   "metadata": {},
   "source": [
    "# Q5- Write a Python program that matches a string that has an a followed by three 'b'."
   ]
  },
  {
   "cell_type": "code",
   "execution_count": 6,
   "id": "ebb22426",
   "metadata": {},
   "outputs": [
    {
     "name": "stdout",
     "output_type": "stream",
     "text": [
      "abbb : matches pattern a followed by Zero or one b\n",
      "aabbb : does not matches pattern\n",
      "abb : does not matches pattern\n",
      "abbbc : matches pattern a followed by Zero or one b\n",
      "bbba : does not matches pattern\n"
     ]
    }
   ],
   "source": [
    "def match_str3(txt):\n",
    "    pat = r'^ab{3}' #one or more occurence\n",
    "    res = re.match(pat,txt)\n",
    "    return res\n",
    "string = [\"abbb\", \"aabbb\", \"abb\", \"abbbc\", \"bbba\"]\n",
    "for txt in string:\n",
    "    if match_str3(txt):\n",
    "        print(f'{txt} : matches pattern a followed by Zero or one b')\n",
    "    else:\n",
    "        print(f'{txt} : does not matches pattern')"
   ]
  },
  {
   "cell_type": "markdown",
   "id": "f569e91f",
   "metadata": {},
   "source": [
    "# Q6- Write a regular expression in Python to split a string into uppercase letters."
   ]
  },
  {
   "cell_type": "code",
   "execution_count": 7,
   "id": "1d37f432",
   "metadata": {},
   "outputs": [
    {
     "data": {
      "text/plain": [
       "['Importance', 'Of', 'Regular', 'Expressions', 'In', 'Python']"
      ]
     },
     "execution_count": 7,
     "metadata": {},
     "output_type": "execute_result"
    }
   ],
   "source": [
    "string = 'ImportanceOfRegularExpressionsInPython'\n",
    "pattern = r'[A-Z][a-z]*' #zero or more\n",
    "x = re.findall(pattern,string)\n",
    "x"
   ]
  },
  {
   "cell_type": "markdown",
   "id": "9be505ee",
   "metadata": {},
   "source": [
    "# Q7- Write a Python program that matches a string that has an a followed by two to three 'b'."
   ]
  },
  {
   "cell_type": "code",
   "execution_count": 8,
   "id": "fd715bdb",
   "metadata": {},
   "outputs": [
    {
     "name": "stdout",
     "output_type": "stream",
     "text": [
      "abbb : matches pattern a followed by 2 to 3 b\n",
      "aabbb : does not matches pattern\n",
      "abb : matches pattern a followed by 2 to 3 b\n",
      "abbbc : matches pattern a followed by 2 to 3 b\n",
      "bbba : does not matches pattern\n"
     ]
    }
   ],
   "source": [
    "def match_str4(txt):\n",
    "    pat = r'^ab{2,3}' \n",
    "    res = re.match(pat,txt)\n",
    "    return res\n",
    "string = [\"abbb\", \"aabbb\", \"abb\", \"abbbc\", \"bbba\"]\n",
    "for txt in string:\n",
    "    if match_str4(txt):\n",
    "        print(f'{txt} : matches pattern a followed by 2 to 3 b')\n",
    "    else:\n",
    "        print(f'{txt} : does not matches pattern')"
   ]
  },
  {
   "cell_type": "markdown",
   "id": "b800308c",
   "metadata": {},
   "source": [
    "# Q8- Write a Python program to find sequences of lowercase letters joined with a underscore."
   ]
  },
  {
   "cell_type": "code",
   "execution_count": 9,
   "id": "de7c051c",
   "metadata": {},
   "outputs": [
    {
     "data": {
      "text/plain": [
       "['hello_robo', 'welcome_to_new_world', 'happy_code']"
      ]
     },
     "execution_count": 9,
     "metadata": {},
     "output_type": "execute_result"
    }
   ],
   "source": [
    "string = 'hello_robo welcome_to_new_world happy_code' \n",
    "pattern = r'[a-z]+(?:_[a-z]+)+'  # + one or more occurences\n",
    "# (?: ... ) is a non-capturing group that groups the underscore and lowercase letters together\n",
    "# without capturing it as a separate match\n",
    "x = re.findall(pattern,string)\n",
    "x"
   ]
  },
  {
   "cell_type": "code",
   "execution_count": 10,
   "id": "66560670",
   "metadata": {},
   "outputs": [
    {
     "data": {
      "text/plain": [
       "['hello', 'robo', 'welcome', 'to', 'new', 'world', 'happy', 'code']"
      ]
     },
     "execution_count": 10,
     "metadata": {},
     "output_type": "execute_result"
    }
   ],
   "source": [
    "string = 'hello_robo welcome_to_new_world happy_code' \n",
    "pattern = r'[a-z]+'\n",
    "x = re.findall(pattern,string)\n",
    "x"
   ]
  },
  {
   "cell_type": "code",
   "execution_count": 11,
   "id": "f8ab6b3d",
   "metadata": {},
   "outputs": [
    {
     "data": {
      "text/plain": [
       "['hello_robo', 'welcome_to', 'new_world', 'happy_code']"
      ]
     },
     "execution_count": 11,
     "metadata": {},
     "output_type": "execute_result"
    }
   ],
   "source": [
    "string = 'hello_robo welcome_to_new_world happy_code' \n",
    "pattern =r'[a-z]+(?:_[a-z]+)'\n",
    "x = re.findall(pattern,string)\n",
    "x"
   ]
  },
  {
   "cell_type": "markdown",
   "id": "711fd086",
   "metadata": {},
   "source": [
    "# Q9- Write a Python program that matches a string that has an 'a' followed by anything, ending in 'b'."
   ]
  },
  {
   "cell_type": "code",
   "execution_count": 12,
   "id": "092b3a96",
   "metadata": {},
   "outputs": [
    {
     "name": "stdout",
     "output_type": "stream",
     "text": [
      "abbb : matches pattern a followed by anything but ending with b\n",
      "aabbb : matches pattern a followed by anything but ending with b\n",
      "acdbb : matches pattern a followed by anything but ending with b\n",
      "abbbc : does not matches pattern\n",
      "bbba : does not matches pattern\n",
      "a12b : matches pattern a followed by anything but ending with b\n"
     ]
    }
   ],
   "source": [
    "def match_str4(txt):\n",
    "    pat = r'^a.*b$' #one or more occurence\n",
    "    res = re.match(pat,txt)\n",
    "    return res\n",
    "string = [\"abbb\", \"aabbb\", \"acdbb\", \"abbbc\", \"bbba\",'a12b']\n",
    "for txt in string:\n",
    "    if match_str4(txt):\n",
    "        print(f'{txt} : matches pattern a followed by anything but ending with b')\n",
    "    else:\n",
    "        print(f'{txt} : does not matches pattern')"
   ]
  },
  {
   "cell_type": "markdown",
   "id": "33c3b4c1",
   "metadata": {},
   "source": [
    "# Q10- Write a Python program that matches a word at the beginning of a string."
   ]
  },
  {
   "cell_type": "code",
   "execution_count": 13,
   "id": "29c22c9d",
   "metadata": {},
   "outputs": [
    {
     "name": "stdout",
     "output_type": "stream",
     "text": [
      "abbb : matches word beginning with \"a\"\n",
      "dab : does not matches pattern\n",
      "kob : does not matches pattern\n",
      "abbbc : matches word beginning with \"a\"\n",
      "adc : matches word beginning with \"a\"\n",
      "a12b : matches word beginning with \"a\"\n"
     ]
    }
   ],
   "source": [
    "def match_str5(txt):\n",
    "    pat = r'^a' \n",
    "    res = re.match(pat,txt)\n",
    "    return res\n",
    "string = [\"abbb\", \"dab\", \"kob\", \"abbbc\", \"adc\",'a12b']\n",
    "for txt in string:\n",
    "    if match_str5(txt):\n",
    "        print(f'{txt} : matches word beginning with \"a\"')\n",
    "    else:\n",
    "        print(f'{txt} : does not matches pattern')"
   ]
  },
  {
   "cell_type": "markdown",
   "id": "5d1d36fc",
   "metadata": {},
   "source": [
    "# Q11- Write a Python program to match a string that contains only upper and lowercase letters, numbers, and underscores."
   ]
  },
  {
   "cell_type": "code",
   "execution_count": 14,
   "id": "d2bb5732",
   "metadata": {},
   "outputs": [
    {
     "name": "stdout",
     "output_type": "stream",
     "text": [
      "Hello_world-123 : not correct\n",
      "heyRobo : correct string\n",
      "123 : correct string\n",
      "_976home : correct string\n",
      "rm123_ : correct string\n",
      "-$@ : not correct\n"
     ]
    }
   ],
   "source": [
    "def match_res(txt):\n",
    "    pat = r'^[A-Za-z0-9_]+$' #'+' one or more occurence\n",
    "    res = re.match(pat,txt)\n",
    "    return res\n",
    "string = [\"Hello_world-123\", \"heyRobo\", \"123\",\"_976home\", \"rm123_\",'-$@']\n",
    "for txt in string:\n",
    "    if match_res(txt):\n",
    "        print(f'{txt} : correct string')\n",
    "    else:\n",
    "        print(f'{txt} : not correct')"
   ]
  },
  {
   "cell_type": "markdown",
   "id": "fcaddd7c",
   "metadata": {},
   "source": [
    "# Q12- Write a Python program where a string will start with a specific number"
   ]
  },
  {
   "cell_type": "code",
   "execution_count": 15,
   "id": "74059f01",
   "metadata": {},
   "outputs": [
    {
     "name": "stdout",
     "output_type": "stream",
     "text": [
      "12354d : correct string\n",
      "12Fell : correct string\n",
      "12rt3 : correct string\n",
      "1_9we : not correct\n",
      "12rm12 : correct string\n",
      "-$@ : not correct\n"
     ]
    }
   ],
   "source": [
    "def match_res1(txt):\n",
    "    pat = r'^12' \n",
    "    res = re.findall(pat,txt)\n",
    "    return res\n",
    "string = [\"12354d\", \"12Fell\", \"12rt3\",\"1_9we\", \"12rm12\",'-$@']\n",
    "for txt in string:\n",
    "    if match_res1(txt):\n",
    "        print(f'{txt} : correct string')\n",
    "    else:\n",
    "        print(f'{txt} : not correct')"
   ]
  },
  {
   "cell_type": "markdown",
   "id": "01b751bc",
   "metadata": {},
   "source": [
    "# Q13- Write a Python program to remove leading zeros from an IP address"
   ]
  },
  {
   "cell_type": "code",
   "execution_count": 16,
   "id": "6c2f79b5",
   "metadata": {},
   "outputs": [
    {
     "name": "stdout",
     "output_type": "stream",
     "text": [
      "243.268.1.1 : IP_Adrress After Removing leading zeros\n",
      "192.1.10.12 : IP_Adrress After Removing leading zeros\n",
      "1.2.3.4 : IP_Adrress After Removing leading zeros\n",
      "10.20.30.40 : IP_Adrress After Removing leading zeros\n",
      "127.0.0.1 : IP_Adrress After Removing leading zeros\n"
     ]
    }
   ],
   "source": [
    "def Remove_zeros(ip):\n",
    "    pattern = r'\\b0+(\\d)' #\\b: begining char (\\d):group of digits\n",
    "    replace = re.sub(pattern, r'\\1', ip) # sub()replaces pattern with first cptured digits\n",
    "    return replace\n",
    "\n",
    "#list of ip's\n",
    "ip= [\n",
    "    '243.268.001.001',\n",
    "    '192.001.010.012',\n",
    "    '001.002.003.004',\n",
    "    '010.020.030.040',\n",
    "    '127.000.000.001',\n",
    "]\n",
    "\n",
    "for i in ip:\n",
    "    res = Remove_zeros(i)\n",
    "    print(f\"{res} : IP_Adrress After Removing leading zeros\")"
   ]
  },
  {
   "cell_type": "markdown",
   "id": "98539d20",
   "metadata": {},
   "source": [
    "# Q14- Write a regular expression in python to match a date string in the form of Month name followed by day number and year stored in a text file.\n",
    "\n",
    "Sample text : ' On August 15th 1947 that India was declared independent from British colonialism, and the reins of control were handed over to the leaders of the Country’.\n",
    "Output- August 15th 1947\n",
    "\n"
   ]
  },
  {
   "cell_type": "code",
   "execution_count": 17,
   "id": "06ebf42c",
   "metadata": {},
   "outputs": [
    {
     "name": "stdout",
     "output_type": "stream",
     "text": [
      "May 15th 1847\n"
     ]
    }
   ],
   "source": [
    "\n",
    "text = \"On May 15th 1847 that India was declared independent from British colonialism, and the reins of control were handed over to the leaders of the Country.\"\n",
    "\n",
    "pattern = r\"(?P<date>(?:January|February|March|April|May|June|July|August|September|October|November|December)\\s+\\d{1,2}(?:st|nd|rd|th)?\\s+\\d{4})\"\n",
    "\n",
    "match = re.search(pattern, text)\n",
    "\n",
    "if match:\n",
    "    date_string = match.group(\"date\")\n",
    "    print(date_string)\n",
    "else:\n",
    "    print(\"No date found.\")"
   ]
  },
  {
   "cell_type": "markdown",
   "id": "3200f621",
   "metadata": {},
   "source": [
    "# Question 15- Write a Python program to search some literals strings in a string. Go to the editor\n",
    "Sample text : 'The quick brown fox jumps over the lazy dog.'\n",
    "Searched words : 'fox', 'dog', 'horse'\n"
   ]
  },
  {
   "cell_type": "code",
   "execution_count": 18,
   "id": "4ada160f",
   "metadata": {},
   "outputs": [
    {
     "data": {
      "text/plain": [
       "'fox'"
      ]
     },
     "execution_count": 18,
     "metadata": {},
     "output_type": "execute_result"
    }
   ],
   "source": [
    "#search for 'Fox'\n",
    "string = 'The quick brown fox jumps over the lazy dog.'\n",
    "res = re.search(r'\\bf\\w+',string)\n",
    "res.group()"
   ]
  },
  {
   "cell_type": "code",
   "execution_count": 19,
   "id": "be286904",
   "metadata": {},
   "outputs": [
    {
     "data": {
      "text/plain": [
       "'dog'"
      ]
     },
     "execution_count": 19,
     "metadata": {},
     "output_type": "execute_result"
    }
   ],
   "source": [
    "#search for 'dog' \n",
    "string = 'The quick brown fox jumps over the lazy dog.'\n",
    "res = re.search(r'\\bd\\w+',string)\n",
    "res.group()"
   ]
  },
  {
   "cell_type": "code",
   "execution_count": 20,
   "id": "54c9e50e",
   "metadata": {},
   "outputs": [
    {
     "name": "stdout",
     "output_type": "stream",
     "text": [
      "Not present\n"
     ]
    }
   ],
   "source": [
    "#search for 'horse' in string\n",
    "string = 'The quick brown fox jumps over the lazy dog.'\n",
    "res = re.search(r'\\bh\\w+',string)\n",
    "\n",
    "if res:\n",
    "  print(\"Yes, present\")\n",
    "else:\n",
    "  print(\"Not present\")"
   ]
  },
  {
   "cell_type": "markdown",
   "id": "71200e10",
   "metadata": {},
   "source": [
    "# Question 16- Write a Python program to search a literals string in a string and also find the location within the original string where the pattern occurs\n",
    "Sample text : 'The quick brown fox jumps over the lazy dog.'\n",
    "Searched words : 'fox'\n"
   ]
  },
  {
   "cell_type": "code",
   "execution_count": 21,
   "id": "978a3270",
   "metadata": {},
   "outputs": [
    {
     "name": "stdout",
     "output_type": "stream",
     "text": [
      "fox\n",
      "16\n"
     ]
    }
   ],
   "source": [
    "# start(): will get starting index of string\n",
    "string = 'The quick brown fox jumps over the lazy dog.'\n",
    "patt = r'\\bf\\w+'\n",
    "res = re.search(patt,string)\n",
    "print(res.group())\n",
    "print(res.start()) "
   ]
  },
  {
   "cell_type": "markdown",
   "id": "520fd368",
   "metadata": {},
   "source": [
    "# Question 17- Write a Python program to find the substrings within a string.\n",
    "Sample text : 'Python exercises, PHP exercises, C# exercises'\n",
    "Pattern : 'exercises'.\n"
   ]
  },
  {
   "cell_type": "code",
   "execution_count": 22,
   "id": "6260689a",
   "metadata": {},
   "outputs": [
    {
     "data": {
      "text/plain": [
       "'exercises'"
      ]
     },
     "execution_count": 22,
     "metadata": {},
     "output_type": "execute_result"
    }
   ],
   "source": [
    "string = 'Python exercises, PHP exercises, C# exercises'\n",
    "patt = r'exe\\w+'\n",
    "res = re.search(patt,string)\n",
    "res.group()"
   ]
  },
  {
   "cell_type": "markdown",
   "id": "e7ea5c5c",
   "metadata": {},
   "source": [
    "# Q18- Write a Python program to find the occurrence and position of the substrings within a string."
   ]
  },
  {
   "cell_type": "code",
   "execution_count": 23,
   "id": "5eb210e8",
   "metadata": {},
   "outputs": [
    {
     "name": "stdout",
     "output_type": "stream",
     "text": [
      "exercises\n",
      "7\n",
      "['exercises', 'exercises', 'exercises']\n",
      "Number of occurences  of substring in string is : 3\n"
     ]
    }
   ],
   "source": [
    "string = 'Python exercises, PHP exercises, C# exercises'\n",
    "sub = 'exercises'\n",
    "patt = r'exe\\w+'\n",
    "res = re.search(patt,string) \n",
    "print(res.group()) #to get substring\n",
    "print(res.start()) #to get position\n",
    "\n",
    "# To find occurence\n",
    "occur =  re.compile(sub)\n",
    "match = occur.findall(string)\n",
    "print(match)\n",
    "print(f'Number of occurences  of substring in string is : {len(match)}')"
   ]
  },
  {
   "cell_type": "markdown",
   "id": "117cfe59",
   "metadata": {},
   "source": [
    "# Q19- Write a Python program to convert a date of yyyy-mm-dd format to dd-mm-yyyy format"
   ]
  },
  {
   "cell_type": "code",
   "execution_count": 24,
   "id": "44b20e70",
   "metadata": {},
   "outputs": [
    {
     "name": "stdout",
     "output_type": "stream",
     "text": [
      "converted date: 2023-07-11\n"
     ]
    }
   ],
   "source": [
    "x = '2023-07-11'\n",
    "\n",
    "patt = re.compile(r'(\\d{4})-(\\d{2})-(\\d{2})')\n",
    "res = patt.match(x)\n",
    "if res:\n",
    "    dd = res.group(1)\n",
    "    mm = res.group(2)\n",
    "    yy = res.group(3)\n",
    "    convert = f'{dd}-{mm}-{yy}'\n",
    "    print('converted date:',convert)\n",
    "else:\n",
    "    print(\"Invalid\")"
   ]
  },
  {
   "cell_type": "markdown",
   "id": "f75b8f60",
   "metadata": {},
   "source": [
    "# Q20- Write a Python program to find all words starting with 'a' or 'e' in a given string"
   ]
  },
  {
   "cell_type": "code",
   "execution_count": 25,
   "id": "3dd77e79",
   "metadata": {},
   "outputs": [
    {
     "name": "stdout",
     "output_type": "stream",
     "text": [
      "amo : correct string\n",
      "ino : not correct\n",
      "ema : correct string\n",
      "bina : not correct\n",
      "ali : correct string\n",
      "sima : not correct\n",
      "enta : correct string\n"
     ]
    }
   ],
   "source": [
    "def find_word(str1):\n",
    "    pattern = r'^a|e'\n",
    "    res = re.findall(pattern,str1)\n",
    "    return res\n",
    "string = ['amo','ino','ema','bina','ali','sima','enta']\n",
    "\n",
    "#loop on string list\n",
    "for str1 in string: \n",
    "    if find_word(str1):\n",
    "        print(f'{str1} : correct string')\n",
    "    else:\n",
    "        print(f'{str1} : not correct')"
   ]
  },
  {
   "cell_type": "markdown",
   "id": "887d3798",
   "metadata": {},
   "source": [
    "# Q21- Write a Python program to separate and print the numbers and their position of a given string."
   ]
  },
  {
   "cell_type": "code",
   "execution_count": 26,
   "id": "e8b0968a",
   "metadata": {},
   "outputs": [
    {
     "name": "stdout",
     "output_type": "stream",
     "text": [
      "number: 10\n",
      "position : 7\n",
      "number: 5\n",
      "position : 21\n"
     ]
    }
   ],
   "source": [
    "patt = '\\d+'\n",
    "str1 = \"I have 10 apples and 5 oranges.\"\n",
    "res = re.finditer(patt,str1)\n",
    "for i in res:\n",
    "    num = i.group()\n",
    "    pos = i.start()\n",
    "    print(f'number: {num}')\n",
    "    print(f'position : {pos}')\n",
    "    "
   ]
  },
  {
   "cell_type": "markdown",
   "id": "7dc217e5",
   "metadata": {},
   "source": [
    "# Q22 - Write a regular expression in python program to extract maximum numeric value from a string"
   ]
  },
  {
   "cell_type": "code",
   "execution_count": 27,
   "id": "5da7aab9",
   "metadata": {},
   "outputs": [
    {
     "name": "stdout",
     "output_type": "stream",
     "text": [
      "92\n"
     ]
    }
   ],
   "source": [
    "string = 'we have 34 magoes 82 apple and 92 nuts'\n",
    "patt = r'\\d+'\n",
    "res = re.findall(patt,string)\n",
    "if res:\n",
    "    x = max(res)   \n",
    "    print(x)\n",
    "else:\n",
    "    print('Invalid') "
   ]
  },
  {
   "cell_type": "markdown",
   "id": "bb8fc3e7",
   "metadata": {},
   "source": [
    "# Q 23 - Write a Regex in Python to put spaces between words starting with capital letters"
   ]
  },
  {
   "cell_type": "code",
   "execution_count": 28,
   "id": "ae7ae556",
   "metadata": {},
   "outputs": [
    {
     "name": "stdout",
     "output_type": "stream",
     "text": [
      "The World Become Transform Soon\n"
     ]
    }
   ],
   "source": [
    "string = 'TheWorldBecomeTransformSoon'\n",
    "pattern = r'([a-z])([A-Z])'  #capture lowercase and capture upprcase\n",
    "result = re.sub(pattern, r'\\1 \\2', string) #\\1([a-z]), space, \\2([A-Z])\n",
    "print(result)"
   ]
  },
  {
   "cell_type": "markdown",
   "id": "1d21d5f2",
   "metadata": {},
   "source": [
    "# Q24- Python regex to find sequences of one upper case letter followed by lower case letters"
   ]
  },
  {
   "cell_type": "code",
   "execution_count": 29,
   "id": "64c9f080",
   "metadata": {},
   "outputs": [
    {
     "name": "stdout",
     "output_type": "stream",
     "text": [
      "the: Not followed\n",
      "liFe: This uppercase string followed by lowercase\n",
      "of: Not followed\n",
      "Robo: This uppercase string followed by lowercase\n",
      "worLd: This uppercase string followed by lowercase\n"
     ]
    }
   ],
   "source": [
    "def sequence(txt):\n",
    "    patt = r'[A-Z]+[a-z]+$' #one uppecase+Lowercase sequence \n",
    "    res = re.search(patt, txt)\n",
    "    return bool(res)\n",
    "\n",
    "string = ['the', \"liFe\", 'of', 'Robo','worLd']\n",
    "for txt in string:\n",
    "    if sequence(txt):\n",
    "        print(f'{txt}: This uppercase string followed by lowercase')\n",
    "    else:\n",
    "        print(f'{txt}: Not followed')"
   ]
  },
  {
   "cell_type": "markdown",
   "id": "021098d6",
   "metadata": {},
   "source": [
    "# Q 26-  Write a python program using RegEx to accept string ending with alphanumeric character."
   ]
  },
  {
   "cell_type": "code",
   "execution_count": 30,
   "id": "60dd6867",
   "metadata": {},
   "outputs": [
    {
     "name": "stdout",
     "output_type": "stream",
     "text": [
      "robo123: Ending with alphanumeric\n",
      "@gini : Invalid\n",
      "rima* : Invalid\n"
     ]
    }
   ],
   "source": [
    "def alpha_str(txt):\n",
    "    patt = r'^[a-zA-Z0-9]+$'\n",
    "    res = re.match(patt,txt)\n",
    "    return res\n",
    "string = ['robo123','@gini','rima*']\n",
    "for txt in string:\n",
    "    if alpha_str(txt):\n",
    "        print(f\"{txt}: Ending with alphanumeric\")\n",
    "    else:\n",
    "        print(f\"{txt} : Invalid\")"
   ]
  },
  {
   "cell_type": "markdown",
   "id": "c8ed3aed",
   "metadata": {},
   "source": [
    "# Question 27-Write a python program using RegEx to extract the hashtags."
   ]
  },
  {
   "cell_type": "code",
   "execution_count": 31,
   "id": "4e9bd7e0",
   "metadata": {},
   "outputs": [
    {
     "data": {
      "text/plain": [
       "['#Doltiwal', '#xyzabc', '#Demonetization']"
      ]
     },
     "execution_count": 31,
     "metadata": {},
     "output_type": "execute_result"
    }
   ],
   "source": [
    "string = \"\"\"RT @kapil_kausik: #Doltiwal I mean #xyzabc is \"hurt\" by\n",
    "#Demonetization as the same has rendered USELESS <ed><U+00A0><U+00BD><ed><U+00B1><U+0089> \"acquired funds\" No wo\"\"\"\n",
    "\n",
    "patt = r'\\#\\w+'\n",
    "x = re.findall(patt,string)\n",
    "x"
   ]
  },
  {
   "cell_type": "markdown",
   "id": "e41b6ba6",
   "metadata": {},
   "source": [
    "# Question 28- Write a python program using RegEx to remove <U+..> like symbols\n"
   ]
  },
  {
   "cell_type": "code",
   "execution_count": 32,
   "id": "b64e7a74",
   "metadata": {},
   "outputs": [
    {
     "data": {
      "text/plain": [
       "'@Jags123456 Bharat band on 28??<ed><ed>Those who  are protesting #demonetization  are all different party leaders'"
      ]
     },
     "execution_count": 32,
     "metadata": {},
     "output_type": "execute_result"
    }
   ],
   "source": [
    "string = \"@Jags123456 Bharat band on 28??<ed><U+00A0><U+00BD><ed><U+00B8><U+0082>Those who  are protesting #demonetization  are all different party leaders\"\n",
    "patt = r'<U\\+[A-Za-z0-9]{4}>'\n",
    "x = re.sub(patt,\"\",string)\n",
    "x"
   ]
  },
  {
   "cell_type": "markdown",
   "id": "554d8536",
   "metadata": {},
   "source": [
    "# Q 29- Write a python program to extract dates from the text stored in the text file.\n"
   ]
  },
  {
   "cell_type": "code",
   "execution_count": 33,
   "id": "533a78b4",
   "metadata": {},
   "outputs": [
    {
     "name": "stdout",
     "output_type": "stream",
     "text": [
      "['12-09-1992', '15-12-1999']\n"
     ]
    }
   ],
   "source": [
    "def extract_date(file):\n",
    "    with open(file,'r') as f:\n",
    "        txt = f.read()\n",
    "        res = re.findall(r'\\d{2}-\\d{2}-\\d{4}',txt)\n",
    "        return res\n",
    "file = 'Regex_Q29.txt'\n",
    "x = extract_date(file)\n",
    "print(x)"
   ]
  },
  {
   "cell_type": "markdown",
   "id": "4e8320d3",
   "metadata": {},
   "source": [
    "# Question 30- Write a Python program to replace all occurrences of a space, comma, or dot with a colon.\n"
   ]
  },
  {
   "cell_type": "code",
   "execution_count": 34,
   "id": "f232f158",
   "metadata": {},
   "outputs": [
    {
     "data": {
      "text/plain": [
       "'Python:Exercises::PHP:exercises:'"
      ]
     },
     "execution_count": 34,
     "metadata": {},
     "output_type": "execute_result"
    }
   ],
   "source": [
    "string = 'Python Exercises, PHP exercises.'\n",
    "res = re.sub(r'[ ,.]',':',string)\n",
    "res"
   ]
  },
  {
   "cell_type": "code",
   "execution_count": null,
   "id": "8177fe94",
   "metadata": {},
   "outputs": [],
   "source": []
  },
  {
   "cell_type": "code",
   "execution_count": null,
   "id": "4b69f203",
   "metadata": {},
   "outputs": [],
   "source": []
  },
  {
   "cell_type": "code",
   "execution_count": null,
   "id": "60d25abe",
   "metadata": {},
   "outputs": [],
   "source": []
  },
  {
   "cell_type": "code",
   "execution_count": null,
   "id": "22b08070",
   "metadata": {},
   "outputs": [],
   "source": []
  },
  {
   "cell_type": "code",
   "execution_count": null,
   "id": "919d8b39",
   "metadata": {},
   "outputs": [],
   "source": []
  },
  {
   "cell_type": "code",
   "execution_count": null,
   "id": "9bbe633e",
   "metadata": {},
   "outputs": [],
   "source": []
  },
  {
   "cell_type": "code",
   "execution_count": null,
   "id": "e2f1444e",
   "metadata": {},
   "outputs": [],
   "source": []
  },
  {
   "cell_type": "code",
   "execution_count": null,
   "id": "f1f261fd",
   "metadata": {},
   "outputs": [],
   "source": []
  },
  {
   "cell_type": "code",
   "execution_count": null,
   "id": "cbc2a98b",
   "metadata": {},
   "outputs": [],
   "source": []
  }
 ],
 "metadata": {
  "kernelspec": {
   "display_name": "Python 3 (ipykernel)",
   "language": "python",
   "name": "python3"
  },
  "language_info": {
   "codemirror_mode": {
    "name": "ipython",
    "version": 3
   },
   "file_extension": ".py",
   "mimetype": "text/x-python",
   "name": "python",
   "nbconvert_exporter": "python",
   "pygments_lexer": "ipython3",
   "version": "3.9.13"
  }
 },
 "nbformat": 4,
 "nbformat_minor": 5
}
