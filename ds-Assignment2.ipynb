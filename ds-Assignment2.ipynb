{
 "cells": [
  {
   "cell_type": "markdown",
   "id": "da058c64",
   "metadata": {},
   "source": [
    "# Q1: : Write a python program to scrape data for “Data Analyst” Job position in “Bangalore” location"
   ]
  },
  {
   "cell_type": "code",
   "execution_count": 1,
   "id": "138af692",
   "metadata": {},
   "outputs": [],
   "source": [
    "import selenium\n",
    "import pandas as pd\n",
    "from selenium import webdriver\n",
    "import warnings\n",
    "warnings.filterwarnings('ignore')\n",
    "from selenium.webdriver.common.by import By\n",
    "import time"
   ]
  },
  {
   "cell_type": "code",
   "execution_count": 17,
   "id": "6f7b394c",
   "metadata": {},
   "outputs": [],
   "source": [
    "#generate automated chrom page\n",
    "driver = webdriver.Chrome(r\"chromedriver.exe\")\n"
   ]
  },
  {
   "cell_type": "code",
   "execution_count": 18,
   "id": "5477631f",
   "metadata": {},
   "outputs": [],
   "source": [
    "#get link\n",
    "driver.get(\"http://naukri.com/\")"
   ]
  },
  {
   "cell_type": "code",
   "execution_count": 19,
   "id": "2c6f02e7",
   "metadata": {},
   "outputs": [],
   "source": [
    "# search for skill,and location\n",
    "\n",
    "designation = driver.find_element(By.CLASS_NAME,\"suggestor-input \")\n",
    "designation.send_keys('Data Analyst')\n",
    "\n",
    "location = driver.find_element(By.XPATH,\"/html/body/div[1]/div[7]/div/div/div[5]/div/div/div/div[1]/div/input\")\n",
    "location.send_keys('Bangalore')\n",
    "\n",
    "search = driver.find_element(By.CLASS_NAME,'qsbSubmit')\n",
    "search.click()"
   ]
  },
  {
   "cell_type": "markdown",
   "id": "981a7bea",
   "metadata": {},
   "source": [
    "scrape the job-title, job-location, company_name, experience_required"
   ]
  },
  {
   "cell_type": "code",
   "execution_count": 20,
   "id": "e9331a22",
   "metadata": {},
   "outputs": [],
   "source": [
    "# Initialize empty lists\n",
    "job_titles = []\n",
    "job_locations = []\n",
    "company_names = []\n",
    "experience_required = []\n",
    "\n",
    "# Scraping job titles\n",
    "titles = driver.find_elements(By.XPATH, '//a[@class=\"title ellipsis\"]') \n",
    "\n",
    "for title in titles[0:10]:  \n",
    "    tag = title.text  \n",
    "    job_titles.append(tag)\n",
    "\n",
    "# Scraping job locations\n",
    "locations = driver.find_elements(By.XPATH, '//span[@class=\"ellipsis fleft locWdth\"]')  \n",
    "for location in locations[0:10]:  \n",
    "    l1 = location.text  \n",
    "    job_locations.append(l1)\n",
    "\n",
    "# Scraping company names\n",
    "companies = driver.find_elements(By.XPATH, '//a[@class=\"subTitle ellipsis fleft\"]') \n",
    "\n",
    "for company in companies[0:10]:  \n",
    "    com = company.text  \n",
    "    company_names.append(com)\n",
    "\n",
    "# Scraping experience requirements\n",
    "experiences = driver.find_elements(By.XPATH, '//span[@class=\"ellipsis fleft expwdth\"]')\n",
    "\n",
    "for experience in experiences[0:10]:\n",
    "    exp = experience.text\n",
    "    experience_required.append(exp)\n",
    "\n",
    "\n"
   ]
  },
  {
   "cell_type": "markdown",
   "id": "cfb6566e",
   "metadata": {},
   "source": [
    "DataFrame"
   ]
  },
  {
   "cell_type": "code",
   "execution_count": 23,
   "id": "764805b1",
   "metadata": {},
   "outputs": [],
   "source": [
    "# Create a dataframe of the scraped data\n",
    "data = {\n",
    "    'Job Title': job_titles,\n",
    "    'Job Location': job_locations,\n",
    "    'Company Name': company_names,\n",
    "    'Experience Required': experience_required\n",
    "}\n",
    "\n",
    "df = pd.DataFrame(data)\n"
   ]
  },
  {
   "cell_type": "code",
   "execution_count": 22,
   "id": "ae132fb5",
   "metadata": {},
   "outputs": [
    {
     "data": {
      "text/html": [
       "<div>\n",
       "<style scoped>\n",
       "    .dataframe tbody tr th:only-of-type {\n",
       "        vertical-align: middle;\n",
       "    }\n",
       "\n",
       "    .dataframe tbody tr th {\n",
       "        vertical-align: top;\n",
       "    }\n",
       "\n",
       "    .dataframe thead th {\n",
       "        text-align: right;\n",
       "    }\n",
       "</style>\n",
       "<table border=\"1\" class=\"dataframe\">\n",
       "  <thead>\n",
       "    <tr style=\"text-align: right;\">\n",
       "      <th></th>\n",
       "      <th>Job Title</th>\n",
       "      <th>Job Location</th>\n",
       "      <th>Company Name</th>\n",
       "      <th>Experience Required</th>\n",
       "    </tr>\n",
       "  </thead>\n",
       "  <tbody>\n",
       "    <tr>\n",
       "      <th>0</th>\n",
       "      <td>Tech Data Analyst</td>\n",
       "      <td>Hybrid - Bangalore/ Bengaluru, Karnataka, Gurg...</td>\n",
       "      <td>Wipro</td>\n",
       "      <td>3-6 Yrs</td>\n",
       "    </tr>\n",
       "    <tr>\n",
       "      <th>1</th>\n",
       "      <td>Data Analyst</td>\n",
       "      <td>Bangalore/Bengaluru</td>\n",
       "      <td>Brunel</td>\n",
       "      <td>4-6 Yrs</td>\n",
       "    </tr>\n",
       "    <tr>\n",
       "      <th>2</th>\n",
       "      <td>Celonis &amp; Salesforce Data Analyst</td>\n",
       "      <td>Bangalore/Bengaluru, Chennai</td>\n",
       "      <td>Hitachi Energy</td>\n",
       "      <td>3-6 Yrs</td>\n",
       "    </tr>\n",
       "    <tr>\n",
       "      <th>3</th>\n",
       "      <td>Knowledge Data Analyst</td>\n",
       "      <td>Bangalore/Bengaluru</td>\n",
       "      <td>SAP</td>\n",
       "      <td>4-6 Yrs</td>\n",
       "    </tr>\n",
       "    <tr>\n",
       "      <th>4</th>\n",
       "      <td>Data Analyst</td>\n",
       "      <td>Bangalore/Bengaluru, Kolkata, Hyderabad/Secund...</td>\n",
       "      <td>Tata Consultancy Services (TCS)</td>\n",
       "      <td>5-10 Yrs</td>\n",
       "    </tr>\n",
       "    <tr>\n",
       "      <th>5</th>\n",
       "      <td>Data Analyst (Bangalore)</td>\n",
       "      <td>Bangalore/Bengaluru</td>\n",
       "      <td>Krazy Mantra</td>\n",
       "      <td>7-12 Yrs</td>\n",
       "    </tr>\n",
       "    <tr>\n",
       "      <th>6</th>\n",
       "      <td>Insight Data Analyst</td>\n",
       "      <td>Bangalore/ Bengaluru, Karnataka, Noida, Uttar ...</td>\n",
       "      <td>Vuca Consulting</td>\n",
       "      <td>5-10 Yrs</td>\n",
       "    </tr>\n",
       "    <tr>\n",
       "      <th>7</th>\n",
       "      <td>Data Analyst</td>\n",
       "      <td>Bangalore/Bengaluru</td>\n",
       "      <td>Loyalytics Consulting</td>\n",
       "      <td>4-9 Yrs</td>\n",
       "    </tr>\n",
       "    <tr>\n",
       "      <th>8</th>\n",
       "      <td>Data Analyst</td>\n",
       "      <td>Bangalore/Bengaluru</td>\n",
       "      <td>Clairvoyant India Pvt. Ltd</td>\n",
       "      <td>3-6 Yrs</td>\n",
       "    </tr>\n",
       "    <tr>\n",
       "      <th>9</th>\n",
       "      <td>Data Analyst</td>\n",
       "      <td>Bangalore/Bengaluru</td>\n",
       "      <td>Lowes Services India Private limited</td>\n",
       "      <td>3-5 Yrs</td>\n",
       "    </tr>\n",
       "  </tbody>\n",
       "</table>\n",
       "</div>"
      ],
      "text/plain": [
       "                           Job Title  \\\n",
       "0                  Tech Data Analyst   \n",
       "1                       Data Analyst   \n",
       "2  Celonis & Salesforce Data Analyst   \n",
       "3             Knowledge Data Analyst   \n",
       "4                       Data Analyst   \n",
       "5           Data Analyst (Bangalore)   \n",
       "6               Insight Data Analyst   \n",
       "7                       Data Analyst   \n",
       "8                       Data Analyst   \n",
       "9                       Data Analyst   \n",
       "\n",
       "                                        Job Location  \\\n",
       "0  Hybrid - Bangalore/ Bengaluru, Karnataka, Gurg...   \n",
       "1                                Bangalore/Bengaluru   \n",
       "2                       Bangalore/Bengaluru, Chennai   \n",
       "3                                Bangalore/Bengaluru   \n",
       "4  Bangalore/Bengaluru, Kolkata, Hyderabad/Secund...   \n",
       "5                                Bangalore/Bengaluru   \n",
       "6  Bangalore/ Bengaluru, Karnataka, Noida, Uttar ...   \n",
       "7                                Bangalore/Bengaluru   \n",
       "8                                Bangalore/Bengaluru   \n",
       "9                                Bangalore/Bengaluru   \n",
       "\n",
       "                           Company Name Experience Required  \n",
       "0                                 Wipro             3-6 Yrs  \n",
       "1                                Brunel             4-6 Yrs  \n",
       "2                        Hitachi Energy             3-6 Yrs  \n",
       "3                                   SAP             4-6 Yrs  \n",
       "4       Tata Consultancy Services (TCS)            5-10 Yrs  \n",
       "5                          Krazy Mantra            7-12 Yrs  \n",
       "6                       Vuca Consulting            5-10 Yrs  \n",
       "7                 Loyalytics Consulting             4-9 Yrs  \n",
       "8            Clairvoyant India Pvt. Ltd             3-6 Yrs  \n",
       "9  Lowes Services India Private limited             3-5 Yrs  "
      ]
     },
     "execution_count": 22,
     "metadata": {},
     "output_type": "execute_result"
    }
   ],
   "source": [
    "df"
   ]
  },
  {
   "cell_type": "markdown",
   "id": "2e75570e",
   "metadata": {},
   "source": [
    "# Q2:scrape data for “Data Scientist” Job position in “Bangalore” location"
   ]
  },
  {
   "cell_type": "markdown",
   "id": "4fc4b99a",
   "metadata": {},
   "source": [
    "scrape the job-title, job-location, company_name"
   ]
  },
  {
   "cell_type": "code",
   "execution_count": 31,
   "id": "a97e5e77",
   "metadata": {},
   "outputs": [],
   "source": [
    "driver2 = webdriver.Chrome(r\"chromedriver.exe\")"
   ]
  },
  {
   "cell_type": "code",
   "execution_count": 32,
   "id": "7dd5c396",
   "metadata": {},
   "outputs": [],
   "source": [
    "driver2.get(\"http://naukri.com/\")"
   ]
  },
  {
   "cell_type": "code",
   "execution_count": 33,
   "id": "3c106b80",
   "metadata": {},
   "outputs": [],
   "source": [
    "#designation 'data scientist'\n",
    "designation = driver2.find_element(By.CLASS_NAME,\"suggestor-input \")\n",
    "designation.send_keys('Data Scientist')\n",
    "\n",
    "#location\n",
    "location = driver2.find_element(By.XPATH,\"/html/body/div[1]/div[7]/div/div/div[5]/div/div/div/div[1]/div/input\")\n",
    "location.send_keys('Bangalore')\n",
    "\n",
    "#search\n",
    "search = driver2.find_element(By.CLASS_NAME,'qsbSubmit')\n",
    "search.click()"
   ]
  },
  {
   "cell_type": "code",
   "execution_count": 34,
   "id": "d7f4af1f",
   "metadata": {},
   "outputs": [],
   "source": [
    "# Initialize empty lists\n",
    "Titles = []\n",
    "Locations = []\n",
    "Company = []\n",
    "\n",
    "\n",
    "# Scraping job titles\n",
    "titles = driver2.find_elements(By.XPATH, '//a[@class=\"title ellipsis\"]') \n",
    "\n",
    "for title in titles[0:10]:  \n",
    "    tag = title.text  \n",
    "    Titles.append(tag)\n",
    "\n",
    "# Scraping job locations\n",
    "locations = driver2.find_elements(By.XPATH, '//span[@class=\"ellipsis fleft locWdth\"]')  \n",
    "for location in locations[0:10]:  \n",
    "    l1 = location.text  \n",
    "    Locations.append(l1)\n",
    "\n",
    "# Scraping company names\n",
    "companies = driver2.find_elements(By.XPATH, '//a[@class=\"subTitle ellipsis fleft\"]') \n",
    "\n",
    "for company in companies[0:10]:  \n",
    "    com = company.text  \n",
    "    Company.append(com)\n"
   ]
  },
  {
   "cell_type": "code",
   "execution_count": 35,
   "id": "1eeb2e2d",
   "metadata": {},
   "outputs": [],
   "source": [
    "# Create a dataframe of the scraped data\n",
    "data1 = {\n",
    "    'Title': Titles,\n",
    "    'Location': Locations,\n",
    "    'Company Name': Company,\n",
    "    \n",
    "}\n",
    "\n",
    "df2 = pd.DataFrame(data1)\n"
   ]
  },
  {
   "cell_type": "code",
   "execution_count": 36,
   "id": "bc4ada5d",
   "metadata": {},
   "outputs": [
    {
     "data": {
      "text/html": [
       "<div>\n",
       "<style scoped>\n",
       "    .dataframe tbody tr th:only-of-type {\n",
       "        vertical-align: middle;\n",
       "    }\n",
       "\n",
       "    .dataframe tbody tr th {\n",
       "        vertical-align: top;\n",
       "    }\n",
       "\n",
       "    .dataframe thead th {\n",
       "        text-align: right;\n",
       "    }\n",
       "</style>\n",
       "<table border=\"1\" class=\"dataframe\">\n",
       "  <thead>\n",
       "    <tr style=\"text-align: right;\">\n",
       "      <th></th>\n",
       "      <th>Title</th>\n",
       "      <th>Location</th>\n",
       "      <th>Company Name</th>\n",
       "    </tr>\n",
       "  </thead>\n",
       "  <tbody>\n",
       "    <tr>\n",
       "      <th>0</th>\n",
       "      <td>Permanent Opportunity - Data Scientist(Snaplog...</td>\n",
       "      <td>Hybrid - Bangalore/Bengaluru, Kolkata, Hyderab...</td>\n",
       "      <td>Deloitte</td>\n",
       "    </tr>\n",
       "    <tr>\n",
       "      <th>1</th>\n",
       "      <td>Analystics &amp; Modeling Specialist</td>\n",
       "      <td>Bangalore/Bengaluru, Kolkata, Mumbai, Hyderaba...</td>\n",
       "      <td>Accenture</td>\n",
       "    </tr>\n",
       "    <tr>\n",
       "      <th>2</th>\n",
       "      <td>Machine Learning (AI) Architect</td>\n",
       "      <td>Bangalore/Bengaluru, Kolkata, Mumbai, New Delh...</td>\n",
       "      <td>Persistent</td>\n",
       "    </tr>\n",
       "    <tr>\n",
       "      <th>3</th>\n",
       "      <td>Data Scientist</td>\n",
       "      <td>Bangalore/Bengaluru</td>\n",
       "      <td>Ericsson</td>\n",
       "    </tr>\n",
       "    <tr>\n",
       "      <th>4</th>\n",
       "      <td>Data Scientist</td>\n",
       "      <td>Bangalore/Bengaluru</td>\n",
       "      <td>Ericsson</td>\n",
       "    </tr>\n",
       "    <tr>\n",
       "      <th>5</th>\n",
       "      <td>Data Scientist</td>\n",
       "      <td>Bangalore/ Bengaluru, Karnataka</td>\n",
       "      <td>Tata Consultancy Services (TCS)</td>\n",
       "    </tr>\n",
       "    <tr>\n",
       "      <th>6</th>\n",
       "      <td>Senior Data Scientist</td>\n",
       "      <td>Bangalore/Bengaluru</td>\n",
       "      <td>Walmart</td>\n",
       "    </tr>\n",
       "    <tr>\n",
       "      <th>7</th>\n",
       "      <td>Data Scientist</td>\n",
       "      <td>Bangalore/Bengaluru</td>\n",
       "      <td>Walmart</td>\n",
       "    </tr>\n",
       "    <tr>\n",
       "      <th>8</th>\n",
       "      <td>Hiring For Data Scientist</td>\n",
       "      <td>Hybrid - Bangalore/ Bengaluru, Karnataka, Hyde...</td>\n",
       "      <td>Tata Consultancy Services (TCS)</td>\n",
       "    </tr>\n",
       "    <tr>\n",
       "      <th>9</th>\n",
       "      <td>Data Scientist</td>\n",
       "      <td>Hybrid - Bangalore/Bengaluru, Pune, Delhi / NC...</td>\n",
       "      <td>Infogain</td>\n",
       "    </tr>\n",
       "  </tbody>\n",
       "</table>\n",
       "</div>"
      ],
      "text/plain": [
       "                                               Title  \\\n",
       "0  Permanent Opportunity - Data Scientist(Snaplog...   \n",
       "1                   Analystics & Modeling Specialist   \n",
       "2                    Machine Learning (AI) Architect   \n",
       "3                                     Data Scientist   \n",
       "4                                     Data Scientist   \n",
       "5                                     Data Scientist   \n",
       "6                              Senior Data Scientist   \n",
       "7                                     Data Scientist   \n",
       "8                          Hiring For Data Scientist   \n",
       "9                                     Data Scientist   \n",
       "\n",
       "                                            Location  \\\n",
       "0  Hybrid - Bangalore/Bengaluru, Kolkata, Hyderab...   \n",
       "1  Bangalore/Bengaluru, Kolkata, Mumbai, Hyderaba...   \n",
       "2  Bangalore/Bengaluru, Kolkata, Mumbai, New Delh...   \n",
       "3                                Bangalore/Bengaluru   \n",
       "4                                Bangalore/Bengaluru   \n",
       "5                    Bangalore/ Bengaluru, Karnataka   \n",
       "6                                Bangalore/Bengaluru   \n",
       "7                                Bangalore/Bengaluru   \n",
       "8  Hybrid - Bangalore/ Bengaluru, Karnataka, Hyde...   \n",
       "9  Hybrid - Bangalore/Bengaluru, Pune, Delhi / NC...   \n",
       "\n",
       "                      Company Name  \n",
       "0                         Deloitte  \n",
       "1                        Accenture  \n",
       "2                       Persistent  \n",
       "3                         Ericsson  \n",
       "4                         Ericsson  \n",
       "5  Tata Consultancy Services (TCS)  \n",
       "6                          Walmart  \n",
       "7                          Walmart  \n",
       "8  Tata Consultancy Services (TCS)  \n",
       "9                         Infogain  "
      ]
     },
     "execution_count": 36,
     "metadata": {},
     "output_type": "execute_result"
    }
   ],
   "source": [
    "df2"
   ]
  },
  {
   "cell_type": "code",
   "execution_count": 90,
   "id": "53bee61d",
   "metadata": {},
   "outputs": [],
   "source": [
    "driver2.quit()"
   ]
  },
  {
   "cell_type": "markdown",
   "id": "99dfb26b",
   "metadata": {},
   "source": [
    "# Q3: Enter “Data Scientist” in “Skill, Designations, and Companies” field."
   ]
  },
  {
   "cell_type": "code",
   "execution_count": 268,
   "id": "501ddb81",
   "metadata": {},
   "outputs": [],
   "source": [
    "driver3 = webdriver.Chrome(r\"chromedriver.exe\")\n",
    "driver3.get(\"http://naukri.com/\")\n",
    "\n",
    "#skill\n",
    "designation = driver3.find_element(By.CLASS_NAME,\"suggestor-input \")\n",
    "designation.send_keys('Data Scientist')\n",
    "\n",
    "#search\n",
    "search = driver3.find_element(By.CLASS_NAME,'qsbSubmit')\n",
    "search.click()\n",
    "\n",
    "\n"
   ]
  },
  {
   "cell_type": "code",
   "execution_count": 273,
   "id": "f18464ab",
   "metadata": {},
   "outputs": [],
   "source": [
    "import pandas as pd\n",
    "import requests\n",
    "from bs4 import BeautifulSoup\n",
    "\n",
    "# Send GET request to the naukri.com website\n",
    "url = 'https://www.naukri.com/data-scientist-jobs'\n",
    "response = requests.get(url)\n",
    "\n",
    "# Create BeautifulSoup object from the response content\n",
    "\n"
   ]
  },
  {
   "cell_type": "code",
   "execution_count": 291,
   "id": "5b9f5865",
   "metadata": {},
   "outputs": [
    {
     "data": {
      "text/plain": [
       "<!DOCTYPE html>\n",
       "<html lang=\"en\"> <head> <meta content=\"IE=Edge\" http-equiv=\"X-UA-Compatible\"/> <meta content=\"width=device-width,initial-scale=1.0, maximum-scale=1.0, minimum-scale=1.0, user-scalable=no\" name=\"viewport\"/> <link href=\"//static.naukimg.com\" rel=\"dns-prefetch preconnect\"/> <link href=\"//img.naukimg.com\" rel=\"dns-prefetch preconnect\"/> <link href=\"//logs.naukri.com\" rel=\"dns-prefetch preconnect\"/> <link href=\"//lg.naukri.com\" rel=\"dns-prefetch preconnect\"/> <link href=\"https://www.googletagmanager.com\" rel=\"dns-prefetch\"/> <base href=\"//www.naukri.com\"/> <link href=\"./manifest.json\" rel=\"manifest\"/> <link as=\"style\" href=\"//static.naukimg.com/s/7/109/c/main.16f16519.min.css\" rel=\"preload\"/> <link as=\"script\" crossorigin=\"anonymous\" href=\"//static.naukimg.com/s/7/109/j/main.f485e71d.min.js\" rel=\"preload\"/> <link as=\"script\" href=\"https://static.naukimg.com/s/7/0/j/widget-client-ni.min.js\" rel=\"preload\"/> <link as=\"script\" href=\"https://static.naukimg.com/s/7/0/j/naukri-widget_v12.3.min.js\" rel=\"preload\"/> <script>\n",
       "        window.ipAddress = \"www.naukri.com\";\n",
       "        window.DEBUG = true;\n",
       "        window.appId = 135;\n",
       "                    var isCrawler = false;\n",
       "                            var ucBrowser = false;\n",
       "            </script> <style type=\"text/css\"> .splScrn{ height: 100%; } body{margin:0} .nkIcon { width: 19rem; height:19rem; margin: auto; position: relative; padding-top: 95px; } .nk-text { font-size: 40px; margin-bottom: 60px; text-align: center; font-weight: 700; color:#999; font-family:arial } #circleG { width: 9rem; margin: auto } .circleG { background-color: #2DABE2; float: left; height: 14px; margin: 5px; width: 14px; animation-name: bounce_circleG; -o-animation-name: bounce_circleG; -ms-animation-name: bounce_circleG; -webkit-animation-name: bounce_circleG; -moz-animation-name: bounce_circleG; animation-duration: 1.8s; -o-animation-duration: 1.8s; -ms-animation-duration: 1.8s; -webkit-animation-duration: 1.8s; -moz-animation-duration: 1.8s; animation-iteration-count: infinite; -o-animation-iteration-count: infinite; -ms-animation-iteration-count: infinite; -webkit-animation-iteration-count: infinite; -moz-animation-iteration-count: infinite; animation-direction: normal; -o-animation-direction: normal; -ms-animation-direction: normal; -webkit-animation-direction: normal; -moz-animation-direction: normal; border-radius: 50%; -o-border-radius: 50%; -ms-border-radius: 50%; -webkit-border-radius: 50%; -moz-border-radius: 50% } #root, body, html { height: 100% } #circleG_1 { animation-delay: .45s; -o-animation-delay: .45s; -ms-animation-delay: .45s; -webkit-animation-delay: .45s; -moz-animation-delay: .45s } #circleG_2 { animation-delay: .65s; -o-animation-delay: .65s; -ms-animation-delay: .65s; -webkit-animation-delay: .65s; -moz-animation-delay: .65s } #circleG_3 { animation-delay: .85s; -o-animation-delay: .85s; -ms-animation-delay: .85s; -webkit-animation-delay: .85s; -moz-animation-delay: .85s } #circleG_4 { animation-delay: 1.05s; -o-animation-delay: 1.05s; -ms-animation-delay: 1.05s; -webkit-animation-delay: 1.05s; -moz-animation-delay: 1.05s } #circleG_5 { animation-delay: 1.25s; -o-animation-delay: 1.25s; -ms-animation-delay: 1.25s; -webkit-animation-delay: 1.25s; -moz-animation-delay: 1.25s } @keyframes bounce_circleG { 50% { width: 10px; height: 10px; margin: 7px; background-color: rgba(12, 109, 182, 0) } } </style> </head> <body> <img height=\"99999\" src=\"data:image/svg+xml;base64,PD94bWwgdmVyc2lvbj0iMS4wI iBlbmNvZGluZz0iVVRGLTgiPz48c3ZnIHdpZHRoPSI5OTk5OXB4IiBoZWlnaHQ9Ijk5OTk5cHgiIHZpZXdCb3g9IjAgMCA5OTk5OSA5OTk5OSIgdmVyc2lvbj0iMS4xIiB4bWxucz0iaHR0cDovL3d3dy53My5vcmcvMjAwMC9zdmciIHhtbG5zOnhsaW5rPSJodHRwOi8v d3d3LnczLm9yZy8xOTk5L3hsaW5rIj48ZyBzdHJva2U9Im5vbmUiIGZpbGw9Im5vbmUiIGZpbGwtb3BhY2l0eT0iMCI+PHJlY3QgeD0iMCIgeT0iMCIgd2lkdGg9Ijk5OTk5IiBoZWlnaHQ9Ijk5OTk5Ij48L3JlY3Q+IDwvZz4gPC9zdmc+\" style=\"pointer-events:none;position:absolute;top:0;left:0;width:95vw;height:95vh;max-width:95vw;max-height:95vh\" width=\"99999\"/> <img height=\"400\" src=\"https://static.naukimg.com/s/0/0/i/transparentImg.png\" style=\"pointer-events:none;position:absolute;top:0;left:0;width:400px;height:400px;max-width:400px;max-height:400px;z-index:1000;\" width=\"400\"/> <noscript> <iframe height=\"0\" src=\"https://www.googletagmanager.com/ns.html?id=GTM-NX744H\" style=\"display:none;visibility:hidden\" width=\"0\"></iframe> </noscript> <div id=\"root\"> <div class=\"splScrn\"> <div class=\"row top\"> <div class=\"nkIcon\"><svg viewbox=\"0 0 315 315\" xmlns=\"http://www.w3.org/2000/svg\"><style type=\"text/css\"> .st0{fill:#2DABE2;} .st1{fill:#0C6DB6;} .st2{fill:#EC2227;} .st3{fill:#444444;} .st4{fill-rule:evenodd;clip-rule:evenodd;fill:#EC2227;} .st5{fill-rule:evenodd;clip-rule:evenodd;fill:#0C6DB6;} </style><path class=\"st0\" d=\"M0 200.8h10v4.6c1.5-1.9 3-3.2 4.5-4 1.5-0.8 3.4-1.2 5.6-1.2 3 0 5.3 0.9 7 2.7 1.7 1.8 2.5 4.5 2.5 8.2v17.8H18.8v-15.4c0-1.8-0.3-3-1-3.7 -0.7-0.7-1.6-1.1-2.7-1.1 -1.3 0-2.4 0.5-3.2 1.5 -0.8 1-1.2 2.8-1.2 5.3v13.4H0V200.8z\"></path><path class=\"st0\" d=\"M45.8 209.9l-10.3-1.1c0.4-1.8 0.9-3.2 1.7-4.2 0.7-1 1.8-1.9 3.2-2.7 1-0.5 2.3-1 4.1-1.3 1.7-0.3 3.6-0.4 5.6-0.4 3.2 0 5.8 0.2 7.8 0.5 2 0.4 3.6 1.1 4.9 2.3 0.9 0.8 1.6 1.9 2.2 3.4 0.5 1.5 0.8 2.8 0.8 4.2v12.4c0 1.3 0.1 2.4 0.3 3.1 0.2 0.7 0.5 1.7 1.1 2.9H56.9c-0.4-0.7-0.7-1.3-0.8-1.6 -0.1-0.4-0.2-1-0.4-1.8 -1.4 1.4-2.8 2.3-4.2 2.9 -1.9 0.8-4.1 1.2-6.6 1.2 -3.3 0-5.9-0.8-7.6-2.3 -1.7-1.5-2.6-3.5-2.6-5.7 0-2.1 0.6-3.9 1.9-5.2 1.2-1.4 3.6-2.4 6.9-3.1 4-0.8 6.6-1.4 7.8-1.7 1.2-0.3 2.5-0.8 3.8-1.3 0-1.3-0.3-2.2-0.8-2.8 -0.5-0.5-1.5-0.8-2.9-0.8 -1.8 0-3.1 0.3-4 0.8C46.8 207.8 46.2 208.6 45.8 209.9zM55.1 215.5c-1.5 0.5-3 1-4.6 1.4 -2.2 0.6-3.6 1.2-4.1 1.7 -0.6 0.6-0.9 1.2-0.9 2 0 0.8 0.3 1.5 0.9 2.1 0.6 0.5 1.5 0.8 2.6 0.8 1.2 0 2.3-0.3 3.3-0.9 1-0.6 1.8-1.3 2.2-2.1 0.4-0.8 0.6-1.9 0.6-3.3V215.5z\"></path><path class=\"st0\" d=\"M101.6 228.8h-10v-4.5c-1.5 1.9-3 3.2-4.5 4 -1.5 0.8-3.4 1.2-5.6 1.2 -3 0-5.3-0.9-6.9-2.7 -1.7-1.8-2.5-4.5-2.5-8.2v-17.8h10.8v15.4c0 1.8 0.3 3 1 3.7 0.7 0.7 1.6 1.1 2.7 1.1 1.3 0 2.3-0.5 3.2-1.5 0.8-1 1.2-2.8 1.2-5.3v-13.5h10.7V228.8z\"></path><path class=\"st0\" d=\"M108.1 190.1h11v20l8-9.3h13.2l-10 9.8 10.6 18.2h-12.1l-5.7-11.2 -4 3.9v7.3h-11V190.1z\"></path><path class=\"st0\" d=\"M144.2 200.8h10v4.6c1-2 2-3.4 3-4.1 1-0.7 2.3-1.1 3.8-1.1 1.6 0 3.3 0.5 5.2 1.5l-3.3 7.6c-1.3-0.5-2.3-0.8-3-0.8 -1.4 0-2.5 0.6-3.3 1.7 -1.1 1.6-1.7 4.7-1.7 9.2v9.4h-10.8V200.8z\"></path><path class=\"st0\" d=\"M168.5 190.1h10.7v7.3h-10.7V190.1zM168.5 200.8h10.7v28h-10.7V200.8z\"></path><path class=\"st1\" d=\"M216.1 217.8l10.2 1.2c-0.6 2.1-1.5 4-2.8 5.5 -1.3 1.6-2.9 2.8-4.9 3.6 -2 0.9-4.5 1.3-7.6 1.3 -3 0-5.4-0.3-7.4-0.8 -2-0.6-3.7-1.4-5.1-2.7 -1.4-1.2-2.5-2.7-3.3-4.4 -0.8-1.7-1.2-3.9-1.2-6.6 0-2.9 0.5-5.3 1.5-7.2 0.7-1.4 1.7-2.7 3-3.8 1.2-1.1 2.5-1.9 3.9-2.5 2.1-0.9 4.8-1.3 8-1.3 4.6 0 8.1 0.8 10.5 2.5 2.4 1.6 4.1 4 5.1 7.2l-10.1 1.3c-0.3-1.2-0.9-2.1-1.7-2.7 -0.8-0.6-2-0.9-3.4-0.9 -1.8 0-3.2 0.6-4.3 1.9 -1.1 1.3-1.6 3.2-1.6 5.8 0 2.3 0.5 4 1.6 5.2 1.1 1.2 2.5 1.8 4.2 1.8 1.4 0 2.6-0.4 3.5-1.1C214.9 220.4 215.7 219.3 216.1 217.8z\"></path><path class=\"st1\" d=\"M230 214.9c0-4.3 1.4-7.8 4.3-10.6 2.9-2.8 6.8-4.2 11.7-4.2 5.6 0 9.8 1.6 12.7 4.9 2.3 2.6 3.5 5.8 3.5 9.7 0 4.3-1.4 7.8-4.3 10.6 -2.9 2.8-6.8 4.1-11.9 4.1 -4.5 0-8.1-1.1-10.9-3.4C231.7 223.2 230 219.5 230 214.9zM240.7 214.8c0 2.5 0.5 4.3 1.5 5.5 1 1.2 2.3 1.8 3.8 1.8 1.5 0 2.8-0.6 3.8-1.8 1-1.2 1.5-3.1 1.5-5.7 0-2.4-0.5-4.2-1.5-5.4 -1-1.2-2.2-1.8-3.7-1.8 -1.6 0-2.9 0.6-3.9 1.8C241.2 210.5 240.7 212.4 240.7 214.8z\"></path><path class=\"st1\" d=\"M267.4 200.8h10v4.1c1.4-1.7 2.9-2.9 4.4-3.6 1.5-0.7 3.2-1.1 5.3-1.1 2.2 0 4 0.4 5.3 1.2 1.3 0.8 2.4 2 3.2 3.5 1.7-1.8 3.2-3.1 4.6-3.7 1.4-0.7 3.1-1 5.1-1 3 0 5.3 0.9 7 2.7 1.7 1.8 2.5 4.6 2.5 8.4v17.6h-10.8v-16c0-1.3-0.2-2.2-0.7-2.8 -0.7-1-1.6-1.4-2.7-1.4 -1.3 0-2.3 0.5-3 1.4 -0.8 0.9-1.2 2.4-1.2 4.4v14.5h-10.8v-15.4c0-1.2-0.1-2.1-0.2-2.5 -0.2-0.7-0.6-1.3-1.2-1.7 -0.6-0.4-1.2-0.6-2-0.6 -1.2 0-2.3 0.5-3 1.4 -0.8 0.9-1.2 2.5-1.2 4.6v14.3h-10.8V200.8z\"></path><circle class=\"st2\" cx=\"187.7\" cy=\"224.2\" r=\"4.6\"></circle><path class=\"st3\" d=\"M163.1 251.5v-11.3h2.3v11.3H163.1z\"></path><path class=\"st3\" d=\"M175 251.5h-2.2v-4.2c0-0.9 0-1.5-0.1-1.7 -0.1-0.3-0.2-0.5-0.4-0.6 -0.2-0.1-0.5-0.2-0.8-0.2 -0.4 0-0.7 0.1-1 0.3 -0.3 0.2-0.5 0.5-0.6 0.8 -0.1 0.3-0.2 1-0.2 1.9v3.7h-2.2v-8.2h2v1.2c0.7-0.9 1.6-1.4 2.7-1.4 0.5 0 0.9 0.1 1.3 0.3 0.4 0.2 0.7 0.4 0.9 0.7 0.2 0.3 0.3 0.6 0.4 0.9 0.1 0.3 0.1 0.8 0.1 1.5V251.5z\"></path><path class=\"st3\" d=\"M184.7 251.5h-2v-1.2c-0.3 0.5-0.7 0.8-1.2 1 -0.5 0.2-0.9 0.3-1.4 0.3 -0.9 0-1.7-0.4-2.4-1.1 -0.7-0.8-1-1.8-1-3.2 0-1.4 0.3-2.4 1-3.2 0.7-0.7 1.5-1.1 2.5-1.1 0.9 0 1.7 0.4 2.4 1.1v-4.1h2.2V251.5zM178.9 247.2c0 0.9 0.1 1.5 0.4 1.9 0.3 0.6 0.8 0.8 1.5 0.8 0.5 0 0.9-0.2 1.3-0.6 0.4-0.4 0.5-1.1 0.5-1.9 0-0.9-0.2-1.6-0.5-2 -0.3-0.4-0.8-0.6-1.3-0.6 -0.5 0-0.9 0.2-1.3 0.6C179.1 245.8 178.9 246.4 178.9 247.2z\"></path><path class=\"st3\" d=\"M186.8 242.2v-2h2.2v2H186.8zM186.8 251.5v-8.2h2.2v8.2H186.8z\"></path><path class=\"st3\" d=\"M192.8 245.8l-2-0.4c0.2-0.8 0.6-1.4 1.1-1.8 0.5-0.4 1.3-0.6 2.4-0.6 1 0 1.7 0.1 2.2 0.3 0.5 0.2 0.8 0.5 1 0.9 0.2 0.4 0.3 1 0.3 1.9l0 2.5c0 0.7 0 1.2 0.1 1.6 0.1 0.3 0.2 0.7 0.4 1.1h-2.1c-0.1-0.1-0.1-0.4-0.2-0.6 0-0.1-0.1-0.2-0.1-0.3 -0.4 0.4-0.8 0.6-1.2 0.8 -0.4 0.2-0.9 0.3-1.3 0.3 -0.8 0-1.5-0.2-2-0.7 -0.5-0.5-0.7-1-0.7-1.7 0-0.5 0.1-0.9 0.3-1.2 0.2-0.4 0.5-0.6 0.9-0.8 0.4-0.2 1-0.4 1.7-0.5 1-0.2 1.7-0.4 2.1-0.5v-0.2c0-0.4-0.1-0.7-0.3-0.9 -0.2-0.2-0.6-0.3-1.2-0.3 -0.4 0-0.7 0.1-0.9 0.2C193.1 245.1 193 245.4 192.8 245.8zM195.7 247.5c-0.3 0.1-0.7 0.2-1.3 0.3 -0.6 0.1-1 0.3-1.2 0.4 -0.3 0.2-0.4 0.5-0.4 0.8 0 0.3 0.1 0.6 0.3 0.8 0.2 0.2 0.5 0.3 0.9 0.3 0.4 0 0.8-0.1 1.1-0.4 0.3-0.2 0.4-0.4 0.5-0.7 0.1-0.2 0.1-0.5 0.1-1.1V247.5z\"></path><path class=\"st3\" d=\"M199.9 240.2h2.2v1.5c0 0.6-0.1 1.1-0.2 1.5 -0.1 0.4-0.3 0.7-0.6 1 -0.3 0.3-0.7 0.5-1.1 0.7l-0.4-0.9c0.4-0.1 0.7-0.3 0.9-0.6 0.2-0.3 0.3-0.6 0.3-1h-1V240.2z\"></path><path class=\"st3\" d=\"M203 249.1l2.2-0.3c0.1 0.4 0.3 0.7 0.6 1 0.3 0.2 0.7 0.3 1.2 0.3 0.6 0 1-0.1 1.3-0.3 0.2-0.1 0.3-0.3 0.3-0.6 0-0.2-0.1-0.3-0.2-0.4 -0.1-0.1-0.3-0.2-0.7-0.3 -1.7-0.4-2.8-0.7-3.3-1.1 -0.6-0.4-1-1.1-1-1.8 0-0.7 0.3-1.3 0.8-1.8 0.6-0.5 1.4-0.7 2.6-0.7 1.1 0 1.9 0.2 2.5 0.5 0.5 0.4 0.9 0.9 1.1 1.6l-2 0.4c-0.1-0.3-0.3-0.6-0.5-0.7 -0.2-0.2-0.6-0.3-1-0.3 -0.6 0-1 0.1-1.2 0.2 -0.2 0.1-0.2 0.3-0.2 0.4 0 0.2 0.1 0.3 0.2 0.4 0.2 0.1 0.9 0.3 2 0.6 1.2 0.3 2 0.6 2.4 1 0.5 0.4 0.7 0.9 0.7 1.6 0 0.8-0.3 1.4-0.9 1.9 -0.6 0.5-1.6 0.8-2.8 0.8 -1.1 0-2-0.2-2.6-0.7C203.6 250.5 203.2 249.9 203 249.1z\"></path><path class=\"st3\" d=\"M216.9 251.5v-11.3h2.2l4.6 7.5v-7.5h2.1v11.3h-2.3l-4.5-7.4v7.4H216.9z\"></path><path class=\"st3\" d=\"M227.8 247.3c0-0.7 0.2-1.4 0.5-2.1 0.4-0.7 0.9-1.2 1.5-1.5 0.6-0.4 1.4-0.5 2.2-0.5 1.2 0 2.2 0.4 3 1.2 0.8 0.8 1.2 1.8 1.2 3 0 1.2-0.4 2.3-1.2 3.1 -0.8 0.8-1.8 1.2-3 1.2 -0.7 0-1.5-0.2-2.1-0.5 -0.7-0.3-1.2-0.8-1.6-1.5C228 249 227.8 248.2 227.8 247.3zM230 247.4c0 0.8 0.2 1.4 0.6 1.9 0.4 0.4 0.9 0.6 1.4 0.6 0.6 0 1-0.2 1.4-0.6 0.4-0.4 0.6-1.1 0.6-1.9 0-0.8-0.2-1.4-0.6-1.8 -0.4-0.4-0.9-0.6-1.4-0.6 -0.6 0-1 0.2-1.4 0.6C230.2 245.9 230 246.6 230 247.4z\"></path><path class=\"st3\" d=\"M237.9 251.5v-2.2h2.2v2.2H237.9z\"></path><path class=\"st3\" d=\"M247.4 251.5h-2.2v-8.2c-0.8 0.7-1.7 1.3-2.8 1.6v-2c0.6-0.2 1.2-0.5 1.8-1.1 0.7-0.5 1.1-1.1 1.4-1.8h1.8V251.5z\"></path><path class=\"st3\" d=\"M259.5 240.2h2.3v7.1c0 0.9-0.1 1.7-0.2 2.2 -0.2 0.7-0.6 1.2-1.2 1.6 -0.6 0.4-1.3 0.6-2.3 0.6 -1.1 0-2-0.3-2.6-0.9 -0.6-0.6-0.9-1.5-0.9-2.7l2.1-0.2c0 0.6 0.1 1.1 0.3 1.4 0.2 0.4 0.6 0.6 1.1 0.6 0.5 0 0.9-0.1 1.1-0.4 0.2-0.3 0.3-0.9 0.3-1.8V240.2z\"></path><path class=\"st3\" d=\"M263.7 247.3c0-0.7 0.2-1.4 0.5-2.1 0.4-0.7 0.9-1.2 1.5-1.5 0.6-0.4 1.4-0.5 2.2-0.5 1.2 0 2.2 0.4 3 1.2 0.8 0.8 1.2 1.8 1.2 3 0 1.2-0.4 2.3-1.2 3.1 -0.8 0.8-1.8 1.2-3 1.2 -0.7 0-1.5-0.2-2.1-0.5 -0.7-0.3-1.2-0.8-1.6-1.5C263.9 249 263.7 248.2 263.7 247.3zM265.9 247.4c0 0.8 0.2 1.4 0.6 1.9 0.4 0.4 0.9 0.6 1.4 0.6 0.6 0 1-0.2 1.4-0.6 0.4-0.4 0.6-1.1 0.6-1.9 0-0.8-0.2-1.4-0.6-1.8 -0.4-0.4-0.9-0.6-1.4-0.6 -0.6 0-1 0.2-1.4 0.6C266.1 245.9 265.9 246.6 265.9 247.4z\"></path><path class=\"st3\" d=\"M273.7 251.5v-11.3h2.2v4.1c0.7-0.8 1.5-1.1 2.4-1.1 1 0 1.8 0.4 2.5 1.1 0.7 0.7 1 1.8 1 3.1 0 1.4-0.3 2.5-1 3.2 -0.7 0.8-1.5 1.1-2.4 1.1 -0.5 0-0.9-0.1-1.4-0.3 -0.5-0.2-0.8-0.6-1.2-1v1.2H273.7zM275.9 247.2c0 0.8 0.1 1.5 0.4 1.9 0.4 0.6 0.9 0.9 1.5 0.9 0.5 0 0.9-0.2 1.2-0.6 0.3-0.4 0.5-1 0.5-1.9 0-0.9-0.2-1.6-0.5-2 -0.3-0.4-0.8-0.6-1.3-0.6 -0.5 0-0.9 0.2-1.3 0.6C276.1 245.8 275.9 246.4 275.9 247.2z\"></path><path class=\"st3\" d=\"M287.3 247.8l2.2-0.2c0.1 0.7 0.4 1.3 0.8 1.6 0.4 0.4 1 0.5 1.6 0.5 0.7 0 1.3-0.2 1.7-0.5 0.4-0.3 0.6-0.7 0.6-1.1 0-0.3-0.1-0.5-0.2-0.7 -0.2-0.2-0.4-0.3-0.8-0.5 -0.3-0.1-0.9-0.3-1.8-0.5 -1.2-0.3-2.1-0.7-2.6-1.1 -0.7-0.6-1-1.4-1-2.3 0-0.6 0.2-1.1 0.5-1.6 0.3-0.5 0.8-0.9 1.4-1.1 0.6-0.3 1.4-0.4 2.2-0.4 1.4 0 2.5 0.3 3.2 0.9 0.7 0.6 1.1 1.4 1.1 2.5l-2.3 0.1c-0.1-0.6-0.3-1-0.6-1.3 -0.3-0.3-0.8-0.4-1.4-0.4 -0.7 0-1.2 0.1-1.6 0.4 -0.2 0.2-0.4 0.4-0.4 0.7 0 0.3 0.1 0.5 0.3 0.7 0.3 0.2 1 0.5 2.1 0.8 1.1 0.3 1.9 0.5 2.5 0.8 0.5 0.3 0.9 0.7 1.2 1.1 0.3 0.5 0.5 1.1 0.5 1.8 0 0.6-0.2 1.3-0.5 1.8 -0.4 0.6-0.9 1-1.5 1.3 -0.7 0.3-1.5 0.4-2.5 0.4 -1.4 0-2.5-0.3-3.3-1C287.9 250 287.4 249.1 287.3 247.8z\"></path><path class=\"st3\" d=\"M298.4 242.2v-2h2.2v2H298.4zM298.4 251.5v-8.2h2.2v8.2H298.4z\"></path><path class=\"st3\" d=\"M306.5 243.3v1.7H305v3.3c0 0.7 0 1.1 0 1.2 0 0.1 0.1 0.2 0.2 0.3 0.1 0.1 0.2 0.1 0.4 0.1 0.2 0 0.5-0.1 0.9-0.2l0.2 1.7c-0.5 0.2-1.1 0.3-1.7 0.3 -0.4 0-0.7-0.1-1.1-0.2 -0.3-0.1-0.5-0.3-0.7-0.5 -0.1-0.2-0.2-0.5-0.3-0.8 0-0.3-0.1-0.8-0.1-1.5V245h-1v-1.7h1v-1.6l2.2-1.3v2.9H306.5z\"></path><path class=\"st3\" d=\"M312.7 248.9l2.2 0.4c-0.3 0.8-0.7 1.4-1.3 1.8 -0.6 0.4-1.3 0.6-2.2 0.6 -1.4 0-2.5-0.5-3.2-1.4 -0.5-0.7-0.8-1.7-0.8-2.8 0-1.4 0.4-2.4 1.1-3.2 0.7-0.8 1.6-1.2 2.7-1.2 1.2 0 2.2 0.4 2.9 1.2 0.7 0.8 1 2 1 3.7h-5.4c0 0.6 0.2 1.1 0.5 1.5 0.3 0.4 0.7 0.5 1.2 0.5 0.3 0 0.6-0.1 0.9-0.3C312.4 249.6 312.6 249.3 312.7 248.9zM312.8 246.7c0-0.6-0.2-1.1-0.5-1.4 -0.3-0.3-0.7-0.5-1.1-0.5 -0.5 0-0.9 0.2-1.2 0.5 -0.3 0.3-0.5 0.8-0.5 1.4H312.8z\"></path><path class=\"st4\" d=\"M129.9 64c-0.5 0.7-1 1.4-1.5 2.2 1.5 0 2.3-0.8 3.6-1 0.7 1.2-1.4 1.4-1.4 2.7 1.4 0.1 2.9-1.6 3.6-0.5 0.3 1-1.8 1.6-2.2 2.7 0.4 0.2 2.5-0.1 3.6 0 2.1 6.7-3.5 11.9-8.9 12.3 -8.5 0.7-15.6-8-9.9-15.2C119.2 64.2 124.5 62.2 129.9 64z\"></path><path class=\"st5\" d=\"M200.2 165.1c-0.3 0.8-2.1 0.2-3.1 0 -7-1.5-15.1-3.9-22-6 -15.9-5-30.8-11.1-42.5-21.3 -6.2-5.4-12.5-13.3-11.6-24.7 0.2-2.6 1.2-4.7 1.7-7 0.4-2 0.3-3.7 0.7-5.3 2.6-10.2 10.4-18.1 18.4-23.9 9.1-6.7 20.5-13 35.1-12.6 -3.5 2.3-7.6 4-10.9 6.5 4.4-0.9 10-2.2 15-1 -12.5 6.7-25.2 13.2-32.9 25.6 -2.4 3.8-5 9.8-4.4 15 0.3 2.8 2.2 6 3.9 8.7 10.8 17.9 29.8 28.3 49.6 37 -8.7-1.3-17.5-4.6-25.9-7 -0.2 0-0.2-0.2-0.5-0.2 7.5 5.5 16.3 10.7 25.6 14.5C197.6 163.9 199.3 163.9 200.2 165.1zM163 72.7c-1.3 0.4-2.6 1.9-3.9 2.9 -7.4 5.9-15.7 14.4-16.4 25.9 -0.1 1.4-0.3 2.9 0.5 4.3 1.5-9.9 7.4-16 13.3-21.5 6-5.6 13.6-9.8 21-14C172.2 70.2 167.1 71.4 163 72.7zM133 136.8c14.9 13.1 38.8 20.7 59.2 26.1 0.4 0.1 0.6-0.3 0-0.2 -6.8-3.3-13.8-7.1-19.8-11.1 -2.1-1.4-4-3.3-6-4.3 -1.1-0.6-2.7-0.7-3.9-1.2 -3.6-1.5-6.9-3.2-10.4-4.8 -13.6-6.6-26.1-14.7-29.7-31.4C120.1 122.5 126.3 130.9 133 136.8z\"></path></svg></div> </div> <div class=\"nk-text\">Explore 5 lakh+ jobs on India's number 1 job site</div> <div id=\"circleG\"> <div class=\"circleG\" id=\"circleG_1\"></div> <div class=\"circleG\" id=\"circleG_2\"></div> <div class=\"circleG\" id=\"circleG_3\"></div> <div class=\"circleG\" id=\"circleG_4\"></div> <div class=\"circleG\" id=\"circleG_5\"></div> </div> </div> </div> <link href=\"//static.naukimg.com/s/7/109/c/main.16f16519.min.css\" media=\"all\" rel=\"stylesheet\" type=\"text/css\"/> <script id=\"ubScript\"> (function() { var queuedSuperProps = []; var queuedEvents = []; window.ub = { track: function(eventName, eventProps) { queuedEvents.push([eventName, eventProps]) }, register: function(properties) { queuedSuperProps.push(properties); } };\n",
       "            var script = document.createElement(\"script\"); script.async = true;script.trackTdsCookie=true,script.fingerprint=false,script.src = \"//static.naukri.com/s/0/1/j/ub_v1.13.min.js\";script.onload = function() { ub.init({\n",
       "                   trackTdsCookie : true, beaconUrl : \"https://logs.naukri.com/uba\", bulkBeaconUrl : \"https://logs.naukri.com/collectorapi/v1/uba/bulk\", queuedEvents:queuedEvents, queuedSuperProps:queuedSuperProps,  tenantId:'1' ,   subclientTenantId:'0' , autoTrack:false, blackList: \n",
       "                []\n",
       "            }); };document.head.appendChild(script);}()); ub.register({ appId:109, pageName: \"jobsearch\",  tenantId:'1' ,  subclientTenantId:'0' , }); </script> <script>\n",
       "    //hack of IE and safari bug : Super expression must either be null or a function, not undefined\n",
       "    if (typeof HTMLElement !== 'function') {\n",
       "        var _HTMLElement = function() {};\n",
       "        _HTMLElement.prototype = HTMLElement.prototype;\n",
       "        HTMLElement = _HTMLElement;\n",
       "    }\n",
       "    </script> <script crossorigin=\"anonymous\" defer=\"\" src=\"//static.naukimg.com/s/7/109/j/vendors~main.52ca68a2.min.js\" type=\"text/javascript\"></script> <script crossorigin=\"anonymous\" defer=\"\" src=\"//static.naukimg.com/s/7/109/j/main.f485e71d.min.js\" type=\"text/javascript\"></script> <script src=\"//static.naukimg.com/s/0/0/j/nLoggerJB_v3.2.min.js\" type=\"text/javascript\"></script> <script type=\"text/javascript\">\n",
       "   window.nLogger && nLogger.init({ \"tag\": \"revamped_srp\", \"nLogger\": { \"beaconUrl\": \"https:\\/\\/lg.naukri.com\\/uba\", \"eventName\": \"newMonkError\", \"deviceType\": \"SERVER\" }, \"boomerang\": { \"logBW\": false, \"beaconUrl\": \"https:\\/\\/lg.naukri.com\\/uba\", \"imageURL\": \"\\/\\/static.naukimg.com\\/s\\/0\\/0\\/i\\/\", \"eventName\": \"newMonkPerformance\", \"deviceType\": \"SERVER\" }, \"tenantId\": 1, \"appId\": 109, \"userIP\": \"2045974146\" });\n",
       " </script> <script type=\"text/javascript\">\n",
       "    (function(w, d, s, l, i) {\n",
       "        w[l] = w[l] || [];\n",
       "        w[l].push({\n",
       "            'gtm.start': new Date().getTime(),\n",
       "            event: 'gtm.js'\n",
       "        });\n",
       "        var f = d.getElementsByTagName(s)[0],\n",
       "            j = d.createElement(s),\n",
       "            dl = l != 'dataLayer' ? '&l=' + l : '';\n",
       "        j.defer = 'defer';\n",
       "        j.src =\n",
       "            'https://www.googletagmanager.com/gtm.js?id=' + i + dl;\n",
       "        f.parentNode.insertBefore(j, f);\n",
       "    })(window, document, 'script', 'dataLayer', 'GTM-NX744H');\n",
       "    </script> <script defer=\"\" src=\"https://www.googletagservices.com/tag/js/gpt.js\"></script> <script>\n",
       "        var googletag = googletag || {};\n",
       "        googletag.cmd = googletag.cmd || [];  \n",
       "    </script> <script src=\"/1Dtte72tOYk86/pxjxuKMguW-d/zI/9u5pLDV8JX/cCYfZCEC/YR/hkAS0CUzc\" type=\"text/javascript\"></script></body> </html>"
      ]
     },
     "execution_count": 291,
     "metadata": {},
     "output_type": "execute_result"
    }
   ],
   "source": [
    "soup = BeautifulSoup(response.content)\n",
    "soup"
   ]
  },
  {
   "cell_type": "code",
   "execution_count": 274,
   "id": "fcfd7108",
   "metadata": {},
   "outputs": [],
   "source": [
    "# Find the job listings\n",
    "job_listings = soup.find_all('div', class_='jobTuple')\n"
   ]
  },
  {
   "cell_type": "code",
   "execution_count": 284,
   "id": "2fbf91ad",
   "metadata": {},
   "outputs": [],
   "source": [
    "titles = []\n",
    "locations = []\n",
    "companies = []\n",
    "exp = []"
   ]
  },
  {
   "cell_type": "code",
   "execution_count": 285,
   "id": "0f66d61e",
   "metadata": {},
   "outputs": [],
   "source": [
    "# Scrape the data for the first 10 job results\n",
    "\n",
    "# scrap title\n",
    "for i in soup.find_all('a',class_ =\"title ellipsis\"): #put underscore over here 'classs_', 'a' is an tag name\n",
    "    titles.append(i.text) #we have to use \"text\" then only we can get names of rest otherwise it return tags and classes \n",
    "\n",
    "    #   scrap location  \n",
    "for j in soup.find_all('li',class_ =\"ellipsis fleft locWdth\"):\n",
    "     locations.append(j.text)\n",
    "        \n",
    "  #scrap company names      \n",
    "for k in soup.find_all('a',class_ =\"subTitle ellipsis fleft\"): \n",
    "    companies.append(k.text)\n",
    "    \n",
    "#scrap experiance\n",
    "for l in soup.find_all('span',class_ =\"ellipsis fleft expwdth\"):\n",
    "    exp.append(l.text)\n",
    "\n",
    "\n",
    "\n"
   ]
  },
  {
   "cell_type": "code",
   "execution_count": 286,
   "id": "86f0a311",
   "metadata": {},
   "outputs": [],
   "source": [
    "# create DF\n",
    "df = pd.DataFrame({})\n",
    "df['Job Title']=titles[:10]\n",
    "df['Location']=locations[:10]\n",
    "df['Company']=companies[:10]\n",
    "df['Experience Required']=exp[:10]"
   ]
  },
  {
   "cell_type": "code",
   "execution_count": null,
   "id": "2cb7022c",
   "metadata": {},
   "outputs": [],
   "source": [
    "# dont understand why data not scraped"
   ]
  },
  {
   "cell_type": "code",
   "execution_count": 287,
   "id": "113b7f00",
   "metadata": {},
   "outputs": [
    {
     "data": {
      "text/html": [
       "<div>\n",
       "<style scoped>\n",
       "    .dataframe tbody tr th:only-of-type {\n",
       "        vertical-align: middle;\n",
       "    }\n",
       "\n",
       "    .dataframe tbody tr th {\n",
       "        vertical-align: top;\n",
       "    }\n",
       "\n",
       "    .dataframe thead th {\n",
       "        text-align: right;\n",
       "    }\n",
       "</style>\n",
       "<table border=\"1\" class=\"dataframe\">\n",
       "  <thead>\n",
       "    <tr style=\"text-align: right;\">\n",
       "      <th></th>\n",
       "      <th>Job Title</th>\n",
       "      <th>Location</th>\n",
       "      <th>Company</th>\n",
       "      <th>Experience Required</th>\n",
       "    </tr>\n",
       "  </thead>\n",
       "  <tbody>\n",
       "  </tbody>\n",
       "</table>\n",
       "</div>"
      ],
      "text/plain": [
       "Empty DataFrame\n",
       "Columns: [Job Title, Location, Company, Experience Required]\n",
       "Index: []"
      ]
     },
     "execution_count": 287,
     "metadata": {},
     "output_type": "execute_result"
    }
   ],
   "source": [
    "df"
   ]
  },
  {
   "cell_type": "markdown",
   "id": "cd14df48",
   "metadata": {},
   "source": [
    "# Q4: Scrape data of first 100 sunglasses listings on flipkart.com. "
   ]
  },
  {
   "cell_type": "code",
   "execution_count": 103,
   "id": "55e7eced",
   "metadata": {},
   "outputs": [],
   "source": [
    "driver4 = webdriver.Chrome(r\"chromedriver.exe\")"
   ]
  },
  {
   "cell_type": "code",
   "execution_count": 104,
   "id": "3c598f41",
   "metadata": {},
   "outputs": [],
   "source": [
    "url=\"https://www.flipkart.com/\"\n",
    "driver4.get(url)"
   ]
  },
  {
   "cell_type": "code",
   "execution_count": 105,
   "id": "bd2d241f",
   "metadata": {},
   "outputs": [
    {
     "data": {
      "text/plain": [
       "<selenium.webdriver.remote.webelement.WebElement (session=\"036211e1f5f766c8ab576c2e3dde8238\", element=\"A8E8755EE0E1DB54F99649F45C486D8A_element_87\")>"
      ]
     },
     "execution_count": 105,
     "metadata": {},
     "output_type": "execute_result"
    }
   ],
   "source": [
    "search= driver4.find_element(By.XPATH,\"//input[@type='text']\")\n",
    "search"
   ]
  },
  {
   "cell_type": "code",
   "execution_count": 106,
   "id": "674e3ec5",
   "metadata": {},
   "outputs": [],
   "source": [
    "search.send_keys('sunglasses')"
   ]
  },
  {
   "cell_type": "code",
   "execution_count": 108,
   "id": "f78c0c06",
   "metadata": {},
   "outputs": [],
   "source": [
    "# click on search button\n",
    "btn =driver4.find_element(By.CLASS_NAME, 'L0Z3Pu')\n",
    "btn.click()"
   ]
  },
  {
   "cell_type": "code",
   "execution_count": 109,
   "id": "5b843c09",
   "metadata": {},
   "outputs": [],
   "source": [
    "Brand=[]\n",
    "Price=[]\n",
    "Product=[]\n",
    "Discount=[]"
   ]
  },
  {
   "cell_type": "code",
   "execution_count": 111,
   "id": "640f024a",
   "metadata": {},
   "outputs": [],
   "source": [
    "#scrap brand name,product description, price,and discount\n",
    "\n",
    "for i in range(3):\n",
    "    b_name =driver4.find_elements(By.XPATH,\"//div[@class='_2WkVRV']\")\n",
    "    desc =driver4.find_elements(By.XPATH,\"//a[@class='IRpwTa']\")\n",
    "    cost =driver4.find_elements(By.XPATH,\"//div[@class='_25b18c']\")\n",
    "    dist =driver4.find_elements(By.XPATH,\"//div[@class='_3Ay6Sb']\")\n",
    "    \n",
    "    for j  in b_name:\n",
    "        Brand.append(j.text)\n",
    "    Brand[:100]    \n",
    "    \n",
    "    \n",
    "    \n",
    "    for k in desc:\n",
    "        Product.append(k.text)\n",
    "    Product[:100] \n",
    "    \n",
    "    \n",
    "    for l in cost:\n",
    "        Price.append(l.text)\n",
    "    Price[:100] \n",
    "    \n",
    "    \n",
    "    for m in dist:\n",
    "        Discount.append(m.text)\n",
    "    Discount[:100]"
   ]
  },
  {
   "cell_type": "code",
   "execution_count": 112,
   "id": "73fc8056",
   "metadata": {},
   "outputs": [
    {
     "name": "stdout",
     "output_type": "stream",
     "text": [
      "100\n",
      "100\n",
      "100\n",
      "100\n"
     ]
    },
    {
     "data": {
      "text/plain": [
       "(None, None, None, None)"
      ]
     },
     "execution_count": 112,
     "metadata": {},
     "output_type": "execute_result"
    }
   ],
   "source": [
    "print(len(Brand[:100])),print(len(Price[:100])),print(len(Product[:100])),print(len(Discount[:100]))"
   ]
  },
  {
   "cell_type": "code",
   "execution_count": 114,
   "id": "92ed4663",
   "metadata": {},
   "outputs": [],
   "source": [
    "# create DF\n",
    "df3 = pd.DataFrame({})\n",
    "df3['Brand']=Brand[:100]\n",
    "df3['Price']=Price[:100]\n",
    "df3['Product']=Product[:100]\n",
    "df3['Discount']=Discount[:100]\n"
   ]
  },
  {
   "cell_type": "code",
   "execution_count": 115,
   "id": "213a0c70",
   "metadata": {},
   "outputs": [
    {
     "data": {
      "text/html": [
       "<div>\n",
       "<style scoped>\n",
       "    .dataframe tbody tr th:only-of-type {\n",
       "        vertical-align: middle;\n",
       "    }\n",
       "\n",
       "    .dataframe tbody tr th {\n",
       "        vertical-align: top;\n",
       "    }\n",
       "\n",
       "    .dataframe thead th {\n",
       "        text-align: right;\n",
       "    }\n",
       "</style>\n",
       "<table border=\"1\" class=\"dataframe\">\n",
       "  <thead>\n",
       "    <tr style=\"text-align: right;\">\n",
       "      <th></th>\n",
       "      <th>Brand</th>\n",
       "      <th>Price</th>\n",
       "      <th>Product</th>\n",
       "      <th>Discount</th>\n",
       "    </tr>\n",
       "  </thead>\n",
       "  <tbody>\n",
       "    <tr>\n",
       "      <th>0</th>\n",
       "      <td>OAKLEY</td>\n",
       "      <td>₹9,119₹14,49037% off</td>\n",
       "      <td>Rectangular Sunglass</td>\n",
       "      <td>37% off</td>\n",
       "    </tr>\n",
       "    <tr>\n",
       "      <th>1</th>\n",
       "      <td>OAKLEY</td>\n",
       "      <td>₹7,499₹11,39034% off</td>\n",
       "      <td>Rectangular Sunglass</td>\n",
       "      <td>34% off</td>\n",
       "    </tr>\n",
       "    <tr>\n",
       "      <th>2</th>\n",
       "      <td>SRPM</td>\n",
       "      <td>₹216₹1,29983% off</td>\n",
       "      <td>UV Protection Wayfarer Sunglasses (50)</td>\n",
       "      <td>83% off</td>\n",
       "    </tr>\n",
       "    <tr>\n",
       "      <th>3</th>\n",
       "      <td>Elligator</td>\n",
       "      <td>₹213₹59964% off</td>\n",
       "      <td>UV Protection Cat-eye, Retro Square, Oval, Rou...</td>\n",
       "      <td>64% off</td>\n",
       "    </tr>\n",
       "    <tr>\n",
       "      <th>4</th>\n",
       "      <td>Fastrack</td>\n",
       "      <td>₹499₹89944% off</td>\n",
       "      <td>UV Protection Rectangular Sunglasses (Free Size)</td>\n",
       "      <td>44% off</td>\n",
       "    </tr>\n",
       "    <tr>\n",
       "      <th>...</th>\n",
       "      <td>...</td>\n",
       "      <td>...</td>\n",
       "      <td>...</td>\n",
       "      <td>...</td>\n",
       "    </tr>\n",
       "    <tr>\n",
       "      <th>95</th>\n",
       "      <td>style guru</td>\n",
       "      <td>₹239₹1,59985% off</td>\n",
       "      <td>UV Protection Wayfarer Sunglasses (56)</td>\n",
       "      <td>55% off</td>\n",
       "    </tr>\n",
       "    <tr>\n",
       "      <th>96</th>\n",
       "      <td>Elligator</td>\n",
       "      <td>₹109₹1,29991% off</td>\n",
       "      <td>UV Protection Over-sized Sunglasses (65)</td>\n",
       "      <td>85% off</td>\n",
       "    </tr>\n",
       "    <tr>\n",
       "      <th>97</th>\n",
       "      <td>Fastrack</td>\n",
       "      <td>₹423₹1,99978% off</td>\n",
       "      <td>UV Protection Retro Square Sunglasses (Free Size)</td>\n",
       "      <td>43% off</td>\n",
       "    </tr>\n",
       "    <tr>\n",
       "      <th>98</th>\n",
       "      <td>Fastrack</td>\n",
       "      <td>₹179₹1,29986% off</td>\n",
       "      <td>UV Protection Wayfarer Sunglasses (Free Size)</td>\n",
       "      <td>44% off</td>\n",
       "    </tr>\n",
       "    <tr>\n",
       "      <th>99</th>\n",
       "      <td>VINCENT CHASE</td>\n",
       "      <td>₹268₹1,59983% off</td>\n",
       "      <td>UV Protection Wayfarer Sunglasses (Free Size)</td>\n",
       "      <td>62% off</td>\n",
       "    </tr>\n",
       "  </tbody>\n",
       "</table>\n",
       "<p>100 rows × 4 columns</p>\n",
       "</div>"
      ],
      "text/plain": [
       "            Brand                 Price  \\\n",
       "0          OAKLEY  ₹9,119₹14,49037% off   \n",
       "1          OAKLEY  ₹7,499₹11,39034% off   \n",
       "2            SRPM     ₹216₹1,29983% off   \n",
       "3       Elligator       ₹213₹59964% off   \n",
       "4        Fastrack       ₹499₹89944% off   \n",
       "..            ...                   ...   \n",
       "95     style guru     ₹239₹1,59985% off   \n",
       "96      Elligator     ₹109₹1,29991% off   \n",
       "97       Fastrack     ₹423₹1,99978% off   \n",
       "98       Fastrack     ₹179₹1,29986% off   \n",
       "99  VINCENT CHASE     ₹268₹1,59983% off   \n",
       "\n",
       "                                              Product Discount  \n",
       "0                                Rectangular Sunglass  37% off  \n",
       "1                                Rectangular Sunglass  34% off  \n",
       "2              UV Protection Wayfarer Sunglasses (50)  83% off  \n",
       "3   UV Protection Cat-eye, Retro Square, Oval, Rou...  64% off  \n",
       "4    UV Protection Rectangular Sunglasses (Free Size)  44% off  \n",
       "..                                                ...      ...  \n",
       "95             UV Protection Wayfarer Sunglasses (56)  55% off  \n",
       "96           UV Protection Over-sized Sunglasses (65)  85% off  \n",
       "97  UV Protection Retro Square Sunglasses (Free Size)  43% off  \n",
       "98      UV Protection Wayfarer Sunglasses (Free Size)  44% off  \n",
       "99      UV Protection Wayfarer Sunglasses (Free Size)  62% off  \n",
       "\n",
       "[100 rows x 4 columns]"
      ]
     },
     "execution_count": 115,
     "metadata": {},
     "output_type": "execute_result"
    }
   ],
   "source": [
    "df3"
   ]
  },
  {
   "cell_type": "code",
   "execution_count": 116,
   "id": "4a612d05",
   "metadata": {},
   "outputs": [],
   "source": [
    "driver4.close()"
   ]
  },
  {
   "cell_type": "markdown",
   "id": "0ca0ef88",
   "metadata": {},
   "source": [
    "# Q5: Scrape 100 reviews data from flipkart.com for iphone11 phone. \n"
   ]
  },
  {
   "cell_type": "code",
   "execution_count": 117,
   "id": "967bf55b",
   "metadata": {},
   "outputs": [],
   "source": [
    "#connect to driver\n",
    "driver5 = webdriver.Chrome(r\"chromedriver.exe\")"
   ]
  },
  {
   "cell_type": "code",
   "execution_count": 118,
   "id": "c543d03a",
   "metadata": {},
   "outputs": [],
   "source": [
    "url=\"https://www.flipkart.com/apple-iphone-11-black-64-gb/product-reviews/itm4e5041ba101fd?pid=MOBFWQ6BXGJCEYNY&lid=LSTMOBFWQ6BXGJCEYNYZXSHRJ&market\"\n",
    "driver5.get(url)"
   ]
  },
  {
   "cell_type": "code",
   "execution_count": 119,
   "id": "2f7cd8e6",
   "metadata": {},
   "outputs": [],
   "source": [
    "Rating = []\n",
    "Review_summary = []\n",
    "Full_review = []"
   ]
  },
  {
   "cell_type": "code",
   "execution_count": 128,
   "id": "d478174d",
   "metadata": {},
   "outputs": [],
   "source": [
    "# scrap review data\n",
    "\n",
    "for prod in range(3):\n",
    "    rate = driver5.find_elements(By.XPATH, '//div[@class=\"_3LWZlK _1BLPMq\"]')  \n",
    "    review = driver5.find_elements(By.XPATH, '//p[@class=\"_2-N8zT\"]')\n",
    "    full_rev = driver5.find_elements(By.XPATH, '//div[@class=\"t-ZTKy\"]')\n",
    "\n",
    "    for i in rate:  \n",
    "        Rating.append(i.text)\n",
    "    Rating[:100]\n",
    "    \n",
    "# Reviews rating\n",
    "    for j in review :\n",
    "        Review_summary.append(j.text)    \n",
    "    Review_summary[:100]\n",
    "    \n",
    "#full review\n",
    "    for k in full_rev:\n",
    "        Full_review.append(k.text)\n",
    "      \n",
    "    Full_review[:100]\n",
    "        "
   ]
  },
  {
   "cell_type": "code",
   "execution_count": 129,
   "id": "206ad6e1",
   "metadata": {},
   "outputs": [
    {
     "name": "stdout",
     "output_type": "stream",
     "text": [
      "100 100 100\n"
     ]
    }
   ],
   "source": [
    "print(len(Rating),len(Review_summary),len(Full_review))"
   ]
  },
  {
   "cell_type": "code",
   "execution_count": 130,
   "id": "98805d12",
   "metadata": {},
   "outputs": [],
   "source": [
    "df4 = pd.DataFrame({})\n",
    "df4['Rating']=Rating[:100]\n",
    "df4['Review_summary']=Review_summary[:100]\n",
    "df4['Full_review']=Full_review[:100]\n"
   ]
  },
  {
   "cell_type": "code",
   "execution_count": 131,
   "id": "1094879e",
   "metadata": {},
   "outputs": [
    {
     "data": {
      "text/html": [
       "<div>\n",
       "<style scoped>\n",
       "    .dataframe tbody tr th:only-of-type {\n",
       "        vertical-align: middle;\n",
       "    }\n",
       "\n",
       "    .dataframe tbody tr th {\n",
       "        vertical-align: top;\n",
       "    }\n",
       "\n",
       "    .dataframe thead th {\n",
       "        text-align: right;\n",
       "    }\n",
       "</style>\n",
       "<table border=\"1\" class=\"dataframe\">\n",
       "  <thead>\n",
       "    <tr style=\"text-align: right;\">\n",
       "      <th></th>\n",
       "      <th>Rating</th>\n",
       "      <th>Review_summary</th>\n",
       "      <th>Full_review</th>\n",
       "    </tr>\n",
       "  </thead>\n",
       "  <tbody>\n",
       "    <tr>\n",
       "      <th>0</th>\n",
       "      <td>5</td>\n",
       "      <td>Simply awesome</td>\n",
       "      <td>Really satisfied with the Product I received.....</td>\n",
       "    </tr>\n",
       "    <tr>\n",
       "      <th>1</th>\n",
       "      <td>5</td>\n",
       "      <td>Perfect product!</td>\n",
       "      <td>Amazing phone with great cameras and better ba...</td>\n",
       "    </tr>\n",
       "    <tr>\n",
       "      <th>2</th>\n",
       "      <td>5</td>\n",
       "      <td>Best in the market!</td>\n",
       "      <td>Great iPhone very snappy experience as apple k...</td>\n",
       "    </tr>\n",
       "    <tr>\n",
       "      <th>3</th>\n",
       "      <td>4</td>\n",
       "      <td>Value-for-money</td>\n",
       "      <td>I'm Really happy with the product\\nDelivery wa...</td>\n",
       "    </tr>\n",
       "    <tr>\n",
       "      <th>4</th>\n",
       "      <td>5</td>\n",
       "      <td>Highly recommended</td>\n",
       "      <td>It's my first time to use iOS phone and I am l...</td>\n",
       "    </tr>\n",
       "    <tr>\n",
       "      <th>...</th>\n",
       "      <td>...</td>\n",
       "      <td>...</td>\n",
       "      <td>...</td>\n",
       "    </tr>\n",
       "    <tr>\n",
       "      <th>95</th>\n",
       "      <td>5</td>\n",
       "      <td>Worth every penny</td>\n",
       "      <td>Previously I was using one plus 3t it was a gr...</td>\n",
       "    </tr>\n",
       "    <tr>\n",
       "      <th>96</th>\n",
       "      <td>4</td>\n",
       "      <td>Pretty good</td>\n",
       "      <td>I was using Iphone 6s and also Oneplus 6t. Bot...</td>\n",
       "    </tr>\n",
       "    <tr>\n",
       "      <th>97</th>\n",
       "      <td>5</td>\n",
       "      <td>Perfect product!</td>\n",
       "      <td>Value for money\\n5 star rating\\nExcellent came...</td>\n",
       "    </tr>\n",
       "    <tr>\n",
       "      <th>98</th>\n",
       "      <td>5</td>\n",
       "      <td>Highly recommended</td>\n",
       "      <td>What a camera .....just awesome ..you can feel...</td>\n",
       "    </tr>\n",
       "    <tr>\n",
       "      <th>99</th>\n",
       "      <td>5</td>\n",
       "      <td>Great product</td>\n",
       "      <td>Amazing Powerful and Durable Gadget.\\n\\nI’m am...</td>\n",
       "    </tr>\n",
       "  </tbody>\n",
       "</table>\n",
       "<p>100 rows × 3 columns</p>\n",
       "</div>"
      ],
      "text/plain": [
       "   Rating       Review_summary  \\\n",
       "0       5       Simply awesome   \n",
       "1       5     Perfect product!   \n",
       "2       5  Best in the market!   \n",
       "3       4      Value-for-money   \n",
       "4       5   Highly recommended   \n",
       "..    ...                  ...   \n",
       "95      5    Worth every penny   \n",
       "96      4          Pretty good   \n",
       "97      5     Perfect product!   \n",
       "98      5   Highly recommended   \n",
       "99      5        Great product   \n",
       "\n",
       "                                          Full_review  \n",
       "0   Really satisfied with the Product I received.....  \n",
       "1   Amazing phone with great cameras and better ba...  \n",
       "2   Great iPhone very snappy experience as apple k...  \n",
       "3   I'm Really happy with the product\\nDelivery wa...  \n",
       "4   It's my first time to use iOS phone and I am l...  \n",
       "..                                                ...  \n",
       "95  Previously I was using one plus 3t it was a gr...  \n",
       "96  I was using Iphone 6s and also Oneplus 6t. Bot...  \n",
       "97  Value for money\\n5 star rating\\nExcellent came...  \n",
       "98  What a camera .....just awesome ..you can feel...  \n",
       "99  Amazing Powerful and Durable Gadget.\\n\\nI’m am...  \n",
       "\n",
       "[100 rows x 3 columns]"
      ]
     },
     "execution_count": 131,
     "metadata": {},
     "output_type": "execute_result"
    }
   ],
   "source": [
    "df4"
   ]
  },
  {
   "cell_type": "code",
   "execution_count": 132,
   "id": "73bf2b66",
   "metadata": {},
   "outputs": [],
   "source": [
    "driver5.close()"
   ]
  },
  {
   "cell_type": "markdown",
   "id": "d0c3c416",
   "metadata": {},
   "source": [
    "# Q6: Scrape data forfirst 100 sneakers you find when you visit flipkart.com and search for “sneakers” in the search field.\n",
    "\n"
   ]
  },
  {
   "cell_type": "code",
   "execution_count": 133,
   "id": "3ffa3e8b",
   "metadata": {},
   "outputs": [],
   "source": [
    "driver6 = webdriver.Chrome(r\"chromedriver.exe\")"
   ]
  },
  {
   "cell_type": "code",
   "execution_count": 134,
   "id": "7fe5158e",
   "metadata": {},
   "outputs": [],
   "source": [
    "url = 'https://www.flipkart.com'\n",
    "driver6.get(url)"
   ]
  },
  {
   "cell_type": "code",
   "execution_count": 136,
   "id": "97042b6c",
   "metadata": {},
   "outputs": [],
   "source": [
    "prod= driver6.find_element(By.XPATH,\"//input[@type='text']\")\n",
    "prod.send_keys('sneakers')"
   ]
  },
  {
   "cell_type": "code",
   "execution_count": 137,
   "id": "e3304545",
   "metadata": {},
   "outputs": [],
   "source": [
    "btn =driver6.find_element(By.CLASS_NAME, 'L0Z3Pu')\n",
    "btn.click()"
   ]
  },
  {
   "cell_type": "code",
   "execution_count": 138,
   "id": "0c7701be",
   "metadata": {},
   "outputs": [],
   "source": [
    "Brand = []\n",
    "ProductDescription = []\n",
    "Price = []"
   ]
  },
  {
   "cell_type": "code",
   "execution_count": 141,
   "id": "649096dc",
   "metadata": {},
   "outputs": [],
   "source": [
    "for sneak in range(3):\n",
    "    b_name = driver6.find_elements(By.XPATH, '//div[@class=\"_2WkVRV\"]')  \n",
    "    desc = driver6.find_elements(By.XPATH, '//a[@class=\"IRpwTa\"]')\n",
    "    cost = driver6.find_elements(By.XPATH, '//div[@class=\"_30jeq3\"]')\n",
    "\n",
    "    for i in b_name:  \n",
    "        Brand.append(i.text)\n",
    "    Brand\n",
    "    \n",
    "# Reviews rating\n",
    "    for j in desc :\n",
    "        ProductDescription.append(j.text)    \n",
    "    ProductDescription\n",
    "    \n",
    "#full review\n",
    "    for k in cost:\n",
    "        Price.append(k.text)      \n",
    "    Price"
   ]
  },
  {
   "cell_type": "code",
   "execution_count": 142,
   "id": "0dbe8447",
   "metadata": {},
   "outputs": [
    {
     "name": "stdout",
     "output_type": "stream",
     "text": [
      "240 234 240\n"
     ]
    }
   ],
   "source": [
    "print(len(Brand),len( ProductDescription),len(Price))"
   ]
  },
  {
   "cell_type": "code",
   "execution_count": 143,
   "id": "b945262f",
   "metadata": {},
   "outputs": [],
   "source": [
    "df5 = pd.DataFrame({})\n",
    "df5['Brand']=Brand[:100]\n",
    "df5['ProductDescription']=ProductDescription[:100]\n",
    "df5['Price']=Price[:100]"
   ]
  },
  {
   "cell_type": "code",
   "execution_count": 144,
   "id": "cfb1e535",
   "metadata": {},
   "outputs": [
    {
     "data": {
      "text/html": [
       "<div>\n",
       "<style scoped>\n",
       "    .dataframe tbody tr th:only-of-type {\n",
       "        vertical-align: middle;\n",
       "    }\n",
       "\n",
       "    .dataframe tbody tr th {\n",
       "        vertical-align: top;\n",
       "    }\n",
       "\n",
       "    .dataframe thead th {\n",
       "        text-align: right;\n",
       "    }\n",
       "</style>\n",
       "<table border=\"1\" class=\"dataframe\">\n",
       "  <thead>\n",
       "    <tr style=\"text-align: right;\">\n",
       "      <th></th>\n",
       "      <th>Brand</th>\n",
       "      <th>ProductDescription</th>\n",
       "      <th>Price</th>\n",
       "    </tr>\n",
       "  </thead>\n",
       "  <tbody>\n",
       "    <tr>\n",
       "      <th>0</th>\n",
       "      <td>K- FOOTLANCE</td>\n",
       "      <td>Sneakers For Men</td>\n",
       "      <td>₹299</td>\n",
       "    </tr>\n",
       "    <tr>\n",
       "      <th>1</th>\n",
       "      <td>World Wear Footwear</td>\n",
       "      <td>Latest Exclusive Affordable Collection of Tren...</td>\n",
       "      <td>₹279</td>\n",
       "    </tr>\n",
       "    <tr>\n",
       "      <th>2</th>\n",
       "      <td>Labbin</td>\n",
       "      <td>Sneakers For Men</td>\n",
       "      <td>₹349</td>\n",
       "    </tr>\n",
       "    <tr>\n",
       "      <th>3</th>\n",
       "      <td>PUMA</td>\n",
       "      <td>Buzz Sneakers For Men</td>\n",
       "      <td>₹1,149</td>\n",
       "    </tr>\n",
       "    <tr>\n",
       "      <th>4</th>\n",
       "      <td>asian</td>\n",
       "      <td>Thunder-01 White Color Change Sneakers,Casuals...</td>\n",
       "      <td>₹714</td>\n",
       "    </tr>\n",
       "    <tr>\n",
       "      <th>...</th>\n",
       "      <td>...</td>\n",
       "      <td>...</td>\n",
       "      <td>...</td>\n",
       "    </tr>\n",
       "    <tr>\n",
       "      <th>95</th>\n",
       "      <td>PUMA</td>\n",
       "      <td>2 Combo Sneaker Shoes Sneakers For Men</td>\n",
       "      <td>₹4,421</td>\n",
       "    </tr>\n",
       "    <tr>\n",
       "      <th>96</th>\n",
       "      <td>Krors</td>\n",
       "      <td>Sneakers For Women</td>\n",
       "      <td>₹599</td>\n",
       "    </tr>\n",
       "    <tr>\n",
       "      <th>97</th>\n",
       "      <td>BRUTON</td>\n",
       "      <td>HRXLB-2B Sneakers For Men</td>\n",
       "      <td>₹399</td>\n",
       "    </tr>\n",
       "    <tr>\n",
       "      <th>98</th>\n",
       "      <td>Kraasa</td>\n",
       "      <td>Sneakers For Men</td>\n",
       "      <td>₹299</td>\n",
       "    </tr>\n",
       "    <tr>\n",
       "      <th>99</th>\n",
       "      <td>HRX by Hrithik Roshan</td>\n",
       "      <td>Sneakers For Men</td>\n",
       "      <td>₹1,109</td>\n",
       "    </tr>\n",
       "  </tbody>\n",
       "</table>\n",
       "<p>100 rows × 3 columns</p>\n",
       "</div>"
      ],
      "text/plain": [
       "                    Brand                                 ProductDescription  \\\n",
       "0            K- FOOTLANCE                                   Sneakers For Men   \n",
       "1     World Wear Footwear  Latest Exclusive Affordable Collection of Tren...   \n",
       "2                  Labbin                                   Sneakers For Men   \n",
       "3                    PUMA                              Buzz Sneakers For Men   \n",
       "4                   asian  Thunder-01 White Color Change Sneakers,Casuals...   \n",
       "..                    ...                                                ...   \n",
       "95                   PUMA             2 Combo Sneaker Shoes Sneakers For Men   \n",
       "96                  Krors                                 Sneakers For Women   \n",
       "97                 BRUTON                          HRXLB-2B Sneakers For Men   \n",
       "98                 Kraasa                                   Sneakers For Men   \n",
       "99  HRX by Hrithik Roshan                                   Sneakers For Men   \n",
       "\n",
       "     Price  \n",
       "0     ₹299  \n",
       "1     ₹279  \n",
       "2     ₹349  \n",
       "3   ₹1,149  \n",
       "4     ₹714  \n",
       "..     ...  \n",
       "95  ₹4,421  \n",
       "96    ₹599  \n",
       "97    ₹399  \n",
       "98    ₹299  \n",
       "99  ₹1,109  \n",
       "\n",
       "[100 rows x 3 columns]"
      ]
     },
     "execution_count": 144,
     "metadata": {},
     "output_type": "execute_result"
    }
   ],
   "source": [
    "df5"
   ]
  },
  {
   "cell_type": "code",
   "execution_count": 145,
   "id": "824d878f",
   "metadata": {},
   "outputs": [],
   "source": [
    "driver6.close()"
   ]
  },
  {
   "cell_type": "markdown",
   "id": "e1b8e76e",
   "metadata": {},
   "source": [
    "# Q7: Go to webpage https://www.amazon.in/ Enter “Laptop” in the search field and then click the search icon. \n"
   ]
  },
  {
   "cell_type": "code",
   "execution_count": 148,
   "id": "5c06190f",
   "metadata": {},
   "outputs": [],
   "source": [
    "driver7= webdriver.Chrome(r\"chromedriver.exe\")"
   ]
  },
  {
   "cell_type": "code",
   "execution_count": 149,
   "id": "7cfddf2e",
   "metadata": {},
   "outputs": [],
   "source": [
    "url=\" https://www.amazon.in \"\n",
    "driver7.get(url)"
   ]
  },
  {
   "cell_type": "code",
   "execution_count": 150,
   "id": "b0ef8c08",
   "metadata": {},
   "outputs": [],
   "source": [
    "prod= driver7.find_element(By.XPATH,\"//input[@type='text']\")\n",
    "prod.send_keys('Laptop')"
   ]
  },
  {
   "cell_type": "code",
   "execution_count": 153,
   "id": "ba02f59b",
   "metadata": {},
   "outputs": [],
   "source": [
    "btn =driver7.find_element(By.XPATH, '//input[@id=\"nav-search-submit-button\"]')\n",
    "btn.click()"
   ]
  },
  {
   "cell_type": "markdown",
   "id": "355abab3",
   "metadata": {},
   "source": [
    "Filter not understand not able to take path"
   ]
  },
  {
   "cell_type": "code",
   "execution_count": 158,
   "id": "740f1a36",
   "metadata": {},
   "outputs": [],
   "source": [
    "Title = []\n",
    "Ratings = []\n",
    "Price = []"
   ]
  },
  {
   "cell_type": "code",
   "execution_count": 159,
   "id": "bc6d403b",
   "metadata": {},
   "outputs": [],
   "source": [
    "titles = driver7.find_elements(By.XPATH, '//h2[@class=\"a-size-mini a-spacing-none a-color-base s-line-clamp-2\"]') \n",
    "\n",
    "for i in titles[0:10]: \n",
    "    tag = i.text  \n",
    "    Title.append(tag)\n",
    "\n",
    "\n",
    "#Scraping Job location from given page\n",
    "rating = driver7.find_elements(By.XPATH, '//span[@class=\"a-icon-alt\"]') \n",
    "\n",
    "for j in rating[0:10]:  \n",
    "    r1 = j.text\n",
    "    Ratings.append(r1)\n",
    "    \n",
    "#Scraping company name   \n",
    "price = driver7.find_elements(By.XPATH, '//span[@class=\"a-price-whole\"]')  \n",
    "\n",
    "for k in price[0:10]:  \n",
    "    p = k.text  \n",
    "    Price.append(p)"
   ]
  },
  {
   "cell_type": "markdown",
   "id": "1705fc50",
   "metadata": {},
   "source": [
    "# Q8:Write a python program to scrape data for Top 1000 Quotes of All Time.\n"
   ]
  },
  {
   "cell_type": "code",
   "execution_count": 251,
   "id": "e4e9fc01",
   "metadata": {},
   "outputs": [],
   "source": [
    "driver8= webdriver.Chrome(r\"chromedriver.exe\")\n",
    "\n",
    "#open wesite which want to scrap\n",
    "url=\"http://www.azquotes.com\"\n",
    "driver8.get(url)"
   ]
  },
  {
   "cell_type": "code",
   "execution_count": 252,
   "id": "db4a1671",
   "metadata": {},
   "outputs": [],
   "source": [
    "# Click on the \"Top Quotes\" link\n",
    "top_quotes_link = driver8.find_element(By.LINK_TEXT, 'TOP QUOTES')\n",
    "top_quotes_link.click()"
   ]
  },
  {
   "cell_type": "code",
   "execution_count": 253,
   "id": "29a12871",
   "metadata": {},
   "outputs": [],
   "source": [
    "Quotes = []\n",
    "Author = []\n",
    "Type_of_quote = []"
   ]
  },
  {
   "cell_type": "code",
   "execution_count": 264,
   "id": "1cf00269",
   "metadata": {},
   "outputs": [],
   "source": [
    "quotes = driver8.find_elements(By.XPATH, '//a[@class =\"title\"]')\n",
    "for i in quotes:\n",
    "    quo = i.text\n",
    "    Quotes.append(quo)\n",
    "\n",
    "        #author\n",
    "author = driver8.find_elements(By.XPATH, '//div[@class=\"author\"]')\n",
    "for j in author:\n",
    "    auth = j.text\n",
    "    Author.append(auth)\n",
    "\n",
    "    #type of quotes\n",
    "quote_type = driver8.find_elements(By.XPATH, '//div[@class=\"tags\"]')\n",
    "for k in quote_type:\n",
    "    ty = k.text\n",
    "    Type_of_quote.append(ty)\n"
   ]
  },
  {
   "cell_type": "code",
   "execution_count": 265,
   "id": "d9df2529",
   "metadata": {},
   "outputs": [
    {
     "name": "stdout",
     "output_type": "stream",
     "text": [
      "1100 1100 1100\n"
     ]
    }
   ],
   "source": [
    "print(len(Quotes),len(Author),len(Type_of_quote))"
   ]
  },
  {
   "cell_type": "code",
   "execution_count": 266,
   "id": "87550951",
   "metadata": {},
   "outputs": [],
   "source": [
    "# create df\n",
    "df8 = pd.DataFrame({})\n",
    "df8['Quotes']=Quotes[:1000]\n",
    "df8['Author Names']=Author[:1000]\n",
    "df8['Types of quote']=Type_of_quote[:1000]"
   ]
  },
  {
   "cell_type": "code",
   "execution_count": 267,
   "id": "884ac6bc",
   "metadata": {},
   "outputs": [
    {
     "data": {
      "text/html": [
       "<div>\n",
       "<style scoped>\n",
       "    .dataframe tbody tr th:only-of-type {\n",
       "        vertical-align: middle;\n",
       "    }\n",
       "\n",
       "    .dataframe tbody tr th {\n",
       "        vertical-align: top;\n",
       "    }\n",
       "\n",
       "    .dataframe thead th {\n",
       "        text-align: right;\n",
       "    }\n",
       "</style>\n",
       "<table border=\"1\" class=\"dataframe\">\n",
       "  <thead>\n",
       "    <tr style=\"text-align: right;\">\n",
       "      <th></th>\n",
       "      <th>Quotes</th>\n",
       "      <th>Author Names</th>\n",
       "      <th>Types of quote</th>\n",
       "    </tr>\n",
       "  </thead>\n",
       "  <tbody>\n",
       "    <tr>\n",
       "      <th>0</th>\n",
       "      <td>The essence of strategy is choosing what not t...</td>\n",
       "      <td>Michael Porter</td>\n",
       "      <td>Essence, Deep Thought, Transcendentalism</td>\n",
       "    </tr>\n",
       "    <tr>\n",
       "      <th>1</th>\n",
       "      <td>One cannot and must not try to erase the past ...</td>\n",
       "      <td>Golda Meir</td>\n",
       "      <td>Inspiration, Past, Trying</td>\n",
       "    </tr>\n",
       "    <tr>\n",
       "      <th>2</th>\n",
       "      <td>Patriotism means to stand by the country. It d...</td>\n",
       "      <td>Theodore Roosevelt</td>\n",
       "      <td>Country, Peace, War</td>\n",
       "    </tr>\n",
       "    <tr>\n",
       "      <th>3</th>\n",
       "      <td>Death is something inevitable. When a man has ...</td>\n",
       "      <td>Nelson Mandela</td>\n",
       "      <td>Inspirational, Motivational, Death</td>\n",
       "    </tr>\n",
       "    <tr>\n",
       "      <th>4</th>\n",
       "      <td>You have to love a nation that celebrates its ...</td>\n",
       "      <td>Erma Bombeck</td>\n",
       "      <td>4th Of July, Food, Patriotic</td>\n",
       "    </tr>\n",
       "    <tr>\n",
       "      <th>...</th>\n",
       "      <td>...</td>\n",
       "      <td>...</td>\n",
       "      <td>...</td>\n",
       "    </tr>\n",
       "    <tr>\n",
       "      <th>995</th>\n",
       "      <td>When the going gets weird, the weird turn pro.</td>\n",
       "      <td>Hunter S. Thompson</td>\n",
       "      <td>Music, Sports, Hunting</td>\n",
       "    </tr>\n",
       "    <tr>\n",
       "      <th>996</th>\n",
       "      <td>When a train goes through a tunnel and it gets...</td>\n",
       "      <td>Corrie Ten Boom</td>\n",
       "      <td>Trust, Encouraging, Uplifting</td>\n",
       "    </tr>\n",
       "    <tr>\n",
       "      <th>997</th>\n",
       "      <td>If you think you are too small to make a diffe...</td>\n",
       "      <td>Dalai Lama</td>\n",
       "      <td>Inspirational, Funny, Change</td>\n",
       "    </tr>\n",
       "    <tr>\n",
       "      <th>998</th>\n",
       "      <td>God doesn't require us to succeed, he only req...</td>\n",
       "      <td>Mother Teresa</td>\n",
       "      <td>Success, God, Mother</td>\n",
       "    </tr>\n",
       "    <tr>\n",
       "      <th>999</th>\n",
       "      <td>Change your thoughts and you change your world.</td>\n",
       "      <td>Norman Vincent Peale</td>\n",
       "      <td>Inspirational, Motivational, Change</td>\n",
       "    </tr>\n",
       "  </tbody>\n",
       "</table>\n",
       "<p>1000 rows × 3 columns</p>\n",
       "</div>"
      ],
      "text/plain": [
       "                                                Quotes          Author Names  \\\n",
       "0    The essence of strategy is choosing what not t...        Michael Porter   \n",
       "1    One cannot and must not try to erase the past ...            Golda Meir   \n",
       "2    Patriotism means to stand by the country. It d...    Theodore Roosevelt   \n",
       "3    Death is something inevitable. When a man has ...        Nelson Mandela   \n",
       "4    You have to love a nation that celebrates its ...          Erma Bombeck   \n",
       "..                                                 ...                   ...   \n",
       "995     When the going gets weird, the weird turn pro.    Hunter S. Thompson   \n",
       "996  When a train goes through a tunnel and it gets...       Corrie Ten Boom   \n",
       "997  If you think you are too small to make a diffe...            Dalai Lama   \n",
       "998  God doesn't require us to succeed, he only req...         Mother Teresa   \n",
       "999    Change your thoughts and you change your world.  Norman Vincent Peale   \n",
       "\n",
       "                               Types of quote  \n",
       "0    Essence, Deep Thought, Transcendentalism  \n",
       "1                   Inspiration, Past, Trying  \n",
       "2                         Country, Peace, War  \n",
       "3          Inspirational, Motivational, Death  \n",
       "4                4th Of July, Food, Patriotic  \n",
       "..                                        ...  \n",
       "995                    Music, Sports, Hunting  \n",
       "996             Trust, Encouraging, Uplifting  \n",
       "997              Inspirational, Funny, Change  \n",
       "998                      Success, God, Mother  \n",
       "999       Inspirational, Motivational, Change  \n",
       "\n",
       "[1000 rows x 3 columns]"
      ]
     },
     "execution_count": 267,
     "metadata": {},
     "output_type": "execute_result"
    }
   ],
   "source": [
    "df8"
   ]
  },
  {
   "cell_type": "code",
   "execution_count": 250,
   "id": "87794388",
   "metadata": {},
   "outputs": [],
   "source": []
  },
  {
   "cell_type": "markdown",
   "id": "39f7bd8c",
   "metadata": {},
   "source": [
    "# Q9: Write a python program to display list of respected former Prime Ministers of India"
   ]
  },
  {
   "cell_type": "code",
   "execution_count": 219,
   "id": "c2180ff0",
   "metadata": {},
   "outputs": [],
   "source": [
    "# from selenium import webdriver\n",
    "\n",
    "from selenium.webdriver.chrome.service import Service\n",
    "\n",
    "driver =webdriver.Chrome(r\"chromedriver.exe\")\n",
    "\n",
    "#  Get the webpage\n",
    "url = \"https://www.jagranjosh.com/\"\n",
    "driver.get(url)\n"
   ]
  },
  {
   "cell_type": "code",
   "execution_count": 220,
   "id": "71f378a9",
   "metadata": {},
   "outputs": [],
   "source": [
    "# Click on the GK option\n",
    "\n",
    "gk_link = WebDriverWait(driver, 10).until(EC.presence_of_element_located((By.XPATH, '//a[contains(text(), \"GK\")]')))\n",
    "driver.execute_script(\"arguments[0].click();\", gk_link)\n"
   ]
  },
  {
   "cell_type": "code",
   "execution_count": 221,
   "id": "f05f6e0e",
   "metadata": {},
   "outputs": [],
   "source": [
    "# Click on the List of all Prime Ministers of India\n",
    "pm_link = WebDriverWait(driver, 10).until(EC.presence_of_element_located((By.LINK_TEXT, 'List of all Prime Ministers of India')))\n",
    "driver.execute_script(\"arguments[0].scrollIntoView(true);\", pm_link)\n",
    "driver.execute_script(\"arguments[0].click();\", pm_link)\n"
   ]
  },
  {
   "cell_type": "code",
   "execution_count": 222,
   "id": "39a8ef96",
   "metadata": {},
   "outputs": [],
   "source": [
    "#create empty lists to store data\n",
    "Name =[]\n",
    "Born_Dead = []\n",
    "Term = []\n",
    "Remark = []"
   ]
  },
  {
   "cell_type": "code",
   "execution_count": 223,
   "id": "09e49937",
   "metadata": {},
   "outputs": [],
   "source": [
    "#scrap data from table of webpage\n",
    "\n",
    "table = driver.find_element(By.CSS_SELECTOR, '.table-box')\n",
    "rows = table.find_elements(By.TAG_NAME, 'tr')\n",
    "for row in rows[1:]:  # Skipping the header row\n",
    "    columns = row.find_elements(By.TAG_NAME, 'td')\n",
    "    name = columns[1].text.strip()\n",
    "    Name.append(name)\n",
    "    born_dead = columns[2].text.strip()\n",
    "    Born_Dead.append(born_dead)\n",
    "    term = columns[3].text.strip()\n",
    "    Term.append(term)\n",
    "    remarks = columns[0].text.strip()\n",
    "    Remark.append(remarks)\n",
    "  \n"
   ]
  },
  {
   "cell_type": "code",
   "execution_count": 224,
   "id": "66ff3f05",
   "metadata": {},
   "outputs": [],
   "source": [
    "df = pd.DataFrame({'Name':Name[:10],'Born_Dead':Born_Dead[:10],'Term':Term[10],'Remark':Remark[:10]})"
   ]
  },
  {
   "cell_type": "code",
   "execution_count": 225,
   "id": "67246a48",
   "metadata": {},
   "outputs": [
    {
     "data": {
      "text/html": [
       "<div>\n",
       "<style scoped>\n",
       "    .dataframe tbody tr th:only-of-type {\n",
       "        vertical-align: middle;\n",
       "    }\n",
       "\n",
       "    .dataframe tbody tr th {\n",
       "        vertical-align: top;\n",
       "    }\n",
       "\n",
       "    .dataframe thead th {\n",
       "        text-align: right;\n",
       "    }\n",
       "</style>\n",
       "<table border=\"1\" class=\"dataframe\">\n",
       "  <thead>\n",
       "    <tr style=\"text-align: right;\">\n",
       "      <th></th>\n",
       "      <th>Name</th>\n",
       "      <th>Born_Dead</th>\n",
       "      <th>Term</th>\n",
       "      <th>Remark</th>\n",
       "    </tr>\n",
       "  </thead>\n",
       "  <tbody>\n",
       "    <tr>\n",
       "      <th>0</th>\n",
       "      <td>Jawahar Lal Nehru</td>\n",
       "      <td>(1889–1964)</td>\n",
       "      <td>10 November 1990 to 21 June 1991\\n223 days</td>\n",
       "      <td>1.</td>\n",
       "    </tr>\n",
       "    <tr>\n",
       "      <th>1</th>\n",
       "      <td>Gulzarilal Nanda (Acting)</td>\n",
       "      <td>(1898-1998)</td>\n",
       "      <td>10 November 1990 to 21 June 1991\\n223 days</td>\n",
       "      <td>2.</td>\n",
       "    </tr>\n",
       "    <tr>\n",
       "      <th>2</th>\n",
       "      <td>Lal Bahadur Shastri</td>\n",
       "      <td>(1904–1966)</td>\n",
       "      <td>10 November 1990 to 21 June 1991\\n223 days</td>\n",
       "      <td>3.</td>\n",
       "    </tr>\n",
       "    <tr>\n",
       "      <th>3</th>\n",
       "      <td>Gulzari Lal Nanda  (Acting)</td>\n",
       "      <td>(1898-1998)</td>\n",
       "      <td>10 November 1990 to 21 June 1991\\n223 days</td>\n",
       "      <td>4.</td>\n",
       "    </tr>\n",
       "    <tr>\n",
       "      <th>4</th>\n",
       "      <td>Indira Gandhi</td>\n",
       "      <td>(1917–1984)</td>\n",
       "      <td>10 November 1990 to 21 June 1991\\n223 days</td>\n",
       "      <td>5.</td>\n",
       "    </tr>\n",
       "    <tr>\n",
       "      <th>5</th>\n",
       "      <td>Morarji Desai</td>\n",
       "      <td>(1896–1995)</td>\n",
       "      <td>10 November 1990 to 21 June 1991\\n223 days</td>\n",
       "      <td>6.</td>\n",
       "    </tr>\n",
       "    <tr>\n",
       "      <th>6</th>\n",
       "      <td>Charan Singh</td>\n",
       "      <td>(1902–1987)</td>\n",
       "      <td>10 November 1990 to 21 June 1991\\n223 days</td>\n",
       "      <td>7.</td>\n",
       "    </tr>\n",
       "    <tr>\n",
       "      <th>7</th>\n",
       "      <td>Indira Gandhi</td>\n",
       "      <td>(1917–1984)</td>\n",
       "      <td>10 November 1990 to 21 June 1991\\n223 days</td>\n",
       "      <td>8.</td>\n",
       "    </tr>\n",
       "    <tr>\n",
       "      <th>8</th>\n",
       "      <td>Rajiv Gandhi</td>\n",
       "      <td>(1944–1991)</td>\n",
       "      <td>10 November 1990 to 21 June 1991\\n223 days</td>\n",
       "      <td>9.</td>\n",
       "    </tr>\n",
       "    <tr>\n",
       "      <th>9</th>\n",
       "      <td>V. P. Singh</td>\n",
       "      <td>(1931–2008)</td>\n",
       "      <td>10 November 1990 to 21 June 1991\\n223 days</td>\n",
       "      <td>10.</td>\n",
       "    </tr>\n",
       "  </tbody>\n",
       "</table>\n",
       "</div>"
      ],
      "text/plain": [
       "                          Name    Born_Dead  \\\n",
       "0            Jawahar Lal Nehru  (1889–1964)   \n",
       "1    Gulzarilal Nanda (Acting)  (1898-1998)   \n",
       "2          Lal Bahadur Shastri  (1904–1966)   \n",
       "3  Gulzari Lal Nanda  (Acting)  (1898-1998)   \n",
       "4                Indira Gandhi  (1917–1984)   \n",
       "5                Morarji Desai  (1896–1995)   \n",
       "6                 Charan Singh  (1902–1987)   \n",
       "7                Indira Gandhi  (1917–1984)   \n",
       "8                 Rajiv Gandhi  (1944–1991)   \n",
       "9                  V. P. Singh  (1931–2008)   \n",
       "\n",
       "                                         Term Remark  \n",
       "0  10 November 1990 to 21 June 1991\\n223 days     1.  \n",
       "1  10 November 1990 to 21 June 1991\\n223 days     2.  \n",
       "2  10 November 1990 to 21 June 1991\\n223 days     3.  \n",
       "3  10 November 1990 to 21 June 1991\\n223 days     4.  \n",
       "4  10 November 1990 to 21 June 1991\\n223 days     5.  \n",
       "5  10 November 1990 to 21 June 1991\\n223 days     6.  \n",
       "6  10 November 1990 to 21 June 1991\\n223 days     7.  \n",
       "7  10 November 1990 to 21 June 1991\\n223 days     8.  \n",
       "8  10 November 1990 to 21 June 1991\\n223 days     9.  \n",
       "9  10 November 1990 to 21 June 1991\\n223 days    10.  "
      ]
     },
     "execution_count": 225,
     "metadata": {},
     "output_type": "execute_result"
    }
   ],
   "source": [
    "df"
   ]
  },
  {
   "cell_type": "code",
   "execution_count": 226,
   "id": "eb014022",
   "metadata": {},
   "outputs": [],
   "source": [
    "driver.close()"
   ]
  },
  {
   "cell_type": "markdown",
   "id": "f8012349",
   "metadata": {},
   "source": [
    "# Q10 Write a python program to display list of 50 Most expensive cars in the world "
   ]
  },
  {
   "cell_type": "code",
   "execution_count": 171,
   "id": "5296373f",
   "metadata": {},
   "outputs": [],
   "source": [
    "import requests\n",
    "from bs4 import BeautifulSoup\n",
    "import pandas as pd\n",
    "\n",
    "#  Get the webpage\n",
    "url = \"https://www.motor1.com/\"\n",
    "response = requests.get(url)\n",
    "soup = BeautifulSoup(response.text, 'html.parser')\n",
    "\n"
   ]
  },
  {
   "cell_type": "code",
   "execution_count": 176,
   "id": "01b7ed98",
   "metadata": {},
   "outputs": [],
   "source": [
    "#  Search for '50 most expensive cars' using URL parameter\n",
    "search_url = \"https://www.motor1.com/features/456017/most-expensive-cars-in-the-world/\"\n",
    "response = requests.get(search_url)\n",
    "soup = BeautifulSoup(response.text, 'html.parser')\n"
   ]
  },
  {
   "cell_type": "code",
   "execution_count": 177,
   "id": "66414170",
   "metadata": {},
   "outputs": [],
   "source": [
    "#  Scraping the data and creating the dataframe\n",
    "car_list = []\n",
    "price_list = []"
   ]
  },
  {
   "cell_type": "code",
   "execution_count": 178,
   "id": "3b6bc860",
   "metadata": {},
   "outputs": [],
   "source": [
    "cars = soup.find_all('div', {'class': 'gallery-item__body'})\n",
    "for car in cars:\n",
    "    name = car.find('h3').text.strip()\n",
    "    price = car.find('span', {'class': 'price'}).text.strip()\n",
    "    car_list.append(name)\n",
    "    price_list.append(price)"
   ]
  },
  {
   "cell_type": "code",
   "execution_count": 179,
   "id": "f40d3c04",
   "metadata": {},
   "outputs": [
    {
     "data": {
      "text/html": [
       "<div>\n",
       "<style scoped>\n",
       "    .dataframe tbody tr th:only-of-type {\n",
       "        vertical-align: middle;\n",
       "    }\n",
       "\n",
       "    .dataframe tbody tr th {\n",
       "        vertical-align: top;\n",
       "    }\n",
       "\n",
       "    .dataframe thead th {\n",
       "        text-align: right;\n",
       "    }\n",
       "</style>\n",
       "<table border=\"1\" class=\"dataframe\">\n",
       "  <thead>\n",
       "    <tr style=\"text-align: right;\">\n",
       "      <th></th>\n",
       "      <th>Car Name</th>\n",
       "      <th>Price</th>\n",
       "    </tr>\n",
       "  </thead>\n",
       "  <tbody>\n",
       "  </tbody>\n",
       "</table>\n",
       "</div>"
      ],
      "text/plain": [
       "Empty DataFrame\n",
       "Columns: [Car Name, Price]\n",
       "Index: []"
      ]
     },
     "execution_count": 179,
     "metadata": {},
     "output_type": "execute_result"
    }
   ],
   "source": [
    "df = pd.DataFrame({'Car Name': car_list, 'Price': price_list})\n",
    "df\n"
   ]
  },
  {
   "cell_type": "code",
   "execution_count": null,
   "id": "b6a6664c",
   "metadata": {},
   "outputs": [],
   "source": []
  },
  {
   "cell_type": "code",
   "execution_count": null,
   "id": "fa3122e9",
   "metadata": {},
   "outputs": [],
   "source": []
  },
  {
   "cell_type": "code",
   "execution_count": null,
   "id": "b6f5805e",
   "metadata": {},
   "outputs": [],
   "source": []
  },
  {
   "cell_type": "code",
   "execution_count": null,
   "id": "3fc50c86",
   "metadata": {},
   "outputs": [],
   "source": []
  },
  {
   "cell_type": "code",
   "execution_count": null,
   "id": "9a88bb11",
   "metadata": {},
   "outputs": [],
   "source": []
  },
  {
   "cell_type": "code",
   "execution_count": null,
   "id": "4555e904",
   "metadata": {},
   "outputs": [],
   "source": []
  }
 ],
 "metadata": {
  "kernelspec": {
   "display_name": "Python 3 (ipykernel)",
   "language": "python",
   "name": "python3"
  },
  "language_info": {
   "codemirror_mode": {
    "name": "ipython",
    "version": 3
   },
   "file_extension": ".py",
   "mimetype": "text/x-python",
   "name": "python",
   "nbconvert_exporter": "python",
   "pygments_lexer": "ipython3",
   "version": "3.9.13"
  }
 },
 "nbformat": 4,
 "nbformat_minor": 5
}
